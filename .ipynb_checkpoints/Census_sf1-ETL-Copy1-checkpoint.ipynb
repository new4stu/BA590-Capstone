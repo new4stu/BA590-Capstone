{
 "cells": [
  {
   "cell_type": "code",
   "execution_count": 52,
   "metadata": {},
   "outputs": [],
   "source": [
    "# Import Census data and Geographies\n",
    "# List of Geographies and codes: https://jtleider.github.io/censusdata/geographies.html\n",
    "\n",
    "from census import Census\n",
    "from us import states\n",
    "\n",
    "# importing additional libraries\n",
    "import numpy as np\n",
    "import pandas as pd\n",
    "import matplotlib.pyplot as plt\n",
    "import seaborn as sns\n",
    "sns.set()\n",
    "import sklearn\n",
    "\n",
    "#  importing the censusdata and pandas modules, and setting some display options in pandas\n",
    "\n",
    "import pandas as pd\n",
    "import censusdata\n",
    "pd.set_option('display.expand_frame_repr', False)\n",
    "pd.set_option('display.precision', 2)\n",
    "\n",
    "c = Census(\"c99084947ed68bfbd3d7359ba2340346f7984e60\")\n",
    "c.sf1.tables()\n"
   ]
  },
  {
   "cell_type": "code",
   "execution_count": 51,
   "metadata": {},
   "outputs": [
    {
     "name": "stdout",
     "output_type": "stream",
     "text": [
      "AL\n",
      "AK\n",
      "AZ\n",
      "AR\n",
      "CA\n",
      "CO\n",
      "CT\n",
      "DE\n",
      "FL\n",
      "GA\n",
      "HI\n",
      "ID\n",
      "IL\n",
      "IN\n",
      "IA\n",
      "KS\n",
      "KY\n",
      "LA\n",
      "ME\n",
      "MD\n",
      "MA\n",
      "MI\n",
      "MN\n",
      "MS\n",
      "MO\n",
      "MT\n",
      "NE\n",
      "NV\n",
      "NH\n",
      "NJ\n",
      "NM\n",
      "NY\n",
      "NC\n",
      "ND\n",
      "OH\n",
      "OK\n",
      "OR\n",
      "PA\n",
      "RI\n",
      "SC\n",
      "SD\n",
      "TN\n",
      "TX\n",
      "UT\n",
      "VT\n",
      "VA\n",
      "WA\n",
      "WV\n",
      "WI\n",
      "WY\n"
     ]
    },
    {
     "ename": "AttributeError",
     "evalue": "module 'us.states' has no attribute 'States'",
     "output_type": "error",
     "traceback": [
      "\u001b[0;31m---------------------------------------------------------------------------\u001b[0m",
      "\u001b[0;31mAttributeError\u001b[0m                            Traceback (most recent call last)",
      "\u001b[0;32m<ipython-input-51-5b9c47115335>\u001b[0m in \u001b[0;36m<module>\u001b[0;34m()\u001b[0m\n\u001b[1;32m     26\u001b[0m     \u001b[0mprint\u001b[0m\u001b[0;34m(\u001b[0m\u001b[0ms\u001b[0m\u001b[0;34m)\u001b[0m\u001b[0;34m\u001b[0m\u001b[0m\n\u001b[1;32m     27\u001b[0m \u001b[0;34m\u001b[0m\u001b[0m\n\u001b[0;32m---> 28\u001b[0;31m \u001b[0mc\u001b[0m\u001b[0;34m.\u001b[0m\u001b[0msf1\u001b[0m\u001b[0;34m.\u001b[0m\u001b[0mstate_zipcode\u001b[0m\u001b[0;34m(\u001b[0m\u001b[0;34m(\u001b[0m\u001b[0;34m'NAME'\u001b[0m\u001b[0;34m,\u001b[0m \u001b[0;34m'P003001'\u001b[0m\u001b[0;34m,\u001b[0m\u001b[0;34m'P003002'\u001b[0m\u001b[0;34m,\u001b[0m \u001b[0;34m'P003003'\u001b[0m\u001b[0;34m,\u001b[0m\u001b[0;34m'P003004'\u001b[0m\u001b[0;34m,\u001b[0m \u001b[0;34m'P003005'\u001b[0m\u001b[0;34m,\u001b[0m \u001b[0;34m'P003006'\u001b[0m\u001b[0;34m,\u001b[0m \u001b[0;34m'P003007'\u001b[0m\u001b[0;34m,\u001b[0m\u001b[0;34m'P003008'\u001b[0m\u001b[0;34m,\u001b[0m \u001b[0;34m'P004002'\u001b[0m\u001b[0;34m,\u001b[0m \u001b[0;34m'P013001'\u001b[0m\u001b[0;34m,\u001b[0m \u001b[0;34m'P013002'\u001b[0m\u001b[0;34m,\u001b[0m \u001b[0;34m'P013003'\u001b[0m\u001b[0;34m,\u001b[0m \u001b[0;34m'P015001'\u001b[0m\u001b[0;34m,\u001b[0m\u001b[0;34m'P017001'\u001b[0m\u001b[0;34m,\u001b[0m \u001b[0;34m'P031001'\u001b[0m\u001b[0;34m)\u001b[0m\u001b[0;34m,\u001b[0m\u001b[0mstates\u001b[0m\u001b[0;34m.\u001b[0m\u001b[0mStates\u001b[0m\u001b[0;34m.\u001b[0m\u001b[0mfips\u001b[0m\u001b[0;34m,\u001b[0m \u001b[0mCensus\u001b[0m\u001b[0;34m.\u001b[0m\u001b[0mALL\u001b[0m\u001b[0;34m)\u001b[0m\u001b[0;34m\u001b[0m\u001b[0m\n\u001b[0m\u001b[1;32m     29\u001b[0m \u001b[0;34m\u001b[0m\u001b[0m\n\u001b[1;32m     30\u001b[0m \u001b[0;31m#c.sf1.state_zipcode(('NAME', 'P003001','P003002', 'P003003','P003004', 'P003005', 'P003006', 'P003007','P003008', 'P004002', 'P013001', 'P013002', 'P013003', 'P015001','P017001', 'P031001'),states.CT.fips, Census.ALL)\u001b[0m\u001b[0;34m\u001b[0m\u001b[0;34m\u001b[0m\u001b[0m\n",
      "\u001b[0;31mAttributeError\u001b[0m: module 'us.states' has no attribute 'States'"
     ]
    }
   ],
   "source": [
    "# Count of Single Race Households by Zip\n",
    "    #P003001 Total poulation\n",
    "    #P003002 Population of one race\n",
    "    #P003003 White alone\n",
    "    #P003004 Black or African American alone\n",
    "    #P003005 American Indian and Alaska Native alone\n",
    "    #P003006 Asian alone\n",
    "    #P003007 Native Hawaiian and Other Pacific Islander alone\n",
    "    #P003008 Some other race alone\n",
    "    #P004002 Hispanic or Latino\n",
    "    #P013001 Both sexes MEDIAN AGE BY SEX\n",
    "    #P013002 Male MEDIAN AGE BY SEX\n",
    "    #P013003 Female MEDIAN AGE BY SEX\n",
    "    #P015001 Total HOUSEHOLDS\n",
    "    #P017001 Average household size \n",
    "    #P031001 Total FAMILIES\n",
    "    \n",
    "# ZIP Code Tabulation Area (ZCTA)\n",
    "\n",
    "States = ['AL', 'AK', 'AZ', 'AR', 'CA', 'CO', 'CT', 'DE', 'FL', 'GA', 'HI', 'ID', 'IL', 'IN', 'IA', 'KS', 'KY', 'LA', 'ME', 'MD', 'MA', 'MI', 'MN', 'MS', 'MO', 'MT', 'NE', 'NV', 'NH', 'NJ', 'NM', 'NY', 'NC', 'ND', 'OH', 'OK', 'OR', 'PA', 'RI', 'SC', 'SD', 'TN', 'TX', 'UT', 'VT', 'VA', 'WA', 'WV', 'WI', 'WY'\n",
    ", 'ZZ']\n",
    "\n",
    "for s in States:\n",
    "    if s == 'ZZ':\n",
    "        break\n",
    "    print(s)\n",
    "\n",
    "c.sf1.state_zipcode(('NAME', 'P003001','P003002', 'P003003','P003004', 'P003005', 'P003006', 'P003007','P003008', 'P004002', 'P013001', 'P013002', 'P013003', 'P015001','P017001', 'P031001'),states.States.fips, Census.ALL)\n",
    "\n",
    "#c.sf1.state_zipcode(('NAME', 'P003001','P003002', 'P003003','P003004', 'P003005', 'P003006', 'P003007','P003008', 'P004002', 'P013001', 'P013002', 'P013003', 'P015001','P017001', 'P031001'),states.CT.fips, Census.ALL)\n"
   ]
  },
  {
   "cell_type": "code",
   "execution_count": 26,
   "metadata": {},
   "outputs": [
    {
     "ename": "NameError",
     "evalue": "name 'csv' is not defined",
     "output_type": "error",
     "traceback": [
      "\u001b[0;31m---------------------------------------------------------------------------\u001b[0m",
      "\u001b[0;31mNameError\u001b[0m                                 Traceback (most recent call last)",
      "\u001b[0;32m<ipython-input-26-7af286320fc0>\u001b[0m in \u001b[0;36m<module>\u001b[0;34m()\u001b[0m\n\u001b[1;32m      1\u001b[0m \u001b[0;31m# create csv file\u001b[0m\u001b[0;34m\u001b[0m\u001b[0;34m\u001b[0m\u001b[0m\n\u001b[1;32m      2\u001b[0m \u001b[0;34m\u001b[0m\u001b[0m\n\u001b[0;32m----> 3\u001b[0;31m \u001b[0mcsv\u001b[0m\u001b[0;34m.\u001b[0m\u001b[0mwrite\u001b[0m\u001b[0;34m(\u001b[0m\u001b[0;34m\"Race-Zip.csv\"\u001b[0m\u001b[0;34m)\u001b[0m\u001b[0;34m\u001b[0m\u001b[0m\n\u001b[0m\u001b[1;32m      4\u001b[0m \u001b[0;34m\u001b[0m\u001b[0m\n\u001b[1;32m      5\u001b[0m \u001b[0;31m#csv.write('ZCTA5', 'P003001','P003002', 'P003003','P003004', 'P003005', 'P003006', 'P003007','P003008', 'P004002')\u001b[0m\u001b[0;34m\u001b[0m\u001b[0;34m\u001b[0m\u001b[0m\n",
      "\u001b[0;31mNameError\u001b[0m: name 'csv' is not defined"
     ]
    }
   ],
   "source": [
    "# create csv file\n",
    "\n",
    "df.to_csv('Race-Zip.csv')\n",
    "Race-Zip = \n",
    "csv.write(\"Race-Zip.csv\")\n",
    "\n",
    "#csv.write('ZCTA5', 'P003001','P003002', 'P003003','P003004', 'P003005', 'P003006', 'P003007','P003008', 'P004002')\n",
    "\n",
    "#dic = {'NAME': }\n",
    "#Race-Zip = \"Race-Zip.csv\"\n",
    "#csv = open(download_dir,\"w\")"
   ]
  },
  {
   "cell_type": "code",
   "execution_count": null,
   "metadata": {},
   "outputs": [],
   "source": []
  }
 ],
 "metadata": {
  "kernelspec": {
   "display_name": "Python 3",
   "language": "python",
   "name": "python3"
  },
  "language_info": {
   "codemirror_mode": {
    "name": "ipython",
    "version": 3
   },
   "file_extension": ".py",
   "mimetype": "text/x-python",
   "name": "python",
   "nbconvert_exporter": "python",
   "pygments_lexer": "ipython3",
   "version": "3.6.5"
  }
 },
 "nbformat": 4,
 "nbformat_minor": 2
}
