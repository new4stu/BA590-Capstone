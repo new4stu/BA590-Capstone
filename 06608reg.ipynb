{
 "cells": [
  {
   "cell_type": "markdown",
   "metadata": {},
   "source": [
    "## Initial EDA\n",
    "\n",
    "load in the data and first look at our target variable\n"
   ]
  },
  {
   "cell_type": "code",
   "execution_count": 1,
   "metadata": {},
   "outputs": [
    {
     "name": "stderr",
     "output_type": "stream",
     "text": [
      "Using TensorFlow backend.\n"
     ]
    }
   ],
   "source": [
    "# standard and modeling imports\n",
    "\n",
    "import pandas as pd\n",
    "import numpy as np\n",
    "import sklearn\n",
    "import matplotlib.pyplot as plt\n",
    "import seaborn as sns\n",
    "import copy\n",
    "#from Modules import *\n",
    "sns.set()\n",
    "%matplotlib inline\n",
    "import imblearn\n",
    "from sklearn.linear_model import LogisticRegression, LogisticRegressionCV\n",
    "from sklearn.metrics import precision_score, recall_score, f1_score, roc_auc_score, confusion_matrix\n",
    "from sklearn.svm import SVC\n",
    "from sklearn.neighbors import KNeighborsClassifier\n",
    "from sklearn.model_selection import train_test_split, cross_val_score,  KFold\n",
    "from sklearn.ensemble import RandomForestClassifier\n",
    "#import xgboost as xgb\n",
    "#from lightgbm import LGBMClassifier\n",
    "#from catboost import CatBoostClassifier\n",
    "from sklearn.tree import DecisionTreeClassifier # Import Decision Tree Classifier\n",
    "from sklearn import metrics #Import scikit-learn metrics module for accuracy calculation\n",
    "from imblearn.over_sampling import SMOTE\n",
    "from sklearn.preprocessing import MinMaxScaler"
   ]
  },
  {
   "cell_type": "code",
   "execution_count": 3,
   "metadata": {},
   "outputs": [
    {
     "data": {
      "text/html": [
       "<div>\n",
       "<style scoped>\n",
       "    .dataframe tbody tr th:only-of-type {\n",
       "        vertical-align: middle;\n",
       "    }\n",
       "\n",
       "    .dataframe tbody tr th {\n",
       "        vertical-align: top;\n",
       "    }\n",
       "\n",
       "    .dataframe thead th {\n",
       "        text-align: right;\n",
       "    }\n",
       "</style>\n",
       "<table border=\"1\" class=\"dataframe\">\n",
       "  <thead>\n",
       "    <tr style=\"text-align: right;\">\n",
       "      <th></th>\n",
       "      <th>Y</th>\n",
       "      <th>Citizen Less than High School  Education</th>\n",
       "      <th>Citizen High School  Graduate</th>\n",
       "      <th>Citizen Some College  Education</th>\n",
       "      <th>Citizen College Degree</th>\n",
       "      <th>Citizen Graduate or Professional Degree</th>\n",
       "      <th>Citizen No Income</th>\n",
       "      <th>Citizen Income $1-$9,999</th>\n",
       "      <th>Citizen Income $10,000-$14,999</th>\n",
       "      <th>Citizen Income $75,000 +</th>\n",
       "      <th>...</th>\n",
       "      <th>White Race</th>\n",
       "      <th>Black Race</th>\n",
       "      <th>Native American Race</th>\n",
       "      <th>Asian Race</th>\n",
       "      <th>Pacific Islander Race</th>\n",
       "      <th>Other Race Alone</th>\n",
       "      <th>Hispanic or Latino</th>\n",
       "      <th>Male Median Age</th>\n",
       "      <th>Female Median Age</th>\n",
       "      <th>Total Households</th>\n",
       "    </tr>\n",
       "  </thead>\n",
       "  <tbody>\n",
       "    <tr>\n",
       "      <th>0</th>\n",
       "      <td>10006372.8</td>\n",
       "      <td>2906</td>\n",
       "      <td>3090</td>\n",
       "      <td>1887</td>\n",
       "      <td>373</td>\n",
       "      <td>88</td>\n",
       "      <td>1670</td>\n",
       "      <td>2648</td>\n",
       "      <td>1062</td>\n",
       "      <td>439</td>\n",
       "      <td>...</td>\n",
       "      <td>4526</td>\n",
       "      <td>84</td>\n",
       "      <td>216</td>\n",
       "      <td>16</td>\n",
       "      <td>3547</td>\n",
       "      <td>760</td>\n",
       "      <td>5055</td>\n",
       "      <td>28.1</td>\n",
       "      <td>30.8</td>\n",
       "      <td>4414</td>\n",
       "    </tr>\n",
       "  </tbody>\n",
       "</table>\n",
       "<p>1 rows × 21 columns</p>\n",
       "</div>"
      ],
      "text/plain": [
       "            Y  Citizen Less than High School  Education  \\\n",
       "0  10006372.8                                      2906   \n",
       "\n",
       "   Citizen High School  Graduate  Citizen Some College  Education  \\\n",
       "0                           3090                             1887   \n",
       "\n",
       "   Citizen College Degree   Citizen Graduate or Professional Degree  \\\n",
       "0                      373                                       88   \n",
       "\n",
       "    Citizen No Income   Citizen Income $1-$9,999  \\\n",
       "0                1670                       2648   \n",
       "\n",
       "   Citizen Income $10,000-$14,999  Citizen Income $75,000 +   \\\n",
       "0                            1062                        439   \n",
       "\n",
       "         ...         White Race  Black Race  Native American Race  Asian Race  \\\n",
       "0        ...               4526          84                   216          16   \n",
       "\n",
       "   Pacific Islander Race  Other Race Alone  Hispanic or Latino  \\\n",
       "0                   3547               760                5055   \n",
       "\n",
       "   Male Median Age  Female Median Age  Total Households  \n",
       "0             28.1               30.8              4414  \n",
       "\n",
       "[1 rows x 21 columns]"
      ]
     },
     "execution_count": 3,
     "metadata": {},
     "output_type": "execute_result"
    }
   ],
   "source": [
    "df = pd.read_excel('06608_extract.xls', header=0, skiprows=0)\n",
    "\n",
    "df.head()"
   ]
  },
  {
   "cell_type": "code",
   "execution_count": 4,
   "metadata": {},
   "outputs": [
    {
     "name": "stdout",
     "output_type": "stream",
     "text": [
      "<class 'pandas.core.frame.DataFrame'>\n",
      "RangeIndex: 1 entries, 0 to 0\n",
      "Data columns (total 21 columns):\n",
      "Y                                           1 non-null float64\n",
      "Citizen Less than High School  Education    1 non-null int64\n",
      "Citizen High School  Graduate               1 non-null int64\n",
      "Citizen Some College  Education             1 non-null int64\n",
      "Citizen College Degree                      1 non-null int64\n",
      "Citizen Graduate or Professional Degree     1 non-null int64\n",
      " Citizen No Income                          1 non-null int64\n",
      " Citizen Income $1-$9,999                   1 non-null int64\n",
      "Citizen Income $10,000-$14,999              1 non-null int64\n",
      "Citizen Income $75,000 +                    1 non-null int64\n",
      "One Race Population                         1 non-null int64\n",
      "White Race                                  1 non-null int64\n",
      "Black Race                                  1 non-null int64\n",
      "Native American Race                        1 non-null int64\n",
      "Asian Race                                  1 non-null int64\n",
      "Pacific Islander Race                       1 non-null int64\n",
      "Other Race Alone                            1 non-null int64\n",
      "Hispanic or Latino                          1 non-null int64\n",
      "Male Median Age                             1 non-null float64\n",
      "Female Median Age                           1 non-null float64\n",
      "Total Households                            1 non-null int64\n",
      "dtypes: float64(3), int64(18)\n",
      "memory usage: 248.0 bytes\n"
     ]
    }
   ],
   "source": [
    "df.info()"
   ]
  },
  {
   "cell_type": "code",
   "execution_count": 5,
   "metadata": {},
   "outputs": [
    {
     "name": "stdout",
     "output_type": "stream",
     "text": [
      "number of missing values:  Y 0       Percentage of missing values: Y 0.0\n",
      "number of missing values:  Citizen Less than High School  Education 0       Percentage of missing values: Citizen Less than High School  Education 0.0\n",
      "number of missing values:  Citizen High School  Graduate 0       Percentage of missing values: Citizen High School  Graduate 0.0\n",
      "number of missing values:  Citizen Some College  Education 0       Percentage of missing values: Citizen Some College  Education 0.0\n",
      "number of missing values:  Citizen College Degree  0       Percentage of missing values: Citizen College Degree  0.0\n",
      "number of missing values:  Citizen Graduate or Professional Degree 0       Percentage of missing values: Citizen Graduate or Professional Degree 0.0\n",
      "number of missing values:   Citizen No Income 0       Percentage of missing values:  Citizen No Income 0.0\n",
      "number of missing values:   Citizen Income $1-$9,999 0       Percentage of missing values:  Citizen Income $1-$9,999 0.0\n",
      "number of missing values:  Citizen Income $10,000-$14,999 0       Percentage of missing values: Citizen Income $10,000-$14,999 0.0\n",
      "number of missing values:  Citizen Income $75,000 +  0       Percentage of missing values: Citizen Income $75,000 +  0.0\n",
      "number of missing values:  One Race Population 0       Percentage of missing values: One Race Population 0.0\n",
      "number of missing values:  White Race 0       Percentage of missing values: White Race 0.0\n",
      "number of missing values:  Black Race 0       Percentage of missing values: Black Race 0.0\n",
      "number of missing values:  Native American Race 0       Percentage of missing values: Native American Race 0.0\n",
      "number of missing values:  Asian Race 0       Percentage of missing values: Asian Race 0.0\n",
      "number of missing values:  Pacific Islander Race 0       Percentage of missing values: Pacific Islander Race 0.0\n",
      "number of missing values:  Other Race Alone 0       Percentage of missing values: Other Race Alone 0.0\n",
      "number of missing values:  Hispanic or Latino 0       Percentage of missing values: Hispanic or Latino 0.0\n",
      "number of missing values:  Male Median Age 0       Percentage of missing values: Male Median Age 0.0\n",
      "number of missing values:  Female Median Age 0       Percentage of missing values: Female Median Age 0.0\n",
      "number of missing values:  Total Households 0       Percentage of missing values: Total Households 0.0\n"
     ]
    }
   ],
   "source": [
    "#find out missing values\n",
    "names = []\n",
    "value = []\n",
    "for col in df.columns:\n",
    "    names.append(col)\n",
    "    value.append(df[col].isnull().sum())\n",
    "    print(\"number of missing values: \", names[-1], value[-1],\"\"\"     \"\"\", \"Percentage of missing values:\", names[-1], round((value[-1]/32936)*100))  "
   ]
  },
  {
   "cell_type": "code",
   "execution_count": 6,
   "metadata": {},
   "outputs": [
    {
     "name": "stdout",
     "output_type": "stream",
     "text": [
      "<class 'pandas.core.frame.DataFrame'>\n",
      "RangeIndex: 1 entries, 0 to 0\n",
      "Data columns (total 21 columns):\n",
      "Y                                           1 non-null float64\n",
      "Citizen Less than High School  Education    1 non-null int64\n",
      "Citizen High School  Graduate               1 non-null int64\n",
      "Citizen Some College  Education             1 non-null int64\n",
      "Citizen College Degree                      1 non-null int64\n",
      "Citizen Graduate or Professional Degree     1 non-null int64\n",
      " Citizen No Income                          1 non-null int64\n",
      " Citizen Income $1-$9,999                   1 non-null int64\n",
      "Citizen Income $10,000-$14,999              1 non-null int64\n",
      "Citizen Income $75,000 +                    1 non-null int64\n",
      "One Race Population                         1 non-null int64\n",
      "White Race                                  1 non-null int64\n",
      "Black Race                                  1 non-null int64\n",
      "Native American Race                        1 non-null int64\n",
      "Asian Race                                  1 non-null int64\n",
      "Pacific Islander Race                       1 non-null int64\n",
      "Other Race Alone                            1 non-null int64\n",
      "Hispanic or Latino                          1 non-null int64\n",
      "Male Median Age                             1 non-null float64\n",
      "Female Median Age                           1 non-null float64\n",
      "Total Households                            1 non-null int64\n",
      "dtypes: float64(3), int64(18)\n",
      "memory usage: 248.0 bytes\n"
     ]
    }
   ],
   "source": [
    "#split my data\n",
    "#df = df.astype('float32')\n",
    "X = df.drop(columns = 'Y')\n",
    "\n",
    "y = df.Y\n",
    "\n",
    "df.info()"
   ]
  },
  {
   "cell_type": "code",
   "execution_count": 8,
   "metadata": {},
   "outputs": [
    {
     "data": {
      "text/plain": [
       "<bound method DataFrame.corr of             Y  Citizen Less than High School  Education  \\\n",
       "0  10006372.8                                      2906   \n",
       "\n",
       "   Citizen High School  Graduate  Citizen Some College  Education  \\\n",
       "0                           3090                             1887   \n",
       "\n",
       "   Citizen College Degree   Citizen Graduate or Professional Degree  \\\n",
       "0                      373                                       88   \n",
       "\n",
       "    Citizen No Income   Citizen Income $1-$9,999  \\\n",
       "0                1670                       2648   \n",
       "\n",
       "   Citizen Income $10,000-$14,999  Citizen Income $75,000 +   \\\n",
       "0                            1062                        439   \n",
       "\n",
       "         ...         White Race  Black Race  Native American Race  Asian Race  \\\n",
       "0        ...               4526          84                   216          16   \n",
       "\n",
       "   Pacific Islander Race  Other Race Alone  Hispanic or Latino  \\\n",
       "0                   3547               760                5055   \n",
       "\n",
       "   Male Median Age  Female Median Age  Total Households  \n",
       "0             28.1               30.8              4414  \n",
       "\n",
       "[1 rows x 21 columns]>"
      ]
     },
     "execution_count": 8,
     "metadata": {},
     "output_type": "execute_result"
    }
   ],
   "source": [
    "df.corr"
   ]
  },
  {
   "cell_type": "code",
   "execution_count": 7,
   "metadata": {},
   "outputs": [
    {
     "ename": "ValueError",
     "evalue": "zero-size array to reduction operation minimum which has no identity",
     "output_type": "error",
     "traceback": [
      "\u001b[0;31m---------------------------------------------------------------------------\u001b[0m",
      "\u001b[0;31mValueError\u001b[0m                                Traceback (most recent call last)",
      "\u001b[0;32m<ipython-input-7-5b20b27fd159>\u001b[0m in \u001b[0;36m<module>\u001b[0;34m\u001b[0m\n\u001b[1;32m      4\u001b[0m sns.heatmap(corr, cbar = True, square = True,  cmap = sns.diverging_palette(220, 10), annot=True, fmt= '.2f',annot_kws={'size': 15},\n\u001b[1;32m      5\u001b[0m             \u001b[0mxticklabels\u001b[0m\u001b[0;34m=\u001b[0m\u001b[0mcorr\u001b[0m\u001b[0;34m.\u001b[0m\u001b[0mcolumns\u001b[0m\u001b[0;34m.\u001b[0m\u001b[0mvalues\u001b[0m\u001b[0;34m,\u001b[0m\u001b[0;34m\u001b[0m\u001b[0;34m\u001b[0m\u001b[0m\n\u001b[0;32m----> 6\u001b[0;31m             yticklabels=corr.columns.values).set_title('Heatmap Correlation Matrix')\n\u001b[0m",
      "\u001b[0;32m/opt/tljh/user/lib/python3.6/site-packages/seaborn/matrix.py\u001b[0m in \u001b[0;36mheatmap\u001b[0;34m(data, vmin, vmax, cmap, center, robust, annot, fmt, annot_kws, linewidths, linecolor, cbar, cbar_kws, cbar_ax, square, xticklabels, yticklabels, mask, ax, **kwargs)\u001b[0m\n\u001b[1;32m    515\u001b[0m     plotter = _HeatMapper(data, vmin, vmax, cmap, center, robust, annot, fmt,\n\u001b[1;32m    516\u001b[0m                           \u001b[0mannot_kws\u001b[0m\u001b[0;34m,\u001b[0m \u001b[0mcbar\u001b[0m\u001b[0;34m,\u001b[0m \u001b[0mcbar_kws\u001b[0m\u001b[0;34m,\u001b[0m \u001b[0mxticklabels\u001b[0m\u001b[0;34m,\u001b[0m\u001b[0;34m\u001b[0m\u001b[0;34m\u001b[0m\u001b[0m\n\u001b[0;32m--> 517\u001b[0;31m                           yticklabels, mask)\n\u001b[0m\u001b[1;32m    518\u001b[0m \u001b[0;34m\u001b[0m\u001b[0m\n\u001b[1;32m    519\u001b[0m     \u001b[0;31m# Add the pcolormesh kwargs here\u001b[0m\u001b[0;34m\u001b[0m\u001b[0;34m\u001b[0m\u001b[0;34m\u001b[0m\u001b[0m\n",
      "\u001b[0;32m/opt/tljh/user/lib/python3.6/site-packages/seaborn/matrix.py\u001b[0m in \u001b[0;36m__init__\u001b[0;34m(self, data, vmin, vmax, cmap, center, robust, annot, fmt, annot_kws, cbar, cbar_kws, xticklabels, yticklabels, mask)\u001b[0m\n\u001b[1;32m    165\u001b[0m         \u001b[0;31m# Determine good default values for the colormapping\u001b[0m\u001b[0;34m\u001b[0m\u001b[0;34m\u001b[0m\u001b[0;34m\u001b[0m\u001b[0m\n\u001b[1;32m    166\u001b[0m         self._determine_cmap_params(plot_data, vmin, vmax,\n\u001b[0;32m--> 167\u001b[0;31m                                     cmap, center, robust)\n\u001b[0m\u001b[1;32m    168\u001b[0m \u001b[0;34m\u001b[0m\u001b[0m\n\u001b[1;32m    169\u001b[0m         \u001b[0;31m# Sort out the annotations\u001b[0m\u001b[0;34m\u001b[0m\u001b[0;34m\u001b[0m\u001b[0;34m\u001b[0m\u001b[0m\n",
      "\u001b[0;32m/opt/tljh/user/lib/python3.6/site-packages/seaborn/matrix.py\u001b[0m in \u001b[0;36m_determine_cmap_params\u001b[0;34m(self, plot_data, vmin, vmax, cmap, center, robust)\u001b[0m\n\u001b[1;32m    204\u001b[0m         \u001b[0mcalc_data\u001b[0m \u001b[0;34m=\u001b[0m \u001b[0mplot_data\u001b[0m\u001b[0;34m.\u001b[0m\u001b[0mdata\u001b[0m\u001b[0;34m[\u001b[0m\u001b[0;34m~\u001b[0m\u001b[0mnp\u001b[0m\u001b[0;34m.\u001b[0m\u001b[0misnan\u001b[0m\u001b[0;34m(\u001b[0m\u001b[0mplot_data\u001b[0m\u001b[0;34m.\u001b[0m\u001b[0mdata\u001b[0m\u001b[0;34m)\u001b[0m\u001b[0;34m]\u001b[0m\u001b[0;34m\u001b[0m\u001b[0;34m\u001b[0m\u001b[0m\n\u001b[1;32m    205\u001b[0m         \u001b[0;32mif\u001b[0m \u001b[0mvmin\u001b[0m \u001b[0;32mis\u001b[0m \u001b[0;32mNone\u001b[0m\u001b[0;34m:\u001b[0m\u001b[0;34m\u001b[0m\u001b[0;34m\u001b[0m\u001b[0m\n\u001b[0;32m--> 206\u001b[0;31m             \u001b[0mvmin\u001b[0m \u001b[0;34m=\u001b[0m \u001b[0mnp\u001b[0m\u001b[0;34m.\u001b[0m\u001b[0mpercentile\u001b[0m\u001b[0;34m(\u001b[0m\u001b[0mcalc_data\u001b[0m\u001b[0;34m,\u001b[0m \u001b[0;36m2\u001b[0m\u001b[0;34m)\u001b[0m \u001b[0;32mif\u001b[0m \u001b[0mrobust\u001b[0m \u001b[0;32melse\u001b[0m \u001b[0mcalc_data\u001b[0m\u001b[0;34m.\u001b[0m\u001b[0mmin\u001b[0m\u001b[0;34m(\u001b[0m\u001b[0;34m)\u001b[0m\u001b[0;34m\u001b[0m\u001b[0;34m\u001b[0m\u001b[0m\n\u001b[0m\u001b[1;32m    207\u001b[0m         \u001b[0;32mif\u001b[0m \u001b[0mvmax\u001b[0m \u001b[0;32mis\u001b[0m \u001b[0;32mNone\u001b[0m\u001b[0;34m:\u001b[0m\u001b[0;34m\u001b[0m\u001b[0;34m\u001b[0m\u001b[0m\n\u001b[1;32m    208\u001b[0m             \u001b[0mvmax\u001b[0m \u001b[0;34m=\u001b[0m \u001b[0mnp\u001b[0m\u001b[0;34m.\u001b[0m\u001b[0mpercentile\u001b[0m\u001b[0;34m(\u001b[0m\u001b[0mcalc_data\u001b[0m\u001b[0;34m,\u001b[0m \u001b[0;36m98\u001b[0m\u001b[0;34m)\u001b[0m \u001b[0;32mif\u001b[0m \u001b[0mrobust\u001b[0m \u001b[0;32melse\u001b[0m \u001b[0mcalc_data\u001b[0m\u001b[0;34m.\u001b[0m\u001b[0mmax\u001b[0m\u001b[0;34m(\u001b[0m\u001b[0;34m)\u001b[0m\u001b[0;34m\u001b[0m\u001b[0;34m\u001b[0m\u001b[0m\n",
      "\u001b[0;32m/opt/tljh/user/lib/python3.6/site-packages/numpy/core/_methods.py\u001b[0m in \u001b[0;36m_amin\u001b[0;34m(a, axis, out, keepdims, initial)\u001b[0m\n\u001b[1;32m     30\u001b[0m def _amin(a, axis=None, out=None, keepdims=False,\n\u001b[1;32m     31\u001b[0m           initial=_NoValue):\n\u001b[0;32m---> 32\u001b[0;31m     \u001b[0;32mreturn\u001b[0m \u001b[0mumr_minimum\u001b[0m\u001b[0;34m(\u001b[0m\u001b[0ma\u001b[0m\u001b[0;34m,\u001b[0m \u001b[0maxis\u001b[0m\u001b[0;34m,\u001b[0m \u001b[0;32mNone\u001b[0m\u001b[0;34m,\u001b[0m \u001b[0mout\u001b[0m\u001b[0;34m,\u001b[0m \u001b[0mkeepdims\u001b[0m\u001b[0;34m,\u001b[0m \u001b[0minitial\u001b[0m\u001b[0;34m)\u001b[0m\u001b[0;34m\u001b[0m\u001b[0;34m\u001b[0m\u001b[0m\n\u001b[0m\u001b[1;32m     33\u001b[0m \u001b[0;34m\u001b[0m\u001b[0m\n\u001b[1;32m     34\u001b[0m def _sum(a, axis=None, dtype=None, out=None, keepdims=False,\n",
      "\u001b[0;31mValueError\u001b[0m: zero-size array to reduction operation minimum which has no identity"
     ]
    },
    {
     "data": {
      "text/plain": [
       "<Figure size 2016x2016 with 0 Axes>"
      ]
     },
     "metadata": {},
     "output_type": "display_data"
    }
   ],
   "source": [
    "corr=df.corr()\n",
    "corr = (corr)\n",
    "plt.figure(figsize=(28,28))\n",
    "sns.heatmap(corr, cbar = True, square = True,  cmap = sns.diverging_palette(220, 10), annot=True, fmt= '.2f',annot_kws={'size': 15},\n",
    "            xticklabels=corr.columns.values,\n",
    "            yticklabels=corr.columns.values).set_title('Heatmap Correlation Matrix')"
   ]
  },
  {
   "cell_type": "code",
   "execution_count": 9,
   "metadata": {},
   "outputs": [
    {
     "data": {
      "text/plain": [
       "array([[<matplotlib.axes._subplots.AxesSubplot object at 0x7fb45ec7e320>,\n",
       "        <matplotlib.axes._subplots.AxesSubplot object at 0x7fb45db55128>,\n",
       "        <matplotlib.axes._subplots.AxesSubplot object at 0x7fb45db80ac8>,\n",
       "        <matplotlib.axes._subplots.AxesSubplot object at 0x7fb45db37320>,\n",
       "        <matplotlib.axes._subplots.AxesSubplot object at 0x7fb45dae0c88>],\n",
       "       [<matplotlib.axes._subplots.AxesSubplot object at 0x7fb45da96668>,\n",
       "        <matplotlib.axes._subplots.AxesSubplot object at 0x7fb45da50048>,\n",
       "        <matplotlib.axes._subplots.AxesSubplot object at 0x7fb45da79a20>,\n",
       "        <matplotlib.axes._subplots.AxesSubplot object at 0x7fb45da79a58>,\n",
       "        <matplotlib.axes._subplots.AxesSubplot object at 0x7fb45d9d9d68>],\n",
       "       [<matplotlib.axes._subplots.AxesSubplot object at 0x7fb45d991748>,\n",
       "        <matplotlib.axes._subplots.AxesSubplot object at 0x7fb45d94b128>,\n",
       "        <matplotlib.axes._subplots.AxesSubplot object at 0x7fb45d976ac8>,\n",
       "        <matplotlib.axes._subplots.AxesSubplot object at 0x7fb45d9324a8>,\n",
       "        <matplotlib.axes._subplots.AxesSubplot object at 0x7fb45d8dee48>],\n",
       "       [<matplotlib.axes._subplots.AxesSubplot object at 0x7fb45d898828>,\n",
       "        <matplotlib.axes._subplots.AxesSubplot object at 0x7fb45d852208>,\n",
       "        <matplotlib.axes._subplots.AxesSubplot object at 0x7fb4a83b2630>,\n",
       "        <matplotlib.axes._subplots.AxesSubplot object at 0x7fb45ee19fd0>,\n",
       "        <matplotlib.axes._subplots.AxesSubplot object at 0x7fb45eaf99b0>],\n",
       "       [<matplotlib.axes._subplots.AxesSubplot object at 0x7fb45eab3390>,\n",
       "        <matplotlib.axes._subplots.AxesSubplot object at 0x7fb45ea60d30>,\n",
       "        <matplotlib.axes._subplots.AxesSubplot object at 0x7fb45ea1c710>,\n",
       "        <matplotlib.axes._subplots.AxesSubplot object at 0x7fb45e9d60f0>,\n",
       "        <matplotlib.axes._subplots.AxesSubplot object at 0x7fb45ea04a90>]],\n",
       "      dtype=object)"
      ]
     },
     "execution_count": 9,
     "metadata": {},
     "output_type": "execute_result"
    },
    {
     "data": {
      "image/png": "[encoded data removed]",
      "text/plain": [
       "<Figure size 1080x1440 with 25 Axes>"
      ]
     },
     "metadata": {
      "needs_background": "light"
     },
     "output_type": "display_data"
    }
   ],
   "source": [
    "df.hist(figsize = (15,20))"
   ]
  },
  {
   "cell_type": "code",
   "execution_count": 10,
   "metadata": {},
   "outputs": [
    {
     "data": {
      "text/plain": [
       "Index(['Y', 'Citizen Less than High School  Education',\n",
       "       'Citizen High School  Graduate', 'Citizen Some College  Education',\n",
       "       'Citizen College Degree ', 'Citizen Graduate or Professional Degree',\n",
       "       ' Citizen No Income', ' Citizen Income $1-$9,999',\n",
       "       'Citizen Income $10,000-$14,999', 'Citizen Income $75,000 + ',\n",
       "       'One Race Population', 'White Race', 'Black Race',\n",
       "       'Native American Race', 'Asian Race', 'Pacific Islander Race',\n",
       "       'Other Race Alone', 'Hispanic or Latino', 'Male Median Age',\n",
       "       'Female Median Age', 'Total Households'],\n",
       "      dtype='object')"
      ]
     },
     "execution_count": 10,
     "metadata": {},
     "output_type": "execute_result"
    }
   ],
   "source": [
    "df.columns"
   ]
  },
  {
   "cell_type": "code",
   "execution_count": 11,
   "metadata": {},
   "outputs": [
    {
     "name": "stdout",
     "output_type": "stream",
     "text": [
      "['Y', 'Citizen Less than High School  Education', 'Citizen High School  Graduate', 'Citizen Some College  Education', 'Citizen College Degree ', 'Citizen Graduate or Professional Degree', ' Citizen No Income', ' Citizen Income $1-$9,999', 'Citizen Income $10,000-$14,999', 'Citizen Income $75,000 + ', 'One Race Population', 'White Race', 'Black Race', 'Native American Race', 'Asian Race', 'Pacific Islander Race', 'Other Race Alone', 'Hispanic or Latino', 'Male Median Age', 'Female Median Age', 'Total Households']\n"
     ]
    }
   ],
   "source": [
    "print(names)"
   ]
  },
  {
   "cell_type": "markdown",
   "metadata": {},
   "source": [
    "## Split the data for regressions"
   ]
  },
  {
   "cell_type": "code",
   "execution_count": 16,
   "metadata": {},
   "outputs": [],
   "source": [
    "#split my data\n",
    "#remove elements used to calculate Y in order to render \n",
    "X = df.drop(columns = ['Y'])\n",
    "y = df['Y']\n"
   ]
  },
  {
   "cell_type": "code",
   "execution_count": 17,
   "metadata": {},
   "outputs": [
    {
     "name": "stdout",
     "output_type": "stream",
     "text": [
      "<class 'pandas.core.frame.DataFrame'>\n",
      "RangeIndex: 1 entries, 0 to 0\n",
      "Data columns (total 20 columns):\n",
      "Citizen Less than High School  Education    1 non-null int64\n",
      "Citizen High School  Graduate               1 non-null int64\n",
      "Citizen Some College  Education             1 non-null int64\n",
      "Citizen College Degree                      1 non-null int64\n",
      "Citizen Graduate or Professional Degree     1 non-null int64\n",
      " Citizen No Income                          1 non-null int64\n",
      " Citizen Income $1-$9,999                   1 non-null int64\n",
      "Citizen Income $10,000-$14,999              1 non-null int64\n",
      "Citizen Income $75,000 +                    1 non-null int64\n",
      "One Race Population                         1 non-null int64\n",
      "White Race                                  1 non-null int64\n",
      "Black Race                                  1 non-null int64\n",
      "Native American Race                        1 non-null int64\n",
      "Asian Race                                  1 non-null int64\n",
      "Pacific Islander Race                       1 non-null int64\n",
      "Other Race Alone                            1 non-null int64\n",
      "Hispanic or Latino                          1 non-null int64\n",
      "Male Median Age                             1 non-null float64\n",
      "Female Median Age                           1 non-null float64\n",
      "Total Households                            1 non-null int64\n",
      "dtypes: float64(2), int64(18)\n",
      "memory usage: 240.0 bytes\n"
     ]
    }
   ],
   "source": [
    "X.info()"
   ]
  },
  {
   "cell_type": "code",
   "execution_count": 18,
   "metadata": {},
   "outputs": [
    {
     "name": "stdout",
     "output_type": "stream",
     "text": [
      "10006372.8 [0. 0. 0. 0. 0. 0. 0. 0. 0. 0. 0. 0. 0. 0. 0. 0. 0. 0. 0. 0.]\n"
     ]
    }
   ],
   "source": [
    "from sklearn import linear_model as lm\n",
    "\n",
    "# fit the linear model\n",
    "model = lm.LinearRegression()\n",
    "results = model.fit(X,y)\n",
    "\n",
    "# Print coefficients\n",
    "print (model.intercept_,model.coef_)"
   ]
  },
  {
   "cell_type": "code",
   "execution_count": 19,
   "metadata": {},
   "outputs": [
    {
     "ename": "ValueError",
     "evalue": "With n_samples=1, test_size=0.25 and train_size=None, the resulting train set will be empty. Adjust any of the aforementioned parameters.",
     "output_type": "error",
     "traceback": [
      "\u001b[0;31m---------------------------------------------------------------------------\u001b[0m",
      "\u001b[0;31mValueError\u001b[0m                                Traceback (most recent call last)",
      "\u001b[0;32m<ipython-input-19-8394641f1e3e>\u001b[0m in \u001b[0;36m<module>\u001b[0;34m\u001b[0m\n\u001b[1;32m      2\u001b[0m \u001b[0;34m\u001b[0m\u001b[0m\n\u001b[1;32m      3\u001b[0m \u001b[0;32mfrom\u001b[0m \u001b[0msklearn\u001b[0m\u001b[0;34m.\u001b[0m\u001b[0mmodel_selection\u001b[0m \u001b[0;32mimport\u001b[0m \u001b[0mtrain_test_split\u001b[0m\u001b[0;34m,\u001b[0m \u001b[0mKFold\u001b[0m\u001b[0;34m,\u001b[0m \u001b[0mcross_val_score\u001b[0m\u001b[0;34m\u001b[0m\u001b[0;34m\u001b[0m\u001b[0m\n\u001b[0;32m----> 4\u001b[0;31m \u001b[0mX_train\u001b[0m\u001b[0;34m,\u001b[0m \u001b[0mX_test\u001b[0m\u001b[0;34m,\u001b[0m \u001b[0my_train\u001b[0m\u001b[0;34m,\u001b[0m \u001b[0my_test\u001b[0m \u001b[0;34m=\u001b[0m \u001b[0mtrain_test_split\u001b[0m\u001b[0;34m(\u001b[0m\u001b[0mX\u001b[0m\u001b[0;34m,\u001b[0m \u001b[0my\u001b[0m\u001b[0;34m,\u001b[0m \u001b[0mrandom_state\u001b[0m\u001b[0;34m=\u001b[0m \u001b[0;36m2019\u001b[0m\u001b[0;34m,\u001b[0m \u001b[0mtest_size\u001b[0m \u001b[0;34m=\u001b[0m \u001b[0;36m.25\u001b[0m\u001b[0;34m)\u001b[0m\u001b[0;34m\u001b[0m\u001b[0;34m\u001b[0m\u001b[0m\n\u001b[0m\u001b[1;32m      5\u001b[0m \u001b[0;34m\u001b[0m\u001b[0m\n\u001b[1;32m      6\u001b[0m \u001b[0;31m# build my classifier\u001b[0m\u001b[0;34m\u001b[0m\u001b[0;34m\u001b[0m\u001b[0;34m\u001b[0m\u001b[0m\n",
      "\u001b[0;32m/opt/tljh/user/lib/python3.6/site-packages/sklearn/model_selection/_split.py\u001b[0m in \u001b[0;36mtrain_test_split\u001b[0;34m(*arrays, **options)\u001b[0m\n\u001b[1;32m   2098\u001b[0m     \u001b[0mn_samples\u001b[0m \u001b[0;34m=\u001b[0m \u001b[0m_num_samples\u001b[0m\u001b[0;34m(\u001b[0m\u001b[0marrays\u001b[0m\u001b[0;34m[\u001b[0m\u001b[0;36m0\u001b[0m\u001b[0;34m]\u001b[0m\u001b[0;34m)\u001b[0m\u001b[0;34m\u001b[0m\u001b[0;34m\u001b[0m\u001b[0m\n\u001b[1;32m   2099\u001b[0m     n_train, n_test = _validate_shuffle_split(n_samples, test_size, train_size,\n\u001b[0;32m-> 2100\u001b[0;31m                                               default_test_size=0.25)\n\u001b[0m\u001b[1;32m   2101\u001b[0m \u001b[0;34m\u001b[0m\u001b[0m\n\u001b[1;32m   2102\u001b[0m     \u001b[0;32mif\u001b[0m \u001b[0mshuffle\u001b[0m \u001b[0;32mis\u001b[0m \u001b[0;32mFalse\u001b[0m\u001b[0;34m:\u001b[0m\u001b[0;34m\u001b[0m\u001b[0;34m\u001b[0m\u001b[0m\n",
      "\u001b[0;32m/opt/tljh/user/lib/python3.6/site-packages/sklearn/model_selection/_split.py\u001b[0m in \u001b[0;36m_validate_shuffle_split\u001b[0;34m(n_samples, test_size, train_size, default_test_size)\u001b[0m\n\u001b[1;32m   1780\u001b[0m             \u001b[0;34m'resulting train set will be empty. Adjust any of the '\u001b[0m\u001b[0;34m\u001b[0m\u001b[0;34m\u001b[0m\u001b[0m\n\u001b[1;32m   1781\u001b[0m             'aforementioned parameters.'.format(n_samples, test_size,\n\u001b[0;32m-> 1782\u001b[0;31m                                                 train_size)\n\u001b[0m\u001b[1;32m   1783\u001b[0m         )\n\u001b[1;32m   1784\u001b[0m \u001b[0;34m\u001b[0m\u001b[0m\n",
      "\u001b[0;31mValueError\u001b[0m: With n_samples=1, test_size=0.25 and train_size=None, the resulting train set will be empty. Adjust any of the aforementioned parameters."
     ]
    }
   ],
   "source": [
    "#split into training and testing 75% Train and 25% test\n",
    "\n",
    "from sklearn.model_selection import train_test_split, KFold, cross_val_score\n",
    "X_train, X_test, y_train, y_test = train_test_split(X, y, random_state= 2019, test_size = .25)\n",
    "\n",
    "# build my classifier\n",
    "\n",
    "from sklearn.linear_model import LinearRegression\n",
    "#import statsmodels.api as sm                               #https://stackoverflow.com/questions/27928275/find-p-value-significance-in-scikit-learn-linearregression\n",
    "#from scipy import stats\n",
    "\n",
    "lm = LinearRegression()\n",
    "lm.fit(X_train,y_train)"
   ]
  },
  {
   "cell_type": "code",
   "execution_count": 20,
   "metadata": {},
   "outputs": [
    {
     "name": "stdout",
     "output_type": "stream",
     "text": [
      "                            OLS Regression Results                            \n",
      "==============================================================================\n",
      "Dep. Variable:                      Y   R-squared:                        -inf\n",
      "Model:                            OLS   Adj. R-squared:                    nan\n",
      "Method:                 Least Squares   F-statistic:                       nan\n",
      "Date:                Fri, 21 Jun 2019   Prob (F-statistic):                nan\n",
      "Time:                        23:34:33   Log-Likelihood:                 18.682\n",
      "No. Observations:                   1   AIC:                            -35.36\n",
      "Df Residuals:                       0   BIC:                            -37.36\n",
      "Df Model:                           0                                         \n",
      "Covariance Type:            nonrobust                                         \n",
      "============================================================================================================\n",
      "                                               coef    std err          t      P>|t|      [0.025      0.975]\n",
      "------------------------------------------------------------------------------------------------------------\n",
      "Citizen Less than High School  Education   220.2817        inf          0        nan         nan         nan\n",
      "Citizen High School  Graduate              234.2294        inf          0        nan         nan         nan\n",
      "Citizen Some College  Education            143.0391        inf          0        nan         nan         nan\n",
      "Citizen College Degree                      28.2743        inf          0        nan         nan         nan\n",
      "Citizen Graduate or Professional Degree      6.6706        inf          0        nan         nan         nan\n",
      " Citizen No Income                         126.5900        inf          0        nan         nan         nan\n",
      " Citizen Income $1-$9,999                  200.7247        inf          0        nan         nan         nan\n",
      "Citizen Income $10,000-$14,999              80.5021        inf          0        nan         nan         nan\n",
      "Citizen Income $75,000 +                    33.2772        inf          0        nan         nan         nan\n",
      "One Race Population                        342.7784        inf          0        nan         nan         nan\n",
      "White Race                                 343.0816        inf          0        nan         nan         nan\n",
      "Black Race                                   6.3674        inf          0        nan         nan         nan\n",
      "Native American Race                        16.3733        inf          0        nan         nan         nan\n",
      "Asian Race                                   1.2128        inf          0        nan         nan         nan\n",
      "Pacific Islander Race                      268.8711        inf          0        nan         nan         nan\n",
      "Other Race Alone                            57.6098        inf          0        nan         nan         nan\n",
      "Hispanic or Latino                         383.1811        inf          0        nan         nan         nan\n",
      "Male Median Age                              2.1300        inf          0        nan         nan         nan\n",
      "Female Median Age                            2.3347        inf          0        nan         nan         nan\n",
      "Total Households                           334.5917        inf          0        nan         nan         nan\n",
      "==============================================================================\n",
      "Omnibus:                          nan   Durbin-Watson:                   0.000\n",
      "Prob(Omnibus):                    nan   Jarque-Bera (JB):                0.375\n",
      "Skew:                           0.000   Prob(JB):                        0.829\n",
      "Kurtosis:                       0.000   Cond. No.                         1.00\n",
      "==============================================================================\n",
      "\n",
      "Warnings:\n",
      "[1] Standard Errors assume that the covariance matrix of the errors is correctly specified.\n",
      "[2] The input rank is higher than the number of observations.\n"
     ]
    },
    {
     "name": "stderr",
     "output_type": "stream",
     "text": [
      "/home/jupyter-sweinstein590/.local/lib/python3.6/site-packages/statsmodels/stats/stattools.py:71: ValueWarning: omni_normtest is not valid with less than 8 observations; 1 samples were given.\n",
      "  \"samples were given.\" % int(n), ValueWarning)\n",
      "/home/jupyter-sweinstein590/.local/lib/python3.6/site-packages/statsmodels/regression/linear_model.py:1636: RuntimeWarning: divide by zero encountered in double_scalars\n",
      "  return 1 - self.ssr/self.centered_tss\n",
      "/home/jupyter-sweinstein590/.local/lib/python3.6/site-packages/statsmodels/regression/linear_model.py:1648: RuntimeWarning: invalid value encountered in true_divide\n",
      "  return 1 - (np.divide(self.nobs - self.k_constant, self.df_resid)\n",
      "/home/jupyter-sweinstein590/.local/lib/python3.6/site-packages/statsmodels/regression/linear_model.py:1657: RuntimeWarning: divide by zero encountered in double_scalars\n",
      "  return self.ess/self.df_model\n",
      "/home/jupyter-sweinstein590/.local/lib/python3.6/site-packages/statsmodels/regression/linear_model.py:1665: RuntimeWarning: divide by zero encountered in double_scalars\n",
      "  return self.ssr/self.df_resid\n",
      "/home/jupyter-sweinstein590/.local/lib/python3.6/site-packages/statsmodels/regression/linear_model.py:1708: RuntimeWarning: invalid value encountered in double_scalars\n",
      "  return self.mse_model/self.mse_resid\n",
      "/home/jupyter-sweinstein590/.local/lib/python3.6/site-packages/statsmodels/regression/linear_model.py:1578: RuntimeWarning: divide by zero encountered in double_scalars\n",
      "  return np.dot(wresid, wresid) / self.df_resid\n"
     ]
    }
   ],
   "source": [
    "from sklearn import datasets, linear_model\n",
    "from sklearn.linear_model import LinearRegression\n",
    "import statsmodels.api as sm\n",
    "from scipy import stats\n",
    "\n",
    "#diabetes = datasets.load_diabetes()\n",
    "#X = diabetes.data\n",
    "#y = diabetes.target\n",
    "\n",
    "X2 = sm.add_constant(X)\n",
    "est = sm.OLS(y, X2)                    #https://www.statsmodels.org/stable/regression.html - ordinary least squares (OLS), weighted least squares (WLS), generalized least squares (GLS), and feasible generalized least squares with autocorrelated AR(p) errors\n",
    "est2 = est.fit()\n",
    "print(est2.summary())"
   ]
  },
  {
   "cell_type": "code",
   "execution_count": 21,
   "metadata": {},
   "outputs": [
    {
     "data": {
      "text/html": [
       "<div>\n",
       "<style scoped>\n",
       "    .dataframe tbody tr th:only-of-type {\n",
       "        vertical-align: middle;\n",
       "    }\n",
       "\n",
       "    .dataframe tbody tr th {\n",
       "        vertical-align: top;\n",
       "    }\n",
       "\n",
       "    .dataframe thead th {\n",
       "        text-align: right;\n",
       "    }\n",
       "</style>\n",
       "<table border=\"1\" class=\"dataframe\">\n",
       "  <thead>\n",
       "    <tr style=\"text-align: right;\">\n",
       "      <th></th>\n",
       "      <th>Citizen Less than High School  Education</th>\n",
       "      <th>Citizen High School  Graduate</th>\n",
       "      <th>Citizen Some College  Education</th>\n",
       "      <th>Citizen College Degree</th>\n",
       "      <th>Citizen Graduate or Professional Degree</th>\n",
       "      <th>Citizen No Income</th>\n",
       "      <th>Citizen Income $1-$9,999</th>\n",
       "      <th>Citizen Income $10,000-$14,999</th>\n",
       "      <th>Citizen Income $75,000 +</th>\n",
       "      <th>One Race Population</th>\n",
       "      <th>White Race</th>\n",
       "      <th>Black Race</th>\n",
       "      <th>Native American Race</th>\n",
       "      <th>Asian Race</th>\n",
       "      <th>Pacific Islander Race</th>\n",
       "      <th>Other Race Alone</th>\n",
       "      <th>Hispanic or Latino</th>\n",
       "      <th>Male Median Age</th>\n",
       "      <th>Female Median Age</th>\n",
       "      <th>Total Households</th>\n",
       "    </tr>\n",
       "  </thead>\n",
       "  <tbody>\n",
       "    <tr>\n",
       "      <th>0</th>\n",
       "      <td>2906</td>\n",
       "      <td>3090</td>\n",
       "      <td>1887</td>\n",
       "      <td>373</td>\n",
       "      <td>88</td>\n",
       "      <td>1670</td>\n",
       "      <td>2648</td>\n",
       "      <td>1062</td>\n",
       "      <td>439</td>\n",
       "      <td>4522</td>\n",
       "      <td>4526</td>\n",
       "      <td>84</td>\n",
       "      <td>216</td>\n",
       "      <td>16</td>\n",
       "      <td>3547</td>\n",
       "      <td>760</td>\n",
       "      <td>5055</td>\n",
       "      <td>28.1</td>\n",
       "      <td>30.8</td>\n",
       "      <td>4414</td>\n",
       "    </tr>\n",
       "  </tbody>\n",
       "</table>\n",
       "</div>"
      ],
      "text/plain": [
       "   Citizen Less than High School  Education  Citizen High School  Graduate  \\\n",
       "0                                      2906                           3090   \n",
       "\n",
       "   Citizen Some College  Education  Citizen College Degree   \\\n",
       "0                             1887                      373   \n",
       "\n",
       "   Citizen Graduate or Professional Degree   Citizen No Income  \\\n",
       "0                                       88                1670   \n",
       "\n",
       "    Citizen Income $1-$9,999  Citizen Income $10,000-$14,999  \\\n",
       "0                       2648                            1062   \n",
       "\n",
       "   Citizen Income $75,000 +   One Race Population  White Race  Black Race  \\\n",
       "0                        439                 4522        4526          84   \n",
       "\n",
       "   Native American Race  Asian Race  Pacific Islander Race  Other Race Alone  \\\n",
       "0                   216          16                   3547               760   \n",
       "\n",
       "   Hispanic or Latino  Male Median Age  Female Median Age  Total Households  \n",
       "0                5055             28.1               30.8              4414  "
      ]
     },
     "execution_count": 21,
     "metadata": {},
     "output_type": "execute_result"
    }
   ],
   "source": [
    "X.head()"
   ]
  },
  {
   "cell_type": "code",
   "execution_count": 22,
   "metadata": {},
   "outputs": [
    {
     "name": "stderr",
     "output_type": "stream",
     "text": [
      "/opt/tljh/user/lib/python3.6/site-packages/xgboost/core.py:587: FutureWarning: Series.base is deprecated and will be removed in a future version\n",
      "  if getattr(data, 'base', None) is not None and \\\n",
      "/opt/tljh/user/lib/python3.6/site-packages/xgboost/core.py:588: FutureWarning: Series.base is deprecated and will be removed in a future version\n",
      "  data.base is not None and isinstance(data, np.ndarray) \\\n"
     ]
    }
   ],
   "source": [
    "#use XGBoost implementation of gradient boosted decision trees designed for speed and performance to determine feature importance\n",
    "\n",
    "import xgboost as xgb\n",
    "from sklearn.metrics import mean_squared_error\n",
    "\n",
    "#convert the dataset into an optimized data structure called Dmatrix that XGBoost supports and gives it acclaimed performance and efficiency gains. \n",
    "\n",
    "data_dmatrix = xgb.DMatrix(data=X,label=y)\n",
    "\n",
    "#instantiate an XGBoost regressor object by calling the XGBRegressor() class from the XGBoost library with the hyper-parameters passed as arguments.\n",
    "xg_reg = xgb.XGBRegressor(objective ='reg:linear', colsample_bytree = 0.3, learning_rate = 0.1,\n",
    "                max_depth = 5, alpha = 10, n_estimators = 100)"
   ]
  },
  {
   "cell_type": "code",
   "execution_count": 23,
   "metadata": {},
   "outputs": [
    {
     "ename": "NameError",
     "evalue": "name 'X_train' is not defined",
     "output_type": "error",
     "traceback": [
      "\u001b[0;31m---------------------------------------------------------------------------\u001b[0m",
      "\u001b[0;31mNameError\u001b[0m                                 Traceback (most recent call last)",
      "\u001b[0;32m<ipython-input-23-295599f90054>\u001b[0m in \u001b[0;36m<module>\u001b[0;34m\u001b[0m\n\u001b[1;32m      1\u001b[0m \u001b[0;31m#Fit the regressor to the training set and make predictions on the test set using the familiar .fit() and .predict() methods.\u001b[0m\u001b[0;34m\u001b[0m\u001b[0;34m\u001b[0m\u001b[0;34m\u001b[0m\u001b[0m\n\u001b[0;32m----> 2\u001b[0;31m \u001b[0mxg_reg\u001b[0m\u001b[0;34m.\u001b[0m\u001b[0mfit\u001b[0m\u001b[0;34m(\u001b[0m\u001b[0mX_train\u001b[0m\u001b[0;34m,\u001b[0m\u001b[0my_train\u001b[0m\u001b[0;34m)\u001b[0m\u001b[0;34m\u001b[0m\u001b[0;34m\u001b[0m\u001b[0m\n\u001b[0m\u001b[1;32m      3\u001b[0m \u001b[0;34m\u001b[0m\u001b[0m\n\u001b[1;32m      4\u001b[0m \u001b[0mpreds\u001b[0m \u001b[0;34m=\u001b[0m \u001b[0mxg_reg\u001b[0m\u001b[0;34m.\u001b[0m\u001b[0mpredict\u001b[0m\u001b[0;34m(\u001b[0m\u001b[0mX_test\u001b[0m\u001b[0;34m)\u001b[0m\u001b[0;34m\u001b[0m\u001b[0;34m\u001b[0m\u001b[0m\n\u001b[1;32m      5\u001b[0m \u001b[0;34m\u001b[0m\u001b[0m\n",
      "\u001b[0;31mNameError\u001b[0m: name 'X_train' is not defined"
     ]
    }
   ],
   "source": [
    "#Fit the regressor to the training set and make predictions on the test set using the familiar .fit() and .predict() methods.\n",
    "xg_reg.fit(X_train,y_train)\n",
    "\n",
    "preds = xg_reg.predict(X_test)\n",
    "\n",
    "#Compute the rmse by invoking the mean_sqaured_error function from sklearn's metrics module.\n",
    "rmse = np.sqrt(mean_squared_error(y_test, preds))\n",
    "print(\"RMSE: %f\" % (rmse))"
   ]
  },
  {
   "cell_type": "code",
   "execution_count": 24,
   "metadata": {},
   "outputs": [
    {
     "ename": "XGBoostError",
     "evalue": "b'[23:35:17] src/objective/regression_obj.cu:64: Check failed: info.labels_.Size() != 0U (0 vs. 0) label set cannot be empty\\n\\nStack trace returned 10 entries:\\n[bt] (0) /opt/tljh/user/lib/libxgboost.so(dmlc::StackTrace[abi:cxx11](unsigned long)+0x27a) [0x7fb455d0d87a]\\n[bt] (1) /opt/tljh/user/lib/libxgboost.so(dmlc::LogMessageFatal::~LogMessageFatal()+0x40) [0x7fb455d0e7e0]\\n[bt] (2) /opt/tljh/user/lib/libxgboost.so(xgboost::obj::RegLossObj<xgboost::obj::LinearSquareLoss>::GetGradient(xgboost::HostDeviceVector<float> const&, xgboost::MetaInfo const&, int, xgboost::HostDeviceVector<xgboost::detail::GradientPairInternal<float> >*)+0xee) [0x7fb455dc8a7e]\\n[bt] (3) /opt/tljh/user/lib/libxgboost.so(xgboost::LearnerImpl::UpdateOneIter(int, xgboost::DMatrix*)+0x1f9) [0x7fb455d22cc9]\\n[bt] (4) /opt/tljh/user/lib/libxgboost.so(XGBoosterUpdateOneIter+0x48) [0x7fb455ea6228]\\n[bt] (5) /opt/tljh/user/lib/python3.6/lib-dynload/../../libffi.so.6(ffi_call_unix64+0x4c) [0x7fb4a68a6ec0]\\n[bt] (6) /opt/tljh/user/lib/python3.6/lib-dynload/../../libffi.so.6(ffi_call+0x22d) [0x7fb4a68a687d]\\n[bt] (7) /opt/tljh/user/lib/python3.6/lib-dynload/_ctypes.cpython-36m-x86_64-linux-gnu.so(_ctypes_callproc+0x2ce) [0x7fb4a6abd00e]\\n[bt] (8) /opt/tljh/user/lib/python3.6/lib-dynload/_ctypes.cpython-36m-x86_64-linux-gnu.so(+0x13a45) [0x7fb4a6abda45]\\n[bt] (9) /opt/tljh/user/bin/python(_PyObject_FastCallDict+0x8b) [0x5647b5d1987b]\\n\\n'",
     "output_type": "error",
     "traceback": [
      "\u001b[0;31m---------------------------------------------------------------------------\u001b[0m",
      "\u001b[0;31mXGBoostError\u001b[0m                              Traceback (most recent call last)",
      "\u001b[0;32m<ipython-input-24-121ef133b9ba>\u001b[0m in \u001b[0;36m<module>\u001b[0;34m\u001b[0m\n\u001b[1;32m      7\u001b[0m \u001b[0;34m\u001b[0m\u001b[0m\n\u001b[1;32m      8\u001b[0m cv_results = xgb.cv(dtrain=data_dmatrix, params=params, nfold=3,\n\u001b[0;32m----> 9\u001b[0;31m                     num_boost_round=50,early_stopping_rounds=10,metrics=\"rmse\", as_pandas=True, seed=2019)\n\u001b[0m",
      "\u001b[0;32m/opt/tljh/user/lib/python3.6/site-packages/xgboost/training.py\u001b[0m in \u001b[0;36mcv\u001b[0;34m(params, dtrain, num_boost_round, nfold, stratified, folds, metrics, obj, feval, maximize, early_stopping_rounds, fpreproc, as_pandas, verbose_eval, show_stdv, seed, callbacks, shuffle)\u001b[0m\n\u001b[1;32m    443\u001b[0m                            evaluation_result_list=None))\n\u001b[1;32m    444\u001b[0m         \u001b[0;32mfor\u001b[0m \u001b[0mfold\u001b[0m \u001b[0;32min\u001b[0m \u001b[0mcvfolds\u001b[0m\u001b[0;34m:\u001b[0m\u001b[0;34m\u001b[0m\u001b[0;34m\u001b[0m\u001b[0m\n\u001b[0;32m--> 445\u001b[0;31m             \u001b[0mfold\u001b[0m\u001b[0;34m.\u001b[0m\u001b[0mupdate\u001b[0m\u001b[0;34m(\u001b[0m\u001b[0mi\u001b[0m\u001b[0;34m,\u001b[0m \u001b[0mobj\u001b[0m\u001b[0;34m)\u001b[0m\u001b[0;34m\u001b[0m\u001b[0;34m\u001b[0m\u001b[0m\n\u001b[0m\u001b[1;32m    446\u001b[0m         \u001b[0mres\u001b[0m \u001b[0;34m=\u001b[0m \u001b[0maggcv\u001b[0m\u001b[0;34m(\u001b[0m\u001b[0;34m[\u001b[0m\u001b[0mf\u001b[0m\u001b[0;34m.\u001b[0m\u001b[0meval\u001b[0m\u001b[0;34m(\u001b[0m\u001b[0mi\u001b[0m\u001b[0;34m,\u001b[0m \u001b[0mfeval\u001b[0m\u001b[0;34m)\u001b[0m \u001b[0;32mfor\u001b[0m \u001b[0mf\u001b[0m \u001b[0;32min\u001b[0m \u001b[0mcvfolds\u001b[0m\u001b[0;34m]\u001b[0m\u001b[0;34m)\u001b[0m\u001b[0;34m\u001b[0m\u001b[0;34m\u001b[0m\u001b[0m\n\u001b[1;32m    447\u001b[0m \u001b[0;34m\u001b[0m\u001b[0m\n",
      "\u001b[0;32m/opt/tljh/user/lib/python3.6/site-packages/xgboost/training.py\u001b[0m in \u001b[0;36mupdate\u001b[0;34m(self, iteration, fobj)\u001b[0m\n\u001b[1;32m    228\u001b[0m     \u001b[0;32mdef\u001b[0m \u001b[0mupdate\u001b[0m\u001b[0;34m(\u001b[0m\u001b[0mself\u001b[0m\u001b[0;34m,\u001b[0m \u001b[0miteration\u001b[0m\u001b[0;34m,\u001b[0m \u001b[0mfobj\u001b[0m\u001b[0;34m)\u001b[0m\u001b[0;34m:\u001b[0m\u001b[0;34m\u001b[0m\u001b[0;34m\u001b[0m\u001b[0m\n\u001b[1;32m    229\u001b[0m         \u001b[0;34m\"\"\"\"Update the boosters for one iteration\"\"\"\u001b[0m\u001b[0;34m\u001b[0m\u001b[0;34m\u001b[0m\u001b[0m\n\u001b[0;32m--> 230\u001b[0;31m         \u001b[0mself\u001b[0m\u001b[0;34m.\u001b[0m\u001b[0mbst\u001b[0m\u001b[0;34m.\u001b[0m\u001b[0mupdate\u001b[0m\u001b[0;34m(\u001b[0m\u001b[0mself\u001b[0m\u001b[0;34m.\u001b[0m\u001b[0mdtrain\u001b[0m\u001b[0;34m,\u001b[0m \u001b[0miteration\u001b[0m\u001b[0;34m,\u001b[0m \u001b[0mfobj\u001b[0m\u001b[0;34m)\u001b[0m\u001b[0;34m\u001b[0m\u001b[0;34m\u001b[0m\u001b[0m\n\u001b[0m\u001b[1;32m    231\u001b[0m \u001b[0;34m\u001b[0m\u001b[0m\n\u001b[1;32m    232\u001b[0m     \u001b[0;32mdef\u001b[0m \u001b[0meval\u001b[0m\u001b[0;34m(\u001b[0m\u001b[0mself\u001b[0m\u001b[0;34m,\u001b[0m \u001b[0miteration\u001b[0m\u001b[0;34m,\u001b[0m \u001b[0mfeval\u001b[0m\u001b[0;34m)\u001b[0m\u001b[0;34m:\u001b[0m\u001b[0;34m\u001b[0m\u001b[0;34m\u001b[0m\u001b[0m\n",
      "\u001b[0;32m/opt/tljh/user/lib/python3.6/site-packages/xgboost/core.py\u001b[0m in \u001b[0;36mupdate\u001b[0;34m(self, dtrain, iteration, fobj)\u001b[0m\n\u001b[1;32m   1108\u001b[0m         \u001b[0;32mif\u001b[0m \u001b[0mfobj\u001b[0m \u001b[0;32mis\u001b[0m \u001b[0;32mNone\u001b[0m\u001b[0;34m:\u001b[0m\u001b[0;34m\u001b[0m\u001b[0;34m\u001b[0m\u001b[0m\n\u001b[1;32m   1109\u001b[0m             _check_call(_LIB.XGBoosterUpdateOneIter(self.handle, ctypes.c_int(iteration),\n\u001b[0;32m-> 1110\u001b[0;31m                                                     dtrain.handle))\n\u001b[0m\u001b[1;32m   1111\u001b[0m         \u001b[0;32melse\u001b[0m\u001b[0;34m:\u001b[0m\u001b[0;34m\u001b[0m\u001b[0;34m\u001b[0m\u001b[0m\n\u001b[1;32m   1112\u001b[0m             \u001b[0mpred\u001b[0m \u001b[0;34m=\u001b[0m \u001b[0mself\u001b[0m\u001b[0;34m.\u001b[0m\u001b[0mpredict\u001b[0m\u001b[0;34m(\u001b[0m\u001b[0mdtrain\u001b[0m\u001b[0;34m)\u001b[0m\u001b[0;34m\u001b[0m\u001b[0;34m\u001b[0m\u001b[0m\n",
      "\u001b[0;32m/opt/tljh/user/lib/python3.6/site-packages/xgboost/core.py\u001b[0m in \u001b[0;36m_check_call\u001b[0;34m(ret)\u001b[0m\n\u001b[1;32m    176\u001b[0m     \"\"\"\n\u001b[1;32m    177\u001b[0m     \u001b[0;32mif\u001b[0m \u001b[0mret\u001b[0m \u001b[0;34m!=\u001b[0m \u001b[0;36m0\u001b[0m\u001b[0;34m:\u001b[0m\u001b[0;34m\u001b[0m\u001b[0;34m\u001b[0m\u001b[0m\n\u001b[0;32m--> 178\u001b[0;31m         \u001b[0;32mraise\u001b[0m \u001b[0mXGBoostError\u001b[0m\u001b[0;34m(\u001b[0m\u001b[0m_LIB\u001b[0m\u001b[0;34m.\u001b[0m\u001b[0mXGBGetLastError\u001b[0m\u001b[0;34m(\u001b[0m\u001b[0;34m)\u001b[0m\u001b[0;34m)\u001b[0m\u001b[0;34m\u001b[0m\u001b[0;34m\u001b[0m\u001b[0m\n\u001b[0m\u001b[1;32m    179\u001b[0m \u001b[0;34m\u001b[0m\u001b[0m\n\u001b[1;32m    180\u001b[0m \u001b[0;34m\u001b[0m\u001b[0m\n",
      "\u001b[0;31mXGBoostError\u001b[0m: b'[23:35:17] src/objective/regression_obj.cu:64: Check failed: info.labels_.Size() != 0U (0 vs. 0) label set cannot be empty\\n\\nStack trace returned 10 entries:\\n[bt] (0) /opt/tljh/user/lib/libxgboost.so(dmlc::StackTrace[abi:cxx11](unsigned long)+0x27a) [0x7fb455d0d87a]\\n[bt] (1) /opt/tljh/user/lib/libxgboost.so(dmlc::LogMessageFatal::~LogMessageFatal()+0x40) [0x7fb455d0e7e0]\\n[bt] (2) /opt/tljh/user/lib/libxgboost.so(xgboost::obj::RegLossObj<xgboost::obj::LinearSquareLoss>::GetGradient(xgboost::HostDeviceVector<float> const&, xgboost::MetaInfo const&, int, xgboost::HostDeviceVector<xgboost::detail::GradientPairInternal<float> >*)+0xee) [0x7fb455dc8a7e]\\n[bt] (3) /opt/tljh/user/lib/libxgboost.so(xgboost::LearnerImpl::UpdateOneIter(int, xgboost::DMatrix*)+0x1f9) [0x7fb455d22cc9]\\n[bt] (4) /opt/tljh/user/lib/libxgboost.so(XGBoosterUpdateOneIter+0x48) [0x7fb455ea6228]\\n[bt] (5) /opt/tljh/user/lib/python3.6/lib-dynload/../../libffi.so.6(ffi_call_unix64+0x4c) [0x7fb4a68a6ec0]\\n[bt] (6) /opt/tljh/user/lib/python3.6/lib-dynload/../../libffi.so.6(ffi_call+0x22d) [0x7fb4a68a687d]\\n[bt] (7) /opt/tljh/user/lib/python3.6/lib-dynload/_ctypes.cpython-36m-x86_64-linux-gnu.so(_ctypes_callproc+0x2ce) [0x7fb4a6abd00e]\\n[bt] (8) /opt/tljh/user/lib/python3.6/lib-dynload/_ctypes.cpython-36m-x86_64-linux-gnu.so(+0x13a45) [0x7fb4a6abda45]\\n[bt] (9) /opt/tljh/user/bin/python(_PyObject_FastCallDict+0x8b) [0x5647b5d1987b]\\n\\n'"
     ]
    }
   ],
   "source": [
    "# create a hyper-parameter dictionary params which holds all the hyper-parameters and their values as key-value pairs but will exclude the n_estimators from the hyper-parameter dictionary \n",
    "#use num_boost_rounds instead.\n",
    "# build a 3-fold cross validation model by invoking XGBoost's cv() method and store the results in a cv_results DataFrame.\n",
    "\n",
    "params = {\"objective\":\"reg:linear\",'colsample_bytree': 0.3,'learning_rate': 0.1,\n",
    "                'max_depth': 5, 'alpha': 10}\n",
    "\n",
    "cv_results = xgb.cv(dtrain=data_dmatrix, params=params, nfold=3,\n",
    "                    num_boost_round=50,early_stopping_rounds=10,metrics=\"rmse\", as_pandas=True, seed=2019)"
   ]
  },
  {
   "cell_type": "code",
   "execution_count": 25,
   "metadata": {},
   "outputs": [
    {
     "ename": "NameError",
     "evalue": "name 'cv_results' is not defined",
     "output_type": "error",
     "traceback": [
      "\u001b[0;31m---------------------------------------------------------------------------\u001b[0m",
      "\u001b[0;31mNameError\u001b[0m                                 Traceback (most recent call last)",
      "\u001b[0;32m<ipython-input-25-ecee2a70f880>\u001b[0m in \u001b[0;36m<module>\u001b[0;34m\u001b[0m\n\u001b[0;32m----> 1\u001b[0;31m \u001b[0mcv_results\u001b[0m\u001b[0;34m.\u001b[0m\u001b[0mhead\u001b[0m\u001b[0;34m(\u001b[0m\u001b[0;34m)\u001b[0m\u001b[0;34m\u001b[0m\u001b[0;34m\u001b[0m\u001b[0m\n\u001b[0m",
      "\u001b[0;31mNameError\u001b[0m: name 'cv_results' is not defined"
     ]
    }
   ],
   "source": [
    "cv_results.head()"
   ]
  },
  {
   "cell_type": "code",
   "execution_count": 26,
   "metadata": {},
   "outputs": [
    {
     "ename": "NameError",
     "evalue": "name 'cv_results' is not defined",
     "output_type": "error",
     "traceback": [
      "\u001b[0;31m---------------------------------------------------------------------------\u001b[0m",
      "\u001b[0;31mNameError\u001b[0m                                 Traceback (most recent call last)",
      "\u001b[0;32m<ipython-input-26-3cf1c3992f0e>\u001b[0m in \u001b[0;36m<module>\u001b[0;34m\u001b[0m\n\u001b[1;32m      5\u001b[0m \u001b[0mplt\u001b[0m\u001b[0;34m.\u001b[0m\u001b[0mstyle\u001b[0m\u001b[0;34m.\u001b[0m\u001b[0muse\u001b[0m\u001b[0;34m(\u001b[0m\u001b[0;34m'ggplot'\u001b[0m\u001b[0;34m)\u001b[0m\u001b[0;34m\u001b[0m\u001b[0;34m\u001b[0m\u001b[0m\n\u001b[1;32m      6\u001b[0m \u001b[0;34m\u001b[0m\u001b[0m\n\u001b[0;32m----> 7\u001b[0;31m \u001b[0mcv_results\u001b[0m\u001b[0;34m[\u001b[0m\u001b[0;34m'test-rmse-mean'\u001b[0m\u001b[0;34m]\u001b[0m\u001b[0;34m.\u001b[0m\u001b[0mplot\u001b[0m\u001b[0;34m(\u001b[0m\u001b[0;34m)\u001b[0m\u001b[0;34m\u001b[0m\u001b[0;34m\u001b[0m\u001b[0m\n\u001b[0m",
      "\u001b[0;31mNameError\u001b[0m: name 'cv_results' is not defined"
     ]
    }
   ],
   "source": [
    "#We can visualize how RMSE changed over training. You should observe a downward curve below.\n",
    "\n",
    "import matplotlib.pyplot as plt\n",
    "%matplotlib inline\n",
    "plt.style.use('ggplot')\n",
    "\n",
    "cv_results['test-rmse-mean'].plot()"
   ]
  },
  {
   "cell_type": "code",
   "execution_count": 27,
   "metadata": {},
   "outputs": [
    {
     "ename": "NameError",
     "evalue": "name 'cv_results' is not defined",
     "output_type": "error",
     "traceback": [
      "\u001b[0;31m---------------------------------------------------------------------------\u001b[0m",
      "\u001b[0;31mNameError\u001b[0m                                 Traceback (most recent call last)",
      "\u001b[0;32m<ipython-input-27-8c4f7f89b500>\u001b[0m in \u001b[0;36m<module>\u001b[0;34m\u001b[0m\n\u001b[1;32m      1\u001b[0m \u001b[0;31m#Extract and print the final boosting round metric.\u001b[0m\u001b[0;34m\u001b[0m\u001b[0;34m\u001b[0m\u001b[0;34m\u001b[0m\u001b[0m\n\u001b[1;32m      2\u001b[0m \u001b[0;34m\u001b[0m\u001b[0m\n\u001b[0;32m----> 3\u001b[0;31m \u001b[0mprint\u001b[0m\u001b[0;34m(\u001b[0m\u001b[0;34m(\u001b[0m\u001b[0mcv_results\u001b[0m\u001b[0;34m[\u001b[0m\u001b[0;34m\"test-rmse-mean\"\u001b[0m\u001b[0;34m]\u001b[0m\u001b[0;34m)\u001b[0m\u001b[0;34m.\u001b[0m\u001b[0mtail\u001b[0m\u001b[0;34m(\u001b[0m\u001b[0;36m1\u001b[0m\u001b[0;34m)\u001b[0m\u001b[0;34m)\u001b[0m\u001b[0;34m\u001b[0m\u001b[0;34m\u001b[0m\u001b[0m\n\u001b[0m",
      "\u001b[0;31mNameError\u001b[0m: name 'cv_results' is not defined"
     ]
    }
   ],
   "source": [
    "#Extract and print the final boosting round metric.\n",
    "\n",
    "print((cv_results[\"test-rmse-mean\"]).tail(1))"
   ]
  },
  {
   "cell_type": "code",
   "execution_count": 28,
   "metadata": {},
   "outputs": [
    {
     "ename": "XGBoostError",
     "evalue": "need to call fit or load_model beforehand",
     "output_type": "error",
     "traceback": [
      "\u001b[0;31m---------------------------------------------------------------------------\u001b[0m",
      "\u001b[0;31mXGBoostError\u001b[0m                              Traceback (most recent call last)",
      "\u001b[0;32m<ipython-input-28-c2ec4409448e>\u001b[0m in \u001b[0;36m<module>\u001b[0;34m\u001b[0m\n\u001b[1;32m      3\u001b[0m \u001b[0;34m\u001b[0m\u001b[0m\n\u001b[1;32m      4\u001b[0m \u001b[0mplt\u001b[0m\u001b[0;34m.\u001b[0m\u001b[0mrcParams\u001b[0m\u001b[0;34m[\u001b[0m\u001b[0;34m'figure.figsize'\u001b[0m\u001b[0;34m]\u001b[0m \u001b[0;34m=\u001b[0m \u001b[0;34m[\u001b[0m\u001b[0;36m5\u001b[0m\u001b[0;34m,\u001b[0m \u001b[0;36m5\u001b[0m\u001b[0;34m]\u001b[0m\u001b[0;34m\u001b[0m\u001b[0;34m\u001b[0m\u001b[0m\n\u001b[0;32m----> 5\u001b[0;31m \u001b[0mxgb\u001b[0m\u001b[0;34m.\u001b[0m\u001b[0mplot_importance\u001b[0m\u001b[0;34m(\u001b[0m\u001b[0mxg_reg\u001b[0m\u001b[0;34m)\u001b[0m\u001b[0;34m\u001b[0m\u001b[0;34m\u001b[0m\u001b[0m\n\u001b[0m\u001b[1;32m      6\u001b[0m \u001b[0;34m\u001b[0m\u001b[0m\n\u001b[1;32m      7\u001b[0m \u001b[0mplt\u001b[0m\u001b[0;34m.\u001b[0m\u001b[0mshow\u001b[0m\u001b[0;34m(\u001b[0m\u001b[0;34m)\u001b[0m\u001b[0;34m\u001b[0m\u001b[0;34m\u001b[0m\u001b[0m\n",
      "\u001b[0;32m/opt/tljh/user/lib/python3.6/site-packages/xgboost/plotting.py\u001b[0m in \u001b[0;36mplot_importance\u001b[0;34m(booster, ax, height, xlim, ylim, title, xlabel, ylabel, importance_type, max_num_features, grid, show_values, **kwargs)\u001b[0m\n\u001b[1;32m     63\u001b[0m \u001b[0;34m\u001b[0m\u001b[0m\n\u001b[1;32m     64\u001b[0m     \u001b[0;32mif\u001b[0m \u001b[0misinstance\u001b[0m\u001b[0;34m(\u001b[0m\u001b[0mbooster\u001b[0m\u001b[0;34m,\u001b[0m \u001b[0mXGBModel\u001b[0m\u001b[0;34m)\u001b[0m\u001b[0;34m:\u001b[0m\u001b[0;34m\u001b[0m\u001b[0;34m\u001b[0m\u001b[0m\n\u001b[0;32m---> 65\u001b[0;31m         \u001b[0mimportance\u001b[0m \u001b[0;34m=\u001b[0m \u001b[0mbooster\u001b[0m\u001b[0;34m.\u001b[0m\u001b[0mget_booster\u001b[0m\u001b[0;34m(\u001b[0m\u001b[0;34m)\u001b[0m\u001b[0;34m.\u001b[0m\u001b[0mget_score\u001b[0m\u001b[0;34m(\u001b[0m\u001b[0mimportance_type\u001b[0m\u001b[0;34m=\u001b[0m\u001b[0mimportance_type\u001b[0m\u001b[0;34m)\u001b[0m\u001b[0;34m\u001b[0m\u001b[0;34m\u001b[0m\u001b[0m\n\u001b[0m\u001b[1;32m     66\u001b[0m     \u001b[0;32melif\u001b[0m \u001b[0misinstance\u001b[0m\u001b[0;34m(\u001b[0m\u001b[0mbooster\u001b[0m\u001b[0;34m,\u001b[0m \u001b[0mBooster\u001b[0m\u001b[0;34m)\u001b[0m\u001b[0;34m:\u001b[0m\u001b[0;34m\u001b[0m\u001b[0;34m\u001b[0m\u001b[0m\n\u001b[1;32m     67\u001b[0m         \u001b[0mimportance\u001b[0m \u001b[0;34m=\u001b[0m \u001b[0mbooster\u001b[0m\u001b[0;34m.\u001b[0m\u001b[0mget_score\u001b[0m\u001b[0;34m(\u001b[0m\u001b[0mimportance_type\u001b[0m\u001b[0;34m=\u001b[0m\u001b[0mimportance_type\u001b[0m\u001b[0;34m)\u001b[0m\u001b[0;34m\u001b[0m\u001b[0;34m\u001b[0m\u001b[0m\n",
      "\u001b[0;32m/opt/tljh/user/lib/python3.6/site-packages/xgboost/sklearn.py\u001b[0m in \u001b[0;36mget_booster\u001b[0;34m(self)\u001b[0m\n\u001b[1;32m    185\u001b[0m         \"\"\"\n\u001b[1;32m    186\u001b[0m         \u001b[0;32mif\u001b[0m \u001b[0mself\u001b[0m\u001b[0;34m.\u001b[0m\u001b[0m_Booster\u001b[0m \u001b[0;32mis\u001b[0m \u001b[0;32mNone\u001b[0m\u001b[0;34m:\u001b[0m\u001b[0;34m\u001b[0m\u001b[0;34m\u001b[0m\u001b[0m\n\u001b[0;32m--> 187\u001b[0;31m             \u001b[0;32mraise\u001b[0m \u001b[0mXGBoostError\u001b[0m\u001b[0;34m(\u001b[0m\u001b[0;34m'need to call fit or load_model beforehand'\u001b[0m\u001b[0;34m)\u001b[0m\u001b[0;34m\u001b[0m\u001b[0;34m\u001b[0m\u001b[0m\n\u001b[0m\u001b[1;32m    188\u001b[0m         \u001b[0;32mreturn\u001b[0m \u001b[0mself\u001b[0m\u001b[0;34m.\u001b[0m\u001b[0m_Booster\u001b[0m\u001b[0;34m\u001b[0m\u001b[0;34m\u001b[0m\u001b[0m\n\u001b[1;32m    189\u001b[0m \u001b[0;34m\u001b[0m\u001b[0m\n",
      "\u001b[0;31mXGBoostError\u001b[0m: need to call fit or load_model beforehand"
     ]
    }
   ],
   "source": [
    "#counting the number of times each feature is split on across all boosting rounds (trees) in the model, and then visualizing the result as a bar graph, with the features \n",
    "#ordered according to how many times they appear using XGBoost plot_importance() function \n",
    "\n",
    "plt.rcParams['figure.figsize'] = [5, 5]\n",
    "xgb.plot_importance(xg_reg)\n",
    "\n",
    "plt.show()"
   ]
  }
 ],
 "metadata": {
  "kernelspec": {
   "display_name": "Python 3",
   "language": "python",
   "name": "python3"
  },
  "language_info": {
   "codemirror_mode": {
    "name": "ipython",
    "version": 3
   },
   "file_extension": ".py",
   "mimetype": "text/x-python",
   "name": "python",
   "nbconvert_exporter": "python",
   "pygments_lexer": "ipython3",
   "version": "3.6.7"
  }
 },
 "nbformat": 4,
 "nbformat_minor": 2
}
