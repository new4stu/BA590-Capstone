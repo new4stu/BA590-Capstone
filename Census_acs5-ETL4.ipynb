{
 "cells": [
  {
   "cell_type": "code",
   "execution_count": 1,
   "metadata": {},
   "outputs": [],
   "source": [
    "# Import Census data and Geographies\n",
    "# List of Geographies and codes: https://jtleider.github.io/censusdata/geographies.html\n",
    "# switched the ACS5 file to get zip level data\n",
    "\n",
    "# setup Census JSON feed\n",
    "from census import Census\n",
    "from us import states\n",
    "c = Census(\"c99084947ed68bfbd3d7359ba2340346f7984e60\")\n",
    "\n",
    "# importing additional libraries\n",
    "import numpy as np\n",
    "import matplotlib.pyplot as plt\n",
    "import seaborn as sns\n",
    "sns.set()\n",
    "import sklearn\n",
    "\n",
    "#  importing the censusdata and pandas modules, and setting some display options in pandas\n",
    "import pandas as pd\n",
    "import censusdata\n",
    "pd.set_option('display.expand_frame_repr', False)\n",
    "pd.set_option('display.precision', 2)\n",
    "\n",
    "# importing JSON to Pandas translator\n",
    "import requests\n",
    "import urllib.parse\n",
    "from pandas.io.json import json_normalize\n"
   ]
  },
  {
   "cell_type": "code",
   "execution_count": 4,
   "metadata": {},
   "outputs": [
    {
     "ename": "AttributeError",
     "evalue": "'ACS5Client' object has no attribute 'state_zipcode'",
     "output_type": "error",
     "traceback": [
      "\u001b[0;31m---------------------------------------------------------------------------\u001b[0m",
      "\u001b[0;31mAttributeError\u001b[0m                            Traceback (most recent call last)",
      "\u001b[0;32m<ipython-input-4-0ed2637bfe58>\u001b[0m in \u001b[0;36m<module>\u001b[0;34m()\u001b[0m\n\u001b[1;32m     29\u001b[0m \u001b[0;31m#  This is for the State level        c.acs1.state('B09010_001E', Census.ALL)      ,states.CT.fips, Census.ALL)\u001b[0m\u001b[0;34m\u001b[0m\u001b[0;34m\u001b[0m\u001b[0m\n\u001b[1;32m     30\u001b[0m \u001b[0;34m\u001b[0m\u001b[0m\n\u001b[0;32m---> 31\u001b[0;31m c.acs5.state_zipcode(('B09010_001E', 'B06010_001E', 'B06010_002E', 'B06010_004E', 'B06010_005E', 'B06010_006E', 'B06010_007E','B06010_008E', 'B06010_009E', 'B06010_010E', 'B06010_011E',\n\u001b[0m\u001b[1;32m     32\u001b[0m                'B06009_001E', 'B06009_002E', 'B06009_003E', 'B06009_004E', 'B06009_005E', 'B06009_006E'),states.AL.fips, Census.ALL)\n",
      "\u001b[0;31mAttributeError\u001b[0m: 'ACS5Client' object has no attribute 'state_zipcode'"
     ]
    }
   ],
   "source": [
    "# B09010_001E\tTotal:\tB09010. Receipt of SSI, Public Assistance Income, or Food Stamps/SNAP in the Past 12 Mnths by Hhld Type for Children < 18 in Hhl\n",
    "#B06010_001E\tTotal:\tB06010. Place of Birth by Individual Income in the United States\n",
    "#B06010_002E\tNo income\tB06010. Place of Birth by Individual Income in the United States\n",
    "#B06010_004E\tWith income:!!$1 to $9,999 or loss\tB06010. Place of Birth by Individual Income in the United States\n",
    "#B06010_005E\tWith income:!!$10,000 to $14,999\tB06010. Place of Birth by Individual Income in the United States\n",
    "#B06010_006E\tWith income:!!$15,000 to $24,999\tB06010. Place of Birth by Individual Income in the United States\n",
    "#B06010_007E\tWith income:!!$25,000 to $34,999\tB06010. Place of Birth by Individual Income in the United States\n",
    "#B06010_008E\tWith income:!!$35,000 to $49,999\tB06010. Place of Birth by Individual Income in the United States\n",
    "#B06010_009E\tWith income:!!$50,000 to $64,999\tB06010. Place of Birth by Individual Income in the United States\n",
    "#B06010_010E\tWith income:!!$65,000 to $74,999\tB06010. Place of Birth by Individual Income in the United States\n",
    "#B06010_011E\tWith income:!!$75,000 or more\tB06010. Place of Birth by Individual Income in the United States\n",
    "#B06009_001E\tTotal:\tB06009. PLACE OF BIRTH BY EDUCATIONAL ATTAINMENT IN THE UNITED STATES\n",
    "#B06009_002E\tLess than high school graduate\tB06009. PLACE OF BIRTH BY EDUCATIONAL ATTAINMENT IN THE UNITED STATES\n",
    "#B06009_003E\tHigh school graduate (includes equivalency)\tB06009. PLACE OF BIRTH BY EDUCATIONAL ATTAINMENT IN THE UNITED STATES\n",
    "#B06009_004E\tSome college or associate's degree\tB06009. PLACE OF BIRTH BY EDUCATIONAL ATTAINMENT IN THE UNITED STATES\n",
    "#B06009_005E\tBachelor's degree\tB06009. PLACE OF BIRTH BY EDUCATIONAL ATTAINMENT IN THE UNITED STATES\n",
    "#B06009_006E\tGraduate or professional degree\tB06009. PLACE OF BIRTH BY EDUCATIONAL ATTAINMENT IN THE UNITED STATES\n",
    "\n",
    "#c.acs5.zipcode(('B09010_001E', 'B06010_001E', 'B06010_002E', 'B06010_004E', 'B06010_005E', 'B06010_006E', 'B06010_007E','B06010_008E', 'B06010_009E', 'B06010_010E', 'B06010_011E',\n",
    " #              'B06009_001E', 'B06009_002E', 'B06009_003E', 'B06009_004E', 'B06009_005E', 'B06009_006E'), Census.ALL) \n",
    "\n",
    "#c.acs1.zipcode(('B09010_001E', 'B06010_001E', 'B06010_002E', 'B06010_004E', 'B06010_005E', 'B06010_006E', 'B06010_007E','B06010_008E', 'B06010_009E', 'B06010_010E', 'B06010_011E',\n",
    " #              'B06009_001E', 'B06009_002E', 'B06009_003E', 'B06009_004E', 'B06009_005E', 'B06009_006E'), Census.ALL)     \n",
    "    \n",
    "# def zipcode(mid=None,mtitle=None,year=None):\n",
    "\n",
    "#censusdata.search('acs5', 2015, 'label', 'SNAP')\n",
    "\n",
    "#  This is for the State level        c.acs1.state('B09010_001E', Census.ALL)      ,states.CT.fips, Census.ALL)\n",
    "\n",
    "c.acs5.state_zipcode(('B09010_001E', 'B06010_001E', 'B06010_002E', 'B06010_004E', 'B06010_005E', 'B06010_006E', 'B06010_007E','B06010_008E', 'B06010_009E', 'B06010_010E', 'B06010_011E',\n",
    "               'B06009_001E', 'B06009_002E', 'B06009_003E', 'B06009_004E', 'B06009_005E', 'B06009_006E'),states.AL.fips, Census.ALL)"
   ]
  },
  {
   "cell_type": "code",
   "execution_count": null,
   "metadata": {},
   "outputs": [],
   "source": [
    "# Most recent data is 2017\n",
    "\n",
    "censusdata.printtable(censusdata.censustable('acs5', 2017, 'B09010'))\n",
    "\n",
    "#censusdata.printtable(censusdata.censustable('acs5', 2017, ['B09010', 'B06010', 'B06010', 'B06010', 'B06010', 'B06010', 'B06010','B06010', 'B06010', 'B06010', 'B06010']))\n",
    "\n",
    "#c.acs5.zipcode(('B09010_001E', 'B06010_001E', 'B06010_002E', 'B06010_004E', 'B06010_005E', 'B06010_006E', 'B06010_007E','B06010_008E', 'B06010_009E', 'B06010_010E', 'B06010_011E',\n",
    " #              'B06009_001E', 'B06009_002E', 'B06009_003E', 'B06009_004E', 'B06009_005E', 'B06009_006E'), Census.ALL) "
   ]
  },
  {
   "cell_type": "code",
   "execution_count": null,
   "metadata": {},
   "outputs": [],
   "source": [
    "# Download data from Census API\n",
    "# https://jtleider.github.io/censusdata/api.html#module-censusdata.download\n",
    "\n",
    "\n",
    "#censusdata.download.download(src, year, geo, var, key=None, tabletype='detail', endpt='')"
   ]
  },
  {
   "cell_type": "code",
   "execution_count": null,
   "metadata": {},
   "outputs": [],
   "source": [
    "# B09010_001E\tTotal:\tB09010. Receipt of SSI, Public Assistance Income, or Food Stamps/SNAP in the Past 12 Mnths by Hhld Type for Children < 18 in Hhl\n",
    "#B06010_001E\tTotal:\tB06010. Place of Birth by Individual Income in the United States\n",
    "#B06010_002E\tNo income\tB06010. Place of Birth by Individual Income in the United States\n",
    "#B06010_004E\tWith income:!!$1 to $9,999 or loss\tB06010. Place of Birth by Individual Income in the United States\n",
    "#B06010_005E\tWith income:!!$10,000 to $14,999\tB06010. Place of Birth by Individual Income in the United States\n",
    "#B06010_006E\tWith income:!!$15,000 to $24,999\tB06010. Place of Birth by Individual Income in the United States\n",
    "#B06010_007E\tWith income:!!$25,000 to $34,999\tB06010. Place of Birth by Individual Income in the United States\n",
    "#B06010_008E\tWith income:!!$35,000 to $49,999\tB06010. Place of Birth by Individual Income in the United States\n",
    "#B06010_009E\tWith income:!!$50,000 to $64,999\tB06010. Place of Birth by Individual Income in the United States\n",
    "#B06010_010E\tWith income:!!$65,000 to $74,999\tB06010. Place of Birth by Individual Income in the United States\n",
    "#B06010_011E\tWith income:!!$75,000 or more\tB06010. Place of Birth by Individual Income in the United States\n",
    "#B06009_001E\tTotal:\tB06009. PLACE OF BIRTH BY EDUCATIONAL ATTAINMENT IN THE UNITED STATES\n",
    "#B06009_002E\tLess than high school graduate\tB06009. PLACE OF BIRTH BY EDUCATIONAL ATTAINMENT IN THE UNITED STATES\n",
    "#B06009_003E\tHigh school graduate (includes equivalency)\tB06009. PLACE OF BIRTH BY EDUCATIONAL ATTAINMENT IN THE UNITED STATES\n",
    "#B06009_004E\tSome college or associate's degree\tB06009. PLACE OF BIRTH BY EDUCATIONAL ATTAINMENT IN THE UNITED STATES\n",
    "#B06009_005E\tBachelor's degree\tB06009. PLACE OF BIRTH BY EDUCATIONAL ATTAINMENT IN THE UNITED STATES\n",
    "#B06009_006E\tGraduate or professional degree\tB06009. PLACE OF BIRTH BY EDUCATIONAL ATTAINMENT IN THE UNITED STATES\n",
    "\n",
    "#c.acs5.zipcode(('B09010_001E', 'B06010_001E', 'B06010_002E', 'B06010_004E', 'B06010_005E', 'B06010_006E', 'B06010_007E','B06010_008E', 'B06010_009E', 'B06010_010E', 'B06010_011E',\n",
    " #              'B06009_001E', 'B06009_002E', 'B06009_003E', 'B06009_004E', 'B06009_005E', 'B06009_006E'), Census.ALL) \n",
    "\n"
   ]
  },
  {
   "cell_type": "code",
   "execution_count": null,
   "metadata": {},
   "outputs": [],
   "source": []
  }
 ],
 "metadata": {
  "kernelspec": {
   "display_name": "Python 3",
   "language": "python",
   "name": "python3"
  },
  "language_info": {
   "codemirror_mode": {
    "name": "ipython",
    "version": 3
   },
   "file_extension": ".py",
   "mimetype": "text/x-python",
   "name": "python",
   "nbconvert_exporter": "python",
   "pygments_lexer": "ipython3",
   "version": "3.6.5"
  }
 },
 "nbformat": 4,
 "nbformat_minor": 2
}
