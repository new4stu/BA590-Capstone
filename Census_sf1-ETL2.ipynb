{
 "cells": [
  {
   "cell_type": "code",
   "execution_count": 4,
   "metadata": {},
   "outputs": [],
   "source": [
    "# Import Census data and Geographies\n",
    "# List of Geographies and codes: https://jtleider.github.io/censusdata/geographies.html\n",
    "\n",
    "from census import Census\n",
    "from us import states\n",
    "\n",
    "# importing additional libraries\n",
    "import numpy as np\n",
    "import matplotlib.pyplot as plt\n",
    "import seaborn as sns\n",
    "sns.set()\n",
    "import sklearn\n",
    "\n",
    "#  importing the censusdata and pandas modules, and setting some display options in pandas\n",
    "\n",
    "import pandas as pd\n",
    "import censusdata\n",
    "pd.set_option('display.expand_frame_repr', False)\n",
    "pd.set_option('display.precision', 2)\n",
    "\n",
    "c = Census(\"c99084947ed68bfbd3d7359ba2340346f7984e60\")\n"
   ]
  },
  {
   "cell_type": "code",
   "execution_count": 14,
   "metadata": {},
   "outputs": [
    {
     "ename": "AttributeError",
     "evalue": "'SF1Client' object has no attribute 'ZCTA'",
     "output_type": "error",
     "traceback": [
      "\u001b[0;31m---------------------------------------------------------------------------\u001b[0m",
      "\u001b[0;31mAttributeError\u001b[0m                            Traceback (most recent call last)",
      "\u001b[0;32m<ipython-input-14-81199f504bef>\u001b[0m in \u001b[0;36m<module>\u001b[0;34m()\u001b[0m\n\u001b[1;32m     31\u001b[0m \u001b[0;31m#                     'P031001'),states.CT.fips, Census.ALL)\u001b[0m\u001b[0;34m\u001b[0m\u001b[0;34m\u001b[0m\u001b[0m\n\u001b[1;32m     32\u001b[0m \u001b[0;34m\u001b[0m\u001b[0m\n\u001b[0;32m---> 33\u001b[0;31m \u001b[0mc\u001b[0m\u001b[0;34m.\u001b[0m\u001b[0msf1\u001b[0m\u001b[0;34m.\u001b[0m\u001b[0mZCTA\u001b[0m\u001b[0;34m(\u001b[0m\u001b[0;34m(\u001b[0m\u001b[0;34m'NAME'\u001b[0m\u001b[0;34m,\u001b[0m \u001b[0;34m'P003001'\u001b[0m\u001b[0;34m,\u001b[0m\u001b[0;34m'P003002'\u001b[0m\u001b[0;34m,\u001b[0m \u001b[0;34m'P003003'\u001b[0m\u001b[0;34m,\u001b[0m\u001b[0;34m'P003004'\u001b[0m\u001b[0;34m,\u001b[0m \u001b[0;34m'P003005'\u001b[0m\u001b[0;34m,\u001b[0m \u001b[0;34m'P003006'\u001b[0m\u001b[0;34m,\u001b[0m \u001b[0;34m'P003007'\u001b[0m\u001b[0;34m,\u001b[0m\u001b[0;34m'P003008'\u001b[0m\u001b[0;34m,\u001b[0m \u001b[0;34m'P004002'\u001b[0m\u001b[0;34m,\u001b[0m \u001b[0;34m'P013001'\u001b[0m\u001b[0;34m,\u001b[0m \u001b[0;34m'P013002'\u001b[0m\u001b[0;34m,\u001b[0m \u001b[0;34m'P013003'\u001b[0m\u001b[0;34m,\u001b[0m \u001b[0;34m'P015001'\u001b[0m\u001b[0;34m,\u001b[0m\u001b[0;34m'P017001'\u001b[0m\u001b[0;34m,\u001b[0m \u001b[0;34m'P031001'\u001b[0m\u001b[0;34m)\u001b[0m\u001b[0;34m,\u001b[0m \u001b[0mCensus\u001b[0m\u001b[0;34m.\u001b[0m\u001b[0mALL\u001b[0m\u001b[0;34m)\u001b[0m\u001b[0;34m\u001b[0m\u001b[0m\n\u001b[0m",
      "\u001b[0;31mAttributeError\u001b[0m: 'SF1Client' object has no attribute 'ZCTA'"
     ]
    }
   ],
   "source": [
    "# Count of Single Race Households by Zip\n",
    "    #P003001 Total poulation\n",
    "    #P003002 Population of one race\n",
    "    #P003003 White alone\n",
    "    #P003004 Black or African American alone\n",
    "    #P003005 American Indian and Alaska Native alone\n",
    "    #P003006 Asian alone\n",
    "    #P003007 Native Hawaiian and Other Pacific Islander alone\n",
    "    #P003008 Some other race alone\n",
    "    #P004002 Hispanic or Latino\n",
    "    #P013001 Both sexes MEDIAN AGE BY SEX\n",
    "    #P013002 Male MEDIAN AGE BY SEX\n",
    "    #P013003 Female MEDIAN AGE BY SEX\n",
    "    #P015001 Total HOUSEHOLDS\n",
    "    #P017001 Average household size \n",
    "    #P031001 Total FAMILIES\n",
    "    \n",
    "# ZIP Code Tabulation Area (ZCTA)\n",
    "\n",
    "#States = ['AL', 'AK', 'AZ', 'AR', 'CA', 'CO', 'CT', 'DE', 'FL', 'GA', 'HI', 'ID', 'IL', 'IN', 'IA', 'KS', 'KY', 'LA', 'ME', 'MD', 'MA', 'MI', 'MN', 'MS', 'MO', 'MT', 'NE', 'NV', 'NH', 'NJ', 'NM', 'NY', 'NC', 'ND', 'OH', 'OK', 'OR', 'PA', 'RI', 'SC', 'SD', 'TN', 'TX', 'UT', 'VT', 'VA', 'WA', 'WV', 'WI', 'WY'\n",
    "#, 'ZZ']\n",
    "\n",
    "#for s in States:\n",
    "#    if s == 'ZZ':\n",
    "#        break\n",
    "#    print(s)\n",
    "\n",
    "#c.sf1.state_zipcode(('NAME', 'P003001','P003002', 'P003003','P003004', 'P003005', 'P003006', 'P003007','P003008', 'P004002', 'P013001', 'P013002', 'P013003', 'P015001','P017001', 'P031001'),states.CT.fips, Census.ALL)\n",
    "\n",
    "#c.sf1.state_zipcode(('NAME', 'P003001','P003002', 'P003003','P003004', 'P003005', 'P003006', 'P003007','P003008', 'P004002', 'P013001', 'P013002', 'P013003', 'P015001','P017001', \n",
    "#                     'P031001'),states.CT.fips, Census.ALL)\n",
    "\n",
    "#c.sf1.ZCTA(('NAME', 'P003001','P003002', 'P003003','P003004', 'P003005', 'P003006', 'P003007','P003008', 'P004002', 'P013001', 'P013002', 'P013003', 'P015001','P017001', 'P031001'), Census.ALL)"
   ]
  },
  {
   "cell_type": "code",
   "execution_count": 3,
   "metadata": {},
   "outputs": [
    {
     "ename": "FileNotFoundError",
     "evalue": "[Errno 2] No such file or directory: '/home/jupyter-sweinstein/.local/lib/python3.6/site-packages/censusdata/variables/sf1_2015_variables.json'",
     "output_type": "error",
     "traceback": [
      "\u001b[0;31m---------------------------------------------------------------------------\u001b[0m",
      "\u001b[0;31mFileNotFoundError\u001b[0m                         Traceback (most recent call last)",
      "\u001b[0;32m<ipython-input-3-7672081b339b>\u001b[0m in \u001b[0;36m<module>\u001b[0;34m()\u001b[0m\n\u001b[1;32m      1\u001b[0m \u001b[0;34m\u001b[0m\u001b[0m\n\u001b[0;32m----> 2\u001b[0;31m \u001b[0mcensusdata\u001b[0m\u001b[0;34m.\u001b[0m\u001b[0mprinttable\u001b[0m\u001b[0;34m(\u001b[0m\u001b[0mcensusdata\u001b[0m\u001b[0;34m.\u001b[0m\u001b[0mcensustable\u001b[0m\u001b[0;34m(\u001b[0m\u001b[0;34m'sf1'\u001b[0m\u001b[0;34m,\u001b[0m \u001b[0;36m2015\u001b[0m\u001b[0;34m,\u001b[0m \u001b[0;34m'P003001'\u001b[0m\u001b[0;34m)\u001b[0m\u001b[0;34m)\u001b[0m\u001b[0;34m\u001b[0m\u001b[0m\n\u001b[0m\u001b[1;32m      3\u001b[0m \u001b[0;31m#c.sf1.state_zipcode(('NAME', 'P003001','P003002', 'P003003','P003004', 'P003005',\u001b[0m\u001b[0;34m\u001b[0m\u001b[0;34m\u001b[0m\u001b[0m\n\u001b[1;32m      4\u001b[0m \u001b[0;31m#                     'P003006', 'P003007','P003008', 'P004002', 'P013001', 'P013002', 'P013003', 'P015001','P017001', 'P031001'),states.CT.fips, Census.ALL)\u001b[0m\u001b[0;34m\u001b[0m\u001b[0;34m\u001b[0m\u001b[0m\n",
      "\u001b[0;32m~/.local/lib/python3.6/site-packages/censusdata/variable_info.py\u001b[0m in \u001b[0;36mcensustable\u001b[0;34m(src, year, table)\u001b[0m\n\u001b[1;32m     97\u001b[0m                 \u001b[0;32mraise\u001b[0m \u001b[0mValueError\u001b[0m\u001b[0;34m\u001b[0m\u001b[0m\n\u001b[1;32m     98\u001b[0m         \u001b[0mtopdir\u001b[0m\u001b[0;34m,\u001b[0m \u001b[0mfilename\u001b[0m \u001b[0;34m=\u001b[0m \u001b[0mos\u001b[0m\u001b[0;34m.\u001b[0m\u001b[0mpath\u001b[0m\u001b[0;34m.\u001b[0m\u001b[0msplit\u001b[0m\u001b[0;34m(\u001b[0m\u001b[0m__file__\u001b[0m\u001b[0;34m)\u001b[0m\u001b[0;34m\u001b[0m\u001b[0m\n\u001b[0;32m---> 99\u001b[0;31m         \u001b[0;32mwith\u001b[0m \u001b[0mopen\u001b[0m\u001b[0;34m(\u001b[0m\u001b[0mos\u001b[0m\u001b[0;34m.\u001b[0m\u001b[0mpath\u001b[0m\u001b[0;34m.\u001b[0m\u001b[0mjoin\u001b[0m\u001b[0;34m(\u001b[0m\u001b[0mtopdir\u001b[0m\u001b[0;34m,\u001b[0m \u001b[0;34m'variables'\u001b[0m\u001b[0;34m,\u001b[0m \u001b[0;34m'{0}_{1}_{2}variables.json'\u001b[0m\u001b[0;34m.\u001b[0m\u001b[0mformat\u001b[0m\u001b[0;34m(\u001b[0m\u001b[0msrc\u001b[0m\u001b[0;34m,\u001b[0m \u001b[0myear\u001b[0m\u001b[0;34m,\u001b[0m \u001b[0mtabletype\u001b[0m\u001b[0;34m)\u001b[0m\u001b[0;34m)\u001b[0m\u001b[0;34m)\u001b[0m \u001b[0;32mas\u001b[0m \u001b[0minfile\u001b[0m\u001b[0;34m:\u001b[0m\u001b[0;34m\u001b[0m\u001b[0m\n\u001b[0m\u001b[1;32m    100\u001b[0m                 \u001b[0mallvars\u001b[0m \u001b[0;34m=\u001b[0m \u001b[0minfile\u001b[0m\u001b[0;34m.\u001b[0m\u001b[0mread\u001b[0m\u001b[0;34m(\u001b[0m\u001b[0;34m)\u001b[0m\u001b[0;34m\u001b[0m\u001b[0m\n\u001b[1;32m    101\u001b[0m         \u001b[0mallvars\u001b[0m \u001b[0;34m=\u001b[0m \u001b[0mjson\u001b[0m\u001b[0;34m.\u001b[0m\u001b[0mloads\u001b[0m\u001b[0;34m(\u001b[0m\u001b[0mallvars\u001b[0m\u001b[0;34m)\u001b[0m\u001b[0;34m[\u001b[0m\u001b[0;34m'variables'\u001b[0m\u001b[0;34m]\u001b[0m\u001b[0;34m\u001b[0m\u001b[0m\n",
      "\u001b[0;31mFileNotFoundError\u001b[0m: [Errno 2] No such file or directory: '/home/jupyter-sweinstein/.local/lib/python3.6/site-packages/censusdata/variables/sf1_2015_variables.json'"
     ]
    }
   ],
   "source": [
    "\n",
    "censusdata.printtable(censusdata.censustable('sf1', 2015, 'P003001'))\n",
    "#c.sf1.state_zipcode(('NAME', 'P003001','P003002', 'P003003','P003004', 'P003005',\n",
    "#                     'P003006', 'P003007','P003008', 'P004002', 'P013001', 'P013002', 'P013003', 'P015001','P017001', 'P031001'),states.CT.fips, Census.ALL)\n",
    "\n"
   ]
  },
  {
   "cell_type": "code",
   "execution_count": 14,
   "metadata": {},
   "outputs": [],
   "source": [
    "# Still trying to batch process\n",
    "\n",
    "#States = ['AL', 'AK', 'AZ', 'AR', 'CA', 'CO', 'CT', 'DE', 'FL', 'GA', 'HI', 'ID', 'IL', 'IN', 'IA', 'KS', 'KY', 'LA', 'ME', 'MD', 'MA', 'MI', 'MN', 'MS', 'MO', 'MT', 'NE', 'NV', 'NH', 'NJ', 'NM', 'NY', 'NC', 'ND', 'OH', 'OK', 'OR', 'PA', 'RI', 'SC', 'SD', 'TN', 'TX', 'UT', 'VT', 'VA', 'WA', 'WV', 'WI', 'WY'\n",
    "#, 'ZZ']\n",
    "\n",
    "#for s in States:\n",
    "#    if s == 'ZZ':\n",
    "#        break\n",
    "#    print(s)\n",
    "\n",
    "#c.sf1.state_zipcode(('NAME', 'P003001','P003002', 'P003003','P003004', 'P003005', 'P003006', 'P003007','P003008', 'P004002', 'P013001', 'P013002', 'P013003', 'P015001','P017001', 'P031001'),states.CT.fips, Census.ALL)\n",
    "\n",
    "#c.sf1.state_zipcode(('NAME', 'P003001','P003002', 'P003003','P003004', 'P003005', 'P003006', 'P003007','P003008', 'P004002', 'P013001', 'P013002', 'P013003', 'P015001','P017001', 'P031001'),{'for': 'zcta:*'})  #'state:*',\n",
    "\n",
    "\n",
    "#print c.sf1.get(('NAME', 'P003001','P003002', 'P003003','P003004', 'P003005', 'P003006', 'P003007','P003008', 'P004002', 'P013001', 'P013002', 'P013003', 'P015001','P017001', 'P031001'), {'for': 'zipcode:*'})\n",
    "#   c.acs5.get('B01001_004E', {'for': 'state:*'})\n",
    "\n",
    "#c.acs5.get(('NAME', 'B25034_010E'),\n",
    " #         {'for': 'state:{}'.format(states.MD.fips)})"
   ]
  },
  {
   "cell_type": "code",
   "execution_count": 15,
   "metadata": {},
   "outputs": [
    {
     "ename": "SyntaxError",
     "evalue": "can't assign to operator (<ipython-input-15-c9bb840bb8be>, line 1)",
     "output_type": "error",
     "traceback": [
      "\u001b[0;36m  File \u001b[0;32m\"<ipython-input-15-c9bb840bb8be>\"\u001b[0;36m, line \u001b[0;32m1\u001b[0m\n\u001b[0;31m    Race-Zip = censusdata.download((('NAME', 'P003001','P003002', 'P003003','P003004', 'P003005', 'P003006', 'P003007','P003008', 'P004002', 'P013001', 'P013002', 'P013003', 'P015001','P017001', 'P031001'),states.CT.fips, Census.ALL),\u001b[0m\n\u001b[0m                                                                                                                                                                                                                                          ^\u001b[0m\n\u001b[0;31mSyntaxError\u001b[0m\u001b[0;31m:\u001b[0m can't assign to operator\n"
     ]
    }
   ],
   "source": [
    "Race-Zip = censusdata.download((('NAME', 'P003001','P003002', 'P003003','P003004', 'P003005', 'P003006', 'P003007','P003008', 'P004002', 'P013001', 'P013002', 'P013003', 'P015001','P017001', 'P031001'),states.CT.fips, Census.ALL),\n",
    "                                   tabletype='profile')\n",
    "\n",
    "\n",
    "#county65plus = censusdata.download('acs5', 2015, censusdata.censusgeo([('county', '*')]),\n",
    " #                                  ['DP05_0001E', 'DP05_0014PE', 'DP05_0015PE', 'DP05_0016PE',],\n",
    "  #                                 tabletype='profile')\n",
    "#county65plus.describe()"
   ]
  },
  {
   "cell_type": "code",
   "execution_count": null,
   "metadata": {},
   "outputs": [],
   "source": [
    "# create csv file\n",
    "\n",
    "df.to_csv('Race-Zip.csv')\n",
    "Race-Zip = \n",
    "csv.write(\"Race-Zip.csv\")\n",
    "\n",
    "#csv.write('ZCTA5', 'P003001','P003002', 'P003003','P003004', 'P003005', 'P003006', 'P003007','P003008', 'P004002')\n",
    "\n",
    "#dic = {'NAME': }\n",
    "#Race-Zip = \"Race-Zip.csv\"\n",
    "#csv = open(download_dir,\"w\")"
   ]
  },
  {
   "cell_type": "code",
   "execution_count": null,
   "metadata": {},
   "outputs": [],
   "source": [
    "\n",
    "\n"
   ]
  },
  {
   "cell_type": "code",
   "execution_count": null,
   "metadata": {},
   "outputs": [],
   "source": []
  }
 ],
 "metadata": {
  "kernelspec": {
   "display_name": "Python 3",
   "language": "python",
   "name": "python3"
  },
  "language_info": {
   "codemirror_mode": {
    "name": "ipython",
    "version": 3
   },
   "file_extension": ".py",
   "mimetype": "text/x-python",
   "name": "python",
   "nbconvert_exporter": "python",
   "pygments_lexer": "ipython3",
   "version": "3.6.5"
  }
 },
 "nbformat": 4,
 "nbformat_minor": 2
}
