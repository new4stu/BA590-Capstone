{
 "cells": [
  {
   "cell_type": "code",
   "execution_count": 1,
   "metadata": {},
   "outputs": [],
   "source": [
    "# Import Census data and Geographies\n",
    "# List of Geographies and codes: https://jtleider.github.io/censusdata/geographies.html\n",
    "\n",
    "from census import Census\n",
    "from us import states\n",
    "\n",
    "# importing additional libraries\n",
    "import numpy as np\n",
    "import matplotlib.pyplot as plt\n",
    "import seaborn as sns\n",
    "sns.set()\n",
    "import sklearn\n",
    "\n",
    "#  importing the censusdata and pandas modules, and setting some display options in pandas\n",
    "\n",
    "import pandas as pd\n",
    "import censusdata\n",
    "pd.set_option('display.expand_frame_repr', False)\n",
    "pd.set_option('display.precision', 2)\n",
    "\n",
    "c = Census(\"c99084947ed68bfbd3d7359ba2340346f7984e60\")\n"
   ]
  },
  {
   "cell_type": "code",
   "execution_count": 2,
   "metadata": {},
   "outputs": [],
   "source": [
    "# Count of Single Race Households by Zip\n",
    "    #P003001 Total poulation\n",
    "    #P003002 Population of one race\n",
    "    #P003003 White alone\n",
    "    #P003004 Black or African American alone\n",
    "    #P003005 American Indian and Alaska Native alone\n",
    "    #P003006 Asian alone\n",
    "    #P003007 Native Hawaiian and Other Pacific Islander alone\n",
    "    #P003008 Some other race alone\n",
    "    #P004002 Hispanic or Latino\n",
    "    #P013001 Both sexes MEDIAN AGE BY SEX\n",
    "    #P013002 Male MEDIAN AGE BY SEX\n",
    "    #P013003 Female MEDIAN AGE BY SEX\n",
    "    #P015001 Total HOUSEHOLDS\n",
    "    #P017001 Average household size \n",
    "    #P031001 Total FAMILIES\n",
    "    \n",
    "# ZIP Code Tabulation Area (ZCTA)\n",
    "\n",
    "#States = ['AL', 'AK', 'AZ', 'AR', 'CA', 'CO', 'CT', 'DE', 'FL', 'GA', 'HI', 'ID', 'IL', 'IN', 'IA', 'KS', 'KY', 'LA', 'ME', 'MD', 'MA', 'MI', 'MN', 'MS', 'MO', 'MT', 'NE', 'NV', 'NH', 'NJ', 'NM', 'NY', 'NC', 'ND', 'OH', 'OK', 'OR', 'PA', 'RI', 'SC', 'SD', 'TN', 'TX', 'UT', 'VT', 'VA', 'WA', 'WV', 'WI', 'WY'\n",
    "#, 'ZZ']\n",
    "\n",
    "#for s in States:\n",
    "#    if s == 'ZZ':\n",
    "#        break\n",
    "#    print(s)\n",
    "\n",
    "#c.sf1.state_zipcode(('NAME', 'P003001','P003002', 'P003003','P003004', 'P003005', 'P003006', 'P003007','P003008', 'P004002', 'P013001', 'P013002', 'P013003', 'P015001','P017001', 'P031001'),states.CT.fips, Census.ALL)\n",
    "\n",
    "#c.sf1.state_zipcode(('NAME', 'P003001','P003002', 'P003003','P003004', 'P003005', 'P003006', 'P003007','P003008', 'P004002', 'P013001', 'P013002', 'P013003', 'P015001','P017001', \n",
    "#                     'P031001'),states.CT.fips, Census.ALL)\n",
    "\n",
    "#c.sf1.ZCTA(('NAME', 'P003001','P003002', 'P003003','P003004', 'P003005', 'P003006', 'P003007','P003008', 'P004002', 'P013001', 'P013002', 'P013003', 'P015001','P017001', 'P031001'), Census.ALL)"
   ]
  },
  {
   "cell_type": "code",
   "execution_count": null,
   "metadata": {},
   "outputs": [],
   "source": [
    "\n",
    "censusdata.printtable(censusdata.censustable('sf1', 2015, 'P003001'))\n",
    "#c.sf1.state_zipcode(('NAME', 'P003001','P003002', 'P003003','P003004', 'P003005',\n",
    "#                     'P003006', 'P003007','P003008', 'P004002', 'P013001', 'P013002', 'P013003', 'P015001','P017001', 'P031001'),states.CT.fips, Census.ALL)\n",
    "\n"
   ]
  },
  {
   "cell_type": "code",
   "execution_count": null,
   "metadata": {},
   "outputs": [],
   "source": [
    "# Still trying to batch process\n",
    "\n",
    "#States = ['AL', 'AK', 'AZ', 'AR', 'CA', 'CO', 'CT', 'DE', 'FL', 'GA', 'HI', 'ID', 'IL', 'IN', 'IA', 'KS', 'KY', 'LA', 'ME', 'MD', 'MA', 'MI', 'MN', 'MS', 'MO', 'MT', 'NE', 'NV', 'NH', 'NJ', 'NM', 'NY', 'NC', 'ND', 'OH', 'OK', 'OR', 'PA', 'RI', 'SC', 'SD', 'TN', 'TX', 'UT', 'VT', 'VA', 'WA', 'WV', 'WI', 'WY'\n",
    "#, 'ZZ']\n",
    "\n",
    "#for s in States:\n",
    "#    if s == 'ZZ':\n",
    "#        break\n",
    "#    print(s)\n",
    "\n",
    "#c.sf1.state_zipcode(('NAME', 'P003001','P003002', 'P003003','P003004', 'P003005', 'P003006', 'P003007','P003008', 'P004002', 'P013001', 'P013002', 'P013003', 'P015001','P017001', 'P031001'),states.CT.fips, Census.ALL)\n",
    "\n",
    "#c.sf1.state_zipcode(('NAME', 'P003001','P003002', 'P003003','P003004', 'P003005', 'P003006', 'P003007','P003008', 'P004002', 'P013001', 'P013002', 'P013003', 'P015001','P017001', 'P031001'),{'for': 'zcta:*'})  #'state:*',\n",
    "\n",
    "\n",
    "#print c.sf1.get(('NAME', 'P003001','P003002', 'P003003','P003004', 'P003005', 'P003006', 'P003007','P003008', 'P004002', 'P013001', 'P013002', 'P013003', 'P015001','P017001', 'P031001'), {'for': 'zipcode:*'})\n",
    "#   c.acs5.get('B01001_004E', {'for': 'state:*'})\n",
    "\n",
    "#c.acs5.get(('NAME', 'B25034_010E'),\n",
    " #         {'for': 'state:{}'.format(states.MD.fips)})"
   ]
  },
  {
   "cell_type": "code",
   "execution_count": null,
   "metadata": {},
   "outputs": [],
   "source": [
    "Race-Zip = censusdata.download((('NAME', 'P003001','P003002', 'P003003','P003004', 'P003005', 'P003006', 'P003007','P003008', 'P004002', 'P013001', 'P013002', 'P013003', 'P015001','P017001', 'P031001'),states.CT.fips, Census.ALL),\n",
    "                                   tabletype='profile')\n",
    "\n",
    "\n",
    "#county65plus = censusdata.download('acs5', 2015, censusdata.censusgeo([('county', '*')]),\n",
    " #                                  ['DP05_0001E', 'DP05_0014PE', 'DP05_0015PE', 'DP05_0016PE',],\n",
    "  #                                 tabletype='profile')\n",
    "#county65plus.describe()"
   ]
  },
  {
   "cell_type": "code",
   "execution_count": null,
   "metadata": {},
   "outputs": [],
   "source": [
    "# create csv file\n",
    "\n",
    "df.to_csv('Race-Zip.csv')\n",
    "Race-Zip = \n",
    "csv.write(\"Race-Zip.csv\")\n",
    "\n",
    "#csv.write('ZCTA5', 'P003001','P003002', 'P003003','P003004', 'P003005', 'P003006', 'P003007','P003008', 'P004002')\n",
    "\n",
    "#dic = {'NAME': }\n",
    "#Race-Zip = \"Race-Zip.csv\"\n",
    "#csv = open(download_dir,\"w\")"
   ]
  },
  {
   "cell_type": "code",
   "execution_count": null,
   "metadata": {},
   "outputs": [],
   "source": [
    "\n",
    "\n"
   ]
  },
  {
   "cell_type": "code",
   "execution_count": null,
   "metadata": {},
   "outputs": [],
   "source": []
  }
 ],
 "metadata": {
  "kernelspec": {
   "display_name": "Python 3",
   "language": "python",
   "name": "python3"
  },
  "language_info": {
   "codemirror_mode": {
    "name": "ipython",
    "version": 3
   },
   "file_extension": ".py",
   "mimetype": "text/x-python",
   "name": "python",
   "nbconvert_exporter": "python",
   "pygments_lexer": "ipython3",
   "version": "3.6.5"
  }
 },
 "nbformat": 4,
 "nbformat_minor": 2
}
