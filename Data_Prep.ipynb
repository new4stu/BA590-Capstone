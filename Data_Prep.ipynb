{
 "cells": [
  {
   "cell_type": "markdown",
   "metadata": {},
   "source": [
    "# Steps for all of us\n",
    "\n",
    "Choose a dataset that you want to use. \n",
    "\n",
    "You may do whatever steps you think necessary for building the best classifier.\n",
    "\n",
    "Take the data you chose and do whatever massaging you think is necessary: standardizing, scaling, feature engineering/ transforming, feature selection, etc.  \n",
    "\n",
    "Build a classifier however you see fit. You may want build one and tweak the paramters manually or use some sort of grid search to look through all possible parameters. \n",
    "\n",
    "Remember: The same model built on the massaged data may perform better than if the data was untouched. It may be more conveniant to chose a standared massaging pipeline and tweak a model to that data.\n",
    "\n",
    "After you massage your data, follow these steps:\n",
    "\n",
    "if you want to balance your target (which you should) follow along these lines:\n",
    "\n",
    "### build your features data and target data\n",
    "\n",
    "- X = df.drop(columns = \"whatever your target name is\")\n",
    "- y = df\"whatever your target name is\"\n",
    "\n",
    "### split the data into training and testing\n",
    "\n",
    "- X_train, X_test, y_train, y_test = train_test_split(X, y, test_size=0.2, random_state=2019)\n",
    "\n",
    "### create the oversampled data to train on \n",
    "\n",
    "- oversampler = SMOTE(random_state = 2019)\n",
    "- X_train_oversampled, y_train_oversampled = oversampler.fit_resample(X_train, y_train)\n",
    "\n",
    "### Put the oversampled data back into a dataframe\n",
    "\n",
    "- X_train_oversampled = pd.DataFrame(X_train_oversampled, columns = X_train.columns)\n",
    "- y_train_oversampled = pd.Series(y_train_oversampled)\n",
    "\n",
    "### Build your classifier here. As an example:\n",
    "\n",
    "- xgb_clf = xgb.XGBClassifier(max_depth=5, n_estimators=100, colsample_bytree=0.3, learning_rate=0.1, n_jobs=-1)\n",
    "\n",
    " \n",
    "### Fit to the oversampled data; this will train the classifier on the oversampled data\n",
    "\n",
    "- xgb_clf.fit(X_train_oversampled, y_train_oversampled)\n",
    "\n",
    "### Use 5-fold cross validation to see how well the classfier you built is doing on test data. \n",
    "Some points: you have to substitute your classifer name in the cross_val_score function \n",
    "\n",
    "- kfold = KFold(n_splits=5, random_state=2019)\n",
    "- results = cross_val_score(xgb_clf, X_test, y_test, cv=kfold, scoring = 'f1')\n",
    "\n",
    "\n",
    "## It may be best to keep all of your models you built; have a log of them to see their scores and keep a record of your process of building your data. \n",
    "\n"
   ]
  },
  {
   "cell_type": "code",
   "execution_count": 1,
   "metadata": {},
   "outputs": [
    {
     "ename": "ModuleNotFoundError",
     "evalue": "No module named 'Modules'",
     "output_type": "error",
     "traceback": [
      "\u001b[0;31m---------------------------------------------------------------------------\u001b[0m",
      "\u001b[0;31mModuleNotFoundError\u001b[0m                       Traceback (most recent call last)",
      "\u001b[0;32m<ipython-input-1-34fb7fe36a29>\u001b[0m in \u001b[0;36m<module>\u001b[0;34m\u001b[0m\n\u001b[1;32m      7\u001b[0m \u001b[0;32mimport\u001b[0m \u001b[0mseaborn\u001b[0m \u001b[0;32mas\u001b[0m \u001b[0msns\u001b[0m\u001b[0;34m\u001b[0m\u001b[0;34m\u001b[0m\u001b[0m\n\u001b[1;32m      8\u001b[0m \u001b[0;32mimport\u001b[0m \u001b[0mcopy\u001b[0m\u001b[0;34m\u001b[0m\u001b[0;34m\u001b[0m\u001b[0m\n\u001b[0;32m----> 9\u001b[0;31m \u001b[0;32mfrom\u001b[0m \u001b[0mModules\u001b[0m \u001b[0;32mimport\u001b[0m \u001b[0;34m*\u001b[0m\u001b[0;34m\u001b[0m\u001b[0;34m\u001b[0m\u001b[0m\n\u001b[0m\u001b[1;32m     10\u001b[0m \u001b[0msns\u001b[0m\u001b[0;34m.\u001b[0m\u001b[0mset\u001b[0m\u001b[0;34m(\u001b[0m\u001b[0;34m)\u001b[0m\u001b[0;34m\u001b[0m\u001b[0;34m\u001b[0m\u001b[0m\n\u001b[1;32m     11\u001b[0m \u001b[0mget_ipython\u001b[0m\u001b[0;34m(\u001b[0m\u001b[0;34m)\u001b[0m\u001b[0;34m.\u001b[0m\u001b[0mrun_line_magic\u001b[0m\u001b[0;34m(\u001b[0m\u001b[0;34m'matplotlib'\u001b[0m\u001b[0;34m,\u001b[0m \u001b[0;34m'inline'\u001b[0m\u001b[0;34m)\u001b[0m\u001b[0;34m\u001b[0m\u001b[0;34m\u001b[0m\u001b[0m\n",
      "\u001b[0;31mModuleNotFoundError\u001b[0m: No module named 'Modules'"
     ]
    }
   ],
   "source": [
    "import warnings\n",
    "warnings.filterwarnings('ignore')\n",
    "import pandas as pd\n",
    "import numpy as np\n",
    "import sklearn\n",
    "import matplotlib.pyplot as plt\n",
    "import seaborn as sns\n",
    "import copy\n",
    "from Modules import *\n",
    "sns.set()\n",
    "%matplotlib inline\n",
    "import imblearn\n"
   ]
  },
  {
   "cell_type": "markdown",
   "metadata": {},
   "source": [
    "### read in the full sequential data"
   ]
  },
  {
   "cell_type": "code",
   "execution_count": null,
   "metadata": {},
   "outputs": [],
   "source": [
    "df = pd.read_csv('Sequential_data_trimmed.csv')\n",
    "y = df['Y']\n",
    "\n",
    "df.head().T"
   ]
  },
  {
   "cell_type": "code",
   "execution_count": null,
   "metadata": {},
   "outputs": [],
   "source": [
    "#split my data\n",
    "X = df.drop(columns = 'Y')\n",
    "y = df['Y']"
   ]
  },
  {
   "cell_type": "code",
   "execution_count": null,
   "metadata": {},
   "outputs": [],
   "source": [
    "#split into training and testing\n",
    "\n",
    "from sklearn.model_selection import train_test_split, KFold, cross_val_score\n",
    "X_train, X_test, y_train, y_test = train_test_split(X, y, random_state= 2019, test_size = .2)"
   ]
  },
  {
   "cell_type": "code",
   "execution_count": null,
   "metadata": {},
   "outputs": [],
   "source": [
    "from imblearn.over_sampling import SMOTE\n",
    "\n",
    "#create my oversampled data to train on\n",
    "oversampler = SMOTE(random_state = 2019)\n",
    "X_train_oversampled, y_train_oversampled = oversampler.fit_resample(X_train, y_train)"
   ]
  },
  {
   "cell_type": "code",
   "execution_count": null,
   "metadata": {},
   "outputs": [],
   "source": [
    "#Put the oversampled data back into a dataframe\n",
    "X_train_oversampled = pd.DataFrame(X_train_oversampled, columns = X_train.columns)\n",
    "y_train_oversampled = pd.Series(y_train_oversampled)"
   ]
  },
  {
   "cell_type": "code",
   "execution_count": null,
   "metadata": {},
   "outputs": [],
   "source": [
    "# build my classifier\n",
    "from sklearn.linear_model import LogisticRegression, LogisticRegressionCV\n",
    "clf = LogisticRegression()"
   ]
  },
  {
   "cell_type": "code",
   "execution_count": null,
   "metadata": {},
   "outputs": [],
   "source": [
    "#Fit to the oversampled data; this will train the classifier on the oversampled data\n",
    "clf.fit(X_train_oversampled, y_train_oversampled)"
   ]
  },
  {
   "cell_type": "code",
   "execution_count": null,
   "metadata": {},
   "outputs": [],
   "source": [
    "#Use 5-fold cross validation to see how well the classfier you built is doing on test data.\n",
    "\n",
    "kfold = KFold(n_splits=5, random_state=2019)\n",
    "results = cross_val_score(clf, X_test, y_test, cv=kfold, scoring = 'f1')\n",
    "\n",
    "print(f\"5-fold cross-validation results: {np.mean(results)}\")"
   ]
  },
  {
   "cell_type": "code",
   "execution_count": null,
   "metadata": {},
   "outputs": [],
   "source": [
    "#tweak my classifer\n",
    "\n",
    "clf2 = LogisticRegression(C = .5)\n",
    "\n",
    "clf2.fit(X_train_oversampled, y_train_oversampled)\n",
    "\n",
    "results = cross_val_score(clf2, X_test, y_test, cv=kfold, scoring = 'f1')\n",
    "\n",
    "print(f\"5-fold cross-validation results: {np.mean(results)}\")"
   ]
  },
  {
   "cell_type": "code",
   "execution_count": null,
   "metadata": {},
   "outputs": [],
   "source": [
    "clf_cv = LogisticRegressionCV(n_jobs = -1)\n",
    "\n",
    "clf_cv.fit(X_train_oversampled, y_train_oversampled)\n",
    "\n",
    "results = cross_val_score(clf, X_test, y_test, cv=kfold, scoring = 'f1')\n",
    "\n",
    "print(f\"5-fold cross-validation results: {np.mean(results)}\")"
   ]
  },
  {
   "cell_type": "code",
   "execution_count": null,
   "metadata": {},
   "outputs": [],
   "source": []
  }
 ],
 "metadata": {
  "kernelspec": {
   "display_name": "Python 3",
   "language": "python",
   "name": "python3"
  },
  "language_info": {
   "codemirror_mode": {
    "name": "ipython",
    "version": 3
   },
   "file_extension": ".py",
   "mimetype": "text/x-python",
   "name": "python",
   "nbconvert_exporter": "python",
   "pygments_lexer": "ipython3",
   "version": "3.6.7"
  }
 },
 "nbformat": 4,
 "nbformat_minor": 2
}
