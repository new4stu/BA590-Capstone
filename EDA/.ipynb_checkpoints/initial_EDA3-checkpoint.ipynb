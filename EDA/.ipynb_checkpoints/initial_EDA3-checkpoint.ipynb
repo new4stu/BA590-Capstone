{
 "cells": [
  {
   "cell_type": "markdown",
   "metadata": {},
   "source": [
    "## Initial EDA\n",
    "\n",
    "load in the data and first look at our target variable\n"
   ]
  },
  {
   "cell_type": "code",
   "execution_count": 1,
   "metadata": {},
   "outputs": [],
   "source": [
    "import pandas as pd\n",
    "import numpy as np\n",
    "import sklearn\n",
    "import matplotlib.pyplot as plt\n",
    "import seaborn as sns\n",
    "sns.set()\n",
    "%matplotlib inline\n",
    "\n",
    "from sklearn.tree import DecisionTreeClassifier                          # Import Decision Tree Classifier\n",
    "from sklearn.model_selection import train_test_split                     # Import train_test_split function from sklearn\n",
    "from sklearn import metrics                                              #Import scikit-learn metrics module for accuracy calculation\n",
    "from imblearn.over_sampling import SMOTE"
   ]
  },
  {
   "cell_type": "code",
   "execution_count": 2,
   "metadata": {},
   "outputs": [
    {
     "data": {
      "text/html": [
       "<div>\n",
       "<style scoped>\n",
       "    .dataframe tbody tr th:only-of-type {\n",
       "        vertical-align: middle;\n",
       "    }\n",
       "\n",
       "    .dataframe tbody tr th {\n",
       "        vertical-align: top;\n",
       "    }\n",
       "\n",
       "    .dataframe thead th {\n",
       "        text-align: right;\n",
       "    }\n",
       "</style>\n",
       "<table border=\"1\" class=\"dataframe\">\n",
       "  <thead>\n",
       "    <tr style=\"text-align: right;\">\n",
       "      <th></th>\n",
       "      <th>Households SNAP</th>\n",
       "      <th>Estimated Individuals SNAP</th>\n",
       "      <th>SNAP percent Population</th>\n",
       "      <th>SNAP Per Capita Benefit or TAM</th>\n",
       "      <th>Total Citizen Educated in US</th>\n",
       "      <th>Citizen Less than High School Education</th>\n",
       "      <th>Citizen High School  Graduate</th>\n",
       "      <th>Citizen Some College Education</th>\n",
       "      <th>Citizen College Degree</th>\n",
       "      <th>Citizen Graduate or Professional Degree</th>\n",
       "      <th>...</th>\n",
       "      <th>Other Race Alone</th>\n",
       "      <th>Hispanic or Latino</th>\n",
       "      <th>Median Age</th>\n",
       "      <th>Male Median Age</th>\n",
       "      <th>Female Median Age</th>\n",
       "      <th>Total Households</th>\n",
       "      <th>Average Household Size</th>\n",
       "      <th>Total Families</th>\n",
       "      <th>state code</th>\n",
       "      <th>zip code</th>\n",
       "    </tr>\n",
       "  </thead>\n",
       "  <tbody>\n",
       "    <tr>\n",
       "      <th>0</th>\n",
       "      <td>765</td>\n",
       "      <td>1705.95</td>\n",
       "      <td>0.101732</td>\n",
       "      <td>2564042.85</td>\n",
       "      <td>13358</td>\n",
       "      <td>1167</td>\n",
       "      <td>3779</td>\n",
       "      <td>4397</td>\n",
       "      <td>2397</td>\n",
       "      <td>1618</td>\n",
       "      <td>...</td>\n",
       "      <td>229</td>\n",
       "      <td>16209</td>\n",
       "      <td>45.5</td>\n",
       "      <td>43.0</td>\n",
       "      <td>47.7</td>\n",
       "      <td>7215</td>\n",
       "      <td>2.23</td>\n",
       "      <td>3098</td>\n",
       "      <td>25</td>\n",
       "      <td>1001</td>\n",
       "    </tr>\n",
       "    <tr>\n",
       "      <th>1</th>\n",
       "      <td>749</td>\n",
       "      <td>1827.56</td>\n",
       "      <td>0.062913</td>\n",
       "      <td>2746822.68</td>\n",
       "      <td>13787</td>\n",
       "      <td>633</td>\n",
       "      <td>1684</td>\n",
       "      <td>2229</td>\n",
       "      <td>3405</td>\n",
       "      <td>5836</td>\n",
       "      <td>...</td>\n",
       "      <td>1217</td>\n",
       "      <td>26766</td>\n",
       "      <td>24.0</td>\n",
       "      <td>23.6</td>\n",
       "      <td>24.8</td>\n",
       "      <td>9910</td>\n",
       "      <td>2.44</td>\n",
       "      <td>4050</td>\n",
       "      <td>25</td>\n",
       "      <td>1002</td>\n",
       "    </tr>\n",
       "    <tr>\n",
       "      <th>2</th>\n",
       "      <td>8</td>\n",
       "      <td>25.60</td>\n",
       "      <td>0.002468</td>\n",
       "      <td>38476.80</td>\n",
       "      <td>136</td>\n",
       "      <td>26</td>\n",
       "      <td>13</td>\n",
       "      <td>68</td>\n",
       "      <td>14</td>\n",
       "      <td>15</td>\n",
       "      <td>...</td>\n",
       "      <td>372</td>\n",
       "      <td>9843</td>\n",
       "      <td>20.2</td>\n",
       "      <td>20.2</td>\n",
       "      <td>20.1</td>\n",
       "      <td>5</td>\n",
       "      <td>3.20</td>\n",
       "      <td>10</td>\n",
       "      <td>25</td>\n",
       "      <td>1003</td>\n",
       "    </tr>\n",
       "    <tr>\n",
       "      <th>3</th>\n",
       "      <td>147</td>\n",
       "      <td>383.67</td>\n",
       "      <td>0.075540</td>\n",
       "      <td>576656.01</td>\n",
       "      <td>3498</td>\n",
       "      <td>123</td>\n",
       "      <td>1270</td>\n",
       "      <td>1023</td>\n",
       "      <td>547</td>\n",
       "      <td>535</td>\n",
       "      <td>...</td>\n",
       "      <td>71</td>\n",
       "      <td>4990</td>\n",
       "      <td>41.0</td>\n",
       "      <td>40.0</td>\n",
       "      <td>41.7</td>\n",
       "      <td>1904</td>\n",
       "      <td>2.61</td>\n",
       "      <td>1284</td>\n",
       "      <td>25</td>\n",
       "      <td>1005</td>\n",
       "    </tr>\n",
       "    <tr>\n",
       "      <th>4</th>\n",
       "      <td>450</td>\n",
       "      <td>1179.00</td>\n",
       "      <td>0.080483</td>\n",
       "      <td>1772037.00</td>\n",
       "      <td>10062</td>\n",
       "      <td>644</td>\n",
       "      <td>2407</td>\n",
       "      <td>2518</td>\n",
       "      <td>2423</td>\n",
       "      <td>2070</td>\n",
       "      <td>...</td>\n",
       "      <td>260</td>\n",
       "      <td>14264</td>\n",
       "      <td>41.1</td>\n",
       "      <td>40.0</td>\n",
       "      <td>42.0</td>\n",
       "      <td>5595</td>\n",
       "      <td>2.62</td>\n",
       "      <td>3691</td>\n",
       "      <td>25</td>\n",
       "      <td>1007</td>\n",
       "    </tr>\n",
       "  </tbody>\n",
       "</table>\n",
       "<p>5 rows × 37 columns</p>\n",
       "</div>"
      ],
      "text/plain": [
       "   Households SNAP  Estimated Individuals SNAP  SNAP percent Population  \\\n",
       "0              765                     1705.95                 0.101732   \n",
       "1              749                     1827.56                 0.062913   \n",
       "2                8                       25.60                 0.002468   \n",
       "3              147                      383.67                 0.075540   \n",
       "4              450                     1179.00                 0.080483   \n",
       "\n",
       "   SNAP Per Capita Benefit or TAM  Total Citizen Educated in US  \\\n",
       "0                      2564042.85                         13358   \n",
       "1                      2746822.68                         13787   \n",
       "2                        38476.80                           136   \n",
       "3                       576656.01                          3498   \n",
       "4                      1772037.00                         10062   \n",
       "\n",
       "   Citizen Less than High School Education  Citizen High School  Graduate  \\\n",
       "0                                     1167                           3779   \n",
       "1                                      633                           1684   \n",
       "2                                       26                             13   \n",
       "3                                      123                           1270   \n",
       "4                                      644                           2407   \n",
       "\n",
       "   Citizen Some College Education  Citizen College Degree  \\\n",
       "0                            4397                    2397   \n",
       "1                            2229                    3405   \n",
       "2                              68                      14   \n",
       "3                            1023                     547   \n",
       "4                            2518                    2423   \n",
       "\n",
       "   Citizen Graduate or Professional Degree    ...     Other Race Alone  \\\n",
       "0                                     1618    ...                  229   \n",
       "1                                     5836    ...                 1217   \n",
       "2                                       15    ...                  372   \n",
       "3                                      535    ...                   71   \n",
       "4                                     2070    ...                  260   \n",
       "\n",
       "   Hispanic or Latino  Median Age  Male Median Age  Female Median Age  \\\n",
       "0               16209        45.5             43.0               47.7   \n",
       "1               26766        24.0             23.6               24.8   \n",
       "2                9843        20.2             20.2               20.1   \n",
       "3                4990        41.0             40.0               41.7   \n",
       "4               14264        41.1             40.0               42.0   \n",
       "\n",
       "   Total Households  Average Household Size  Total Families  state code  \\\n",
       "0              7215                    2.23            3098          25   \n",
       "1              9910                    2.44            4050          25   \n",
       "2                 5                    3.20              10          25   \n",
       "3              1904                    2.61            1284          25   \n",
       "4              5595                    2.62            3691          25   \n",
       "\n",
       "   zip code  \n",
       "0      1001  \n",
       "1      1002  \n",
       "2      1003  \n",
       "3      1005  \n",
       "4      1007  \n",
       "\n",
       "[5 rows x 37 columns]"
      ]
     },
     "execution_count": 2,
     "metadata": {},
     "output_type": "execute_result"
    }
   ],
   "source": [
    "#df = pd.read_excel('Full_Datav6_zip_extract.xls', header=None)\n",
    "#df = pd.read_excel('Full_Datav5.xlsx', header=0)\n",
    "#df = pd.read_csv('Full_Datav5.csv', header=0)\n",
    "\n",
    "\n",
    "\n",
    "#y = df['Y']\n",
    "#y = df.Y\n",
    "\n",
    "#df.head()\n",
    "\n",
    "#df = pd.read_excel('Full_Datav4.xls', header=0)\n",
    "#df = pd.read_excel('Full_Datav6_zip_extract.xls', header=None)\n",
    "df = pd.read_excel('Full_Datav6_zip_extractt.xls', header=0, skiprows=0, names=['Households SNAP' , 'Estimated Individuals SNAP' , 'SNAP percent Population' , \n",
    "                                                                                'SNAP Per Capita Benefit or TAM' , 'Total Citizen Educated in US' , \n",
    "                                                                                'Citizen Less than High School Education' , 'Citizen High School  Graduate' , \n",
    "                                                                                'Citizen Some College Education' , 'Citizen College Degree'  , 'Citizen Graduate or Professional Degree',\n",
    "                                                                                'Total Citizen Income' , 'Citizen No Income' , 'Citizen Income 1-9999' , 'Citizen Income 10000-14999' , \n",
    "                                                                                'Citizen Income 15000-24999' , 'Citizen Income 25000-34999' , 'Citizen Income 35000-49999' , \n",
    "                                                                                'Citizen Income 50000-64999' , 'Citizen Income 65000-74999' , 'Citizen Income 75000 plus'  , \n",
    "                                                                                'Total Population' , 'One Race Population' , 'White Race' , 'Black Race' , 'Native American Race' , \n",
    "                                                                                'Asian Race' , 'Pacific Islander Race' , 'Other Race Alone' , 'Hispanic or Latino' ,\n",
    "                                                                                'Median Age', 'Male Median Age' , 'Female Median Age', 'Total Households' , 'Average Household Size' , \n",
    "                                                                                'Total Families' , 'state code' , 'zip code'])\n",
    "\n",
    "\n",
    "#df = pd.read_excel('Full_Datav6_zip_extractt.xls', skiprows=1, names=['1'])\n",
    "                                                                #      ,2,3,4,5,6,7,8,9,10,11,12,13,14,15,16,17,18,19,20,21,22,23,24,25,26,27,28,29,30,31,32,33,34,35,36,37'])\n",
    "\n",
    "#df = pd.read_csv('Full_Datav6_zip_extracttf.csv')\n",
    "\n",
    "#df = pd.read_excel('Full_Datav4.xls', header=None)\n",
    "\n",
    "\n",
    "#df.columns = df.iloc[0,:]\n",
    "\n",
    "#df.rename(index=str, columns={\"SNAP Per Capita Benefit or TAM\": \"Y\"}, inplace=True)\n",
    "\n",
    "#df.drop('ID', inplace=True, axis=0)\n",
    "\n",
    "#y = df[\"Y\"]\n",
    "#y = df.Y\n",
    "\n",
    "df.head()"
   ]
  },
  {
   "cell_type": "code",
   "execution_count": 3,
   "metadata": {},
   "outputs": [
    {
     "name": "stdout",
     "output_type": "stream",
     "text": [
      "<class 'pandas.core.frame.DataFrame'>\n",
      "RangeIndex: 32936 entries, 0 to 32935\n",
      "Data columns (total 37 columns):\n",
      "Households SNAP                            32936 non-null int64\n",
      "Estimated Individuals SNAP                 32936 non-null float64\n",
      "SNAP percent Population                    32936 non-null float64\n",
      "SNAP Per Capita Benefit or TAM             32936 non-null float64\n",
      "Total Citizen Educated in US               32936 non-null int64\n",
      "Citizen Less than High School Education    32936 non-null int64\n",
      "Citizen High School  Graduate              32936 non-null int64\n",
      "Citizen Some College Education             32936 non-null int64\n",
      "Citizen College Degree                     32936 non-null int64\n",
      "Citizen Graduate or Professional Degree    32936 non-null int64\n",
      "Total Citizen Income                       32936 non-null int64\n",
      "Citizen No Income                          32936 non-null int64\n",
      "Citizen Income 1-9999                      32936 non-null int64\n",
      "Citizen Income 10000-14999                 32936 non-null int64\n",
      "Citizen Income 15000-24999                 32936 non-null int64\n",
      "Citizen Income 25000-34999                 32936 non-null int64\n",
      "Citizen Income 35000-49999                 32936 non-null int64\n",
      "Citizen Income 50000-64999                 32936 non-null int64\n",
      "Citizen Income 65000-74999                 32936 non-null int64\n",
      "Citizen Income 75000 plus                  32936 non-null int64\n",
      "Total Population                           32936 non-null int64\n",
      "One Race Population                        32936 non-null int64\n",
      "White Race                                 32936 non-null int64\n",
      "Black Race                                 32936 non-null int64\n",
      "Native American Race                       32936 non-null int64\n",
      "Asian Race                                 32936 non-null int64\n",
      "Pacific Islander Race                      32936 non-null int64\n",
      "Other Race Alone                           32936 non-null int64\n",
      "Hispanic or Latino                         32936 non-null int64\n",
      "Median Age                                 32936 non-null float64\n",
      "Male Median Age                            32936 non-null float64\n",
      "Female Median Age                          32936 non-null float64\n",
      "Total Households                           32936 non-null int64\n",
      "Average Household Size                     32936 non-null float64\n",
      "Total Families                             32936 non-null int64\n",
      "state code                                 32936 non-null int64\n",
      "zip code                                   32936 non-null int64\n",
      "dtypes: float64(7), int64(30)\n",
      "memory usage: 9.3 MB\n"
     ]
    }
   ],
   "source": [
    "df.info()"
   ]
  },
  {
   "cell_type": "code",
   "execution_count": 4,
   "metadata": {},
   "outputs": [
    {
     "data": {
      "text/html": [
       "<div>\n",
       "<style scoped>\n",
       "    .dataframe tbody tr th:only-of-type {\n",
       "        vertical-align: middle;\n",
       "    }\n",
       "\n",
       "    .dataframe tbody tr th {\n",
       "        vertical-align: top;\n",
       "    }\n",
       "\n",
       "    .dataframe thead th {\n",
       "        text-align: right;\n",
       "    }\n",
       "</style>\n",
       "<table border=\"1\" class=\"dataframe\">\n",
       "  <thead>\n",
       "    <tr style=\"text-align: right;\">\n",
       "      <th></th>\n",
       "      <th>Households SNAP</th>\n",
       "      <th>Estimated Individuals SNAP</th>\n",
       "      <th>SNAP percent Population</th>\n",
       "      <th>Y</th>\n",
       "      <th>Total Citizen Educated in US</th>\n",
       "      <th>Citizen Less than High School Education</th>\n",
       "      <th>Citizen High School  Graduate</th>\n",
       "      <th>Citizen Some College Education</th>\n",
       "      <th>Citizen College Degree</th>\n",
       "      <th>Citizen Graduate or Professional Degree</th>\n",
       "      <th>...</th>\n",
       "      <th>Other Race Alone</th>\n",
       "      <th>Hispanic or Latino</th>\n",
       "      <th>Median Age</th>\n",
       "      <th>Male Median Age</th>\n",
       "      <th>Female Median Age</th>\n",
       "      <th>Total Households</th>\n",
       "      <th>Average Household Size</th>\n",
       "      <th>Total Families</th>\n",
       "      <th>state code</th>\n",
       "      <th>zip code</th>\n",
       "    </tr>\n",
       "  </thead>\n",
       "  <tbody>\n",
       "    <tr>\n",
       "      <th>0</th>\n",
       "      <td>765</td>\n",
       "      <td>1705.95</td>\n",
       "      <td>0.101732</td>\n",
       "      <td>2564042.85</td>\n",
       "      <td>13358</td>\n",
       "      <td>1167</td>\n",
       "      <td>3779</td>\n",
       "      <td>4397</td>\n",
       "      <td>2397</td>\n",
       "      <td>1618</td>\n",
       "      <td>...</td>\n",
       "      <td>229</td>\n",
       "      <td>16209</td>\n",
       "      <td>45.5</td>\n",
       "      <td>43.0</td>\n",
       "      <td>47.7</td>\n",
       "      <td>7215</td>\n",
       "      <td>2.23</td>\n",
       "      <td>3098</td>\n",
       "      <td>25</td>\n",
       "      <td>1001</td>\n",
       "    </tr>\n",
       "    <tr>\n",
       "      <th>1</th>\n",
       "      <td>749</td>\n",
       "      <td>1827.56</td>\n",
       "      <td>0.062913</td>\n",
       "      <td>2746822.68</td>\n",
       "      <td>13787</td>\n",
       "      <td>633</td>\n",
       "      <td>1684</td>\n",
       "      <td>2229</td>\n",
       "      <td>3405</td>\n",
       "      <td>5836</td>\n",
       "      <td>...</td>\n",
       "      <td>1217</td>\n",
       "      <td>26766</td>\n",
       "      <td>24.0</td>\n",
       "      <td>23.6</td>\n",
       "      <td>24.8</td>\n",
       "      <td>9910</td>\n",
       "      <td>2.44</td>\n",
       "      <td>4050</td>\n",
       "      <td>25</td>\n",
       "      <td>1002</td>\n",
       "    </tr>\n",
       "    <tr>\n",
       "      <th>2</th>\n",
       "      <td>8</td>\n",
       "      <td>25.60</td>\n",
       "      <td>0.002468</td>\n",
       "      <td>38476.80</td>\n",
       "      <td>136</td>\n",
       "      <td>26</td>\n",
       "      <td>13</td>\n",
       "      <td>68</td>\n",
       "      <td>14</td>\n",
       "      <td>15</td>\n",
       "      <td>...</td>\n",
       "      <td>372</td>\n",
       "      <td>9843</td>\n",
       "      <td>20.2</td>\n",
       "      <td>20.2</td>\n",
       "      <td>20.1</td>\n",
       "      <td>5</td>\n",
       "      <td>3.20</td>\n",
       "      <td>10</td>\n",
       "      <td>25</td>\n",
       "      <td>1003</td>\n",
       "    </tr>\n",
       "    <tr>\n",
       "      <th>3</th>\n",
       "      <td>147</td>\n",
       "      <td>383.67</td>\n",
       "      <td>0.075540</td>\n",
       "      <td>576656.01</td>\n",
       "      <td>3498</td>\n",
       "      <td>123</td>\n",
       "      <td>1270</td>\n",
       "      <td>1023</td>\n",
       "      <td>547</td>\n",
       "      <td>535</td>\n",
       "      <td>...</td>\n",
       "      <td>71</td>\n",
       "      <td>4990</td>\n",
       "      <td>41.0</td>\n",
       "      <td>40.0</td>\n",
       "      <td>41.7</td>\n",
       "      <td>1904</td>\n",
       "      <td>2.61</td>\n",
       "      <td>1284</td>\n",
       "      <td>25</td>\n",
       "      <td>1005</td>\n",
       "    </tr>\n",
       "    <tr>\n",
       "      <th>4</th>\n",
       "      <td>450</td>\n",
       "      <td>1179.00</td>\n",
       "      <td>0.080483</td>\n",
       "      <td>1772037.00</td>\n",
       "      <td>10062</td>\n",
       "      <td>644</td>\n",
       "      <td>2407</td>\n",
       "      <td>2518</td>\n",
       "      <td>2423</td>\n",
       "      <td>2070</td>\n",
       "      <td>...</td>\n",
       "      <td>260</td>\n",
       "      <td>14264</td>\n",
       "      <td>41.1</td>\n",
       "      <td>40.0</td>\n",
       "      <td>42.0</td>\n",
       "      <td>5595</td>\n",
       "      <td>2.62</td>\n",
       "      <td>3691</td>\n",
       "      <td>25</td>\n",
       "      <td>1007</td>\n",
       "    </tr>\n",
       "  </tbody>\n",
       "</table>\n",
       "<p>5 rows × 37 columns</p>\n",
       "</div>"
      ],
      "text/plain": [
       "   Households SNAP  Estimated Individuals SNAP  SNAP percent Population  \\\n",
       "0              765                     1705.95                 0.101732   \n",
       "1              749                     1827.56                 0.062913   \n",
       "2                8                       25.60                 0.002468   \n",
       "3              147                      383.67                 0.075540   \n",
       "4              450                     1179.00                 0.080483   \n",
       "\n",
       "            Y  Total Citizen Educated in US  \\\n",
       "0  2564042.85                         13358   \n",
       "1  2746822.68                         13787   \n",
       "2    38476.80                           136   \n",
       "3   576656.01                          3498   \n",
       "4  1772037.00                         10062   \n",
       "\n",
       "   Citizen Less than High School Education  Citizen High School  Graduate  \\\n",
       "0                                     1167                           3779   \n",
       "1                                      633                           1684   \n",
       "2                                       26                             13   \n",
       "3                                      123                           1270   \n",
       "4                                      644                           2407   \n",
       "\n",
       "   Citizen Some College Education  Citizen College Degree  \\\n",
       "0                            4397                    2397   \n",
       "1                            2229                    3405   \n",
       "2                              68                      14   \n",
       "3                            1023                     547   \n",
       "4                            2518                    2423   \n",
       "\n",
       "   Citizen Graduate or Professional Degree    ...     Other Race Alone  \\\n",
       "0                                     1618    ...                  229   \n",
       "1                                     5836    ...                 1217   \n",
       "2                                       15    ...                  372   \n",
       "3                                      535    ...                   71   \n",
       "4                                     2070    ...                  260   \n",
       "\n",
       "   Hispanic or Latino  Median Age  Male Median Age  Female Median Age  \\\n",
       "0               16209        45.5             43.0               47.7   \n",
       "1               26766        24.0             23.6               24.8   \n",
       "2                9843        20.2             20.2               20.1   \n",
       "3                4990        41.0             40.0               41.7   \n",
       "4               14264        41.1             40.0               42.0   \n",
       "\n",
       "   Total Households  Average Household Size  Total Families  state code  \\\n",
       "0              7215                    2.23            3098          25   \n",
       "1              9910                    2.44            4050          25   \n",
       "2                 5                    3.20              10          25   \n",
       "3              1904                    2.61            1284          25   \n",
       "4              5595                    2.62            3691          25   \n",
       "\n",
       "   zip code  \n",
       "0      1001  \n",
       "1      1002  \n",
       "2      1003  \n",
       "3      1005  \n",
       "4      1007  \n",
       "\n",
       "[5 rows x 37 columns]"
      ]
     },
     "execution_count": 4,
     "metadata": {},
     "output_type": "execute_result"
    }
   ],
   "source": [
    "# building features and re-naming target data Y\n",
    "\n",
    "df.rename(index=str, columns={\"SNAP Per Capita Benefit or TAM\": \"Y\"}, inplace=True)\n",
    "#df.drop('NAME', axis=1, inplace=True )\n",
    "#df = df.astype('float32')\n",
    "\n",
    "df.head()"
   ]
  },
  {
   "cell_type": "code",
   "execution_count": 5,
   "metadata": {},
   "outputs": [
    {
     "name": "stdout",
     "output_type": "stream",
     "text": [
      "number of missing values:  Households SNAP 0       Percentage of missing values: Households SNAP 0.0\n",
      "number of missing values:  Estimated Individuals SNAP 0       Percentage of missing values: Estimated Individuals SNAP 0.0\n",
      "number of missing values:  SNAP percent Population 0       Percentage of missing values: SNAP percent Population 0.0\n",
      "number of missing values:  Y 0       Percentage of missing values: Y 0.0\n",
      "number of missing values:  Total Citizen Educated in US 0       Percentage of missing values: Total Citizen Educated in US 0.0\n",
      "number of missing values:  Citizen Less than High School Education 0       Percentage of missing values: Citizen Less than High School Education 0.0\n",
      "number of missing values:  Citizen High School  Graduate 0       Percentage of missing values: Citizen High School  Graduate 0.0\n",
      "number of missing values:  Citizen Some College Education 0       Percentage of missing values: Citizen Some College Education 0.0\n",
      "number of missing values:  Citizen College Degree 0       Percentage of missing values: Citizen College Degree 0.0\n",
      "number of missing values:  Citizen Graduate or Professional Degree 0       Percentage of missing values: Citizen Graduate or Professional Degree 0.0\n",
      "number of missing values:  Total Citizen Income 0       Percentage of missing values: Total Citizen Income 0.0\n",
      "number of missing values:  Citizen No Income 0       Percentage of missing values: Citizen No Income 0.0\n",
      "number of missing values:  Citizen Income 1-9999 0       Percentage of missing values: Citizen Income 1-9999 0.0\n",
      "number of missing values:  Citizen Income 10000-14999 0       Percentage of missing values: Citizen Income 10000-14999 0.0\n",
      "number of missing values:  Citizen Income 15000-24999 0       Percentage of missing values: Citizen Income 15000-24999 0.0\n",
      "number of missing values:  Citizen Income 25000-34999 0       Percentage of missing values: Citizen Income 25000-34999 0.0\n",
      "number of missing values:  Citizen Income 35000-49999 0       Percentage of missing values: Citizen Income 35000-49999 0.0\n",
      "number of missing values:  Citizen Income 50000-64999 0       Percentage of missing values: Citizen Income 50000-64999 0.0\n",
      "number of missing values:  Citizen Income 65000-74999 0       Percentage of missing values: Citizen Income 65000-74999 0.0\n",
      "number of missing values:  Citizen Income 75000 plus 0       Percentage of missing values: Citizen Income 75000 plus 0.0\n",
      "number of missing values:  Total Population 0       Percentage of missing values: Total Population 0.0\n",
      "number of missing values:  One Race Population 0       Percentage of missing values: One Race Population 0.0\n",
      "number of missing values:  White Race 0       Percentage of missing values: White Race 0.0\n",
      "number of missing values:  Black Race 0       Percentage of missing values: Black Race 0.0\n",
      "number of missing values:  Native American Race 0       Percentage of missing values: Native American Race 0.0\n",
      "number of missing values:  Asian Race 0       Percentage of missing values: Asian Race 0.0\n",
      "number of missing values:  Pacific Islander Race 0       Percentage of missing values: Pacific Islander Race 0.0\n",
      "number of missing values:  Other Race Alone 0       Percentage of missing values: Other Race Alone 0.0\n",
      "number of missing values:  Hispanic or Latino 0       Percentage of missing values: Hispanic or Latino 0.0\n",
      "number of missing values:  Median Age 0       Percentage of missing values: Median Age 0.0\n",
      "number of missing values:  Male Median Age 0       Percentage of missing values: Male Median Age 0.0\n",
      "number of missing values:  Female Median Age 0       Percentage of missing values: Female Median Age 0.0\n",
      "number of missing values:  Total Households 0       Percentage of missing values: Total Households 0.0\n",
      "number of missing values:  Average Household Size 0       Percentage of missing values: Average Household Size 0.0\n",
      "number of missing values:  Total Families 0       Percentage of missing values: Total Families 0.0\n",
      "number of missing values:  state code 0       Percentage of missing values: state code 0.0\n",
      "number of missing values:  zip code 0       Percentage of missing values: zip code 0.0\n"
     ]
    }
   ],
   "source": [
    "#find out missing values\n",
    "names = []\n",
    "value = []\n",
    "for col in df.columns:\n",
    "    names.append(col)\n",
    "    value.append(df[col].isnull().sum())\n",
    "    print(\"number of missing values: \", names[-1], value[-1],\"\"\"     \"\"\", \"Percentage of missing values:\", names[-1], round((value[-1]/32936)*100))  \n",
    "    #print(\"number of missing values: \", names[-1], value[-1],\"\"\"     \"\"\", \"Percentage of missing values:\", names[-1], round((value[-1]/682)*100))  "
   ]
  },
  {
   "cell_type": "code",
   "execution_count": 7,
   "metadata": {},
   "outputs": [
    {
     "name": "stdout",
     "output_type": "stream",
     "text": [
      "<class 'pandas.core.frame.DataFrame'>\n",
      "Index: 32936 entries, 0 to 32935\n",
      "Data columns (total 37 columns):\n",
      "Households SNAP                            32936 non-null int64\n",
      "Estimated Individuals SNAP                 32936 non-null float64\n",
      "SNAP percent Population                    32936 non-null float64\n",
      "Y                                          32936 non-null float64\n",
      "Total Citizen Educated in US               32936 non-null int64\n",
      "Citizen Less than High School Education    32936 non-null int64\n",
      "Citizen High School  Graduate              32936 non-null int64\n",
      "Citizen Some College Education             32936 non-null int64\n",
      "Citizen College Degree                     32936 non-null int64\n",
      "Citizen Graduate or Professional Degree    32936 non-null int64\n",
      "Total Citizen Income                       32936 non-null int64\n",
      "Citizen No Income                          32936 non-null int64\n",
      "Citizen Income 1-9999                      32936 non-null int64\n",
      "Citizen Income 10000-14999                 32936 non-null int64\n",
      "Citizen Income 15000-24999                 32936 non-null int64\n",
      "Citizen Income 25000-34999                 32936 non-null int64\n",
      "Citizen Income 35000-49999                 32936 non-null int64\n",
      "Citizen Income 50000-64999                 32936 non-null int64\n",
      "Citizen Income 65000-74999                 32936 non-null int64\n",
      "Citizen Income 75000 plus                  32936 non-null int64\n",
      "Total Population                           32936 non-null int64\n",
      "One Race Population                        32936 non-null int64\n",
      "White Race                                 32936 non-null int64\n",
      "Black Race                                 32936 non-null int64\n",
      "Native American Race                       32936 non-null int64\n",
      "Asian Race                                 32936 non-null int64\n",
      "Pacific Islander Race                      32936 non-null int64\n",
      "Other Race Alone                           32936 non-null int64\n",
      "Hispanic or Latino                         32936 non-null int64\n",
      "Median Age                                 32936 non-null float64\n",
      "Male Median Age                            32936 non-null float64\n",
      "Female Median Age                          32936 non-null float64\n",
      "Total Households                           32936 non-null int64\n",
      "Average Household Size                     32936 non-null float64\n",
      "Total Families                             32936 non-null int64\n",
      "state code                                 32936 non-null int64\n",
      "zip code                                   32936 non-null int64\n",
      "dtypes: float64(7), int64(30)\n",
      "memory usage: 9.5+ MB\n"
     ]
    }
   ],
   "source": [
    "#split my data\n",
    "#df = df.astype('float32')\n",
    "X = df.drop(columns = 'Y')\n",
    "y = df['Y']\n",
    "\n",
    "df.info()"
   ]
  },
  {
   "cell_type": "markdown",
   "metadata": {},
   "source": [
    "All of these columns should be columns should be numeric, so let's convert it all to numeric"
   ]
  },
  {
   "cell_type": "markdown",
   "metadata": {},
   "source": [
    "## Target variable characteristics"
   ]
  },
  {
   "cell_type": "code",
   "execution_count": 8,
   "metadata": {},
   "outputs": [
    {
     "data": {
      "text/plain": [
       "<matplotlib.axes._subplots.AxesSubplot at 0x7ff8cb136ba8>"
      ]
     },
     "execution_count": 8,
     "metadata": {},
     "output_type": "execute_result"
    },
    {
     "data": {
      "image/png": "[encoded data removed]",
      "text/plain": [
       "<Figure size 432x288 with 1 Axes>"
      ]
     },
     "metadata": {
      "needs_background": "light"
     },
     "output_type": "display_data"
    }
   ],
   "source": [
    "df.Y.value_counts().plot(kind='bar')"
   ]
  },
  {
   "cell_type": "code",
   "execution_count": 9,
   "metadata": {},
   "outputs": [
    {
     "data": {
      "text/plain": [
       "Index(['Households SNAP', 'Estimated Individuals SNAP',\n",
       "       'SNAP percent Population', 'Y', 'Total Citizen Educated in US',\n",
       "       'Citizen Less than High School Education',\n",
       "       'Citizen High School  Graduate', 'Citizen Some College Education',\n",
       "       'Citizen College Degree', 'Citizen Graduate or Professional Degree',\n",
       "       'Total Citizen Income', 'Citizen No Income', 'Citizen Income 1-9999',\n",
       "       'Citizen Income 10000-14999', 'Citizen Income 15000-24999',\n",
       "       'Citizen Income 25000-34999', 'Citizen Income 35000-49999',\n",
       "       'Citizen Income 50000-64999', 'Citizen Income 65000-74999',\n",
       "       'Citizen Income 75000 plus', 'Total Population', 'One Race Population',\n",
       "       'White Race', 'Black Race', 'Native American Race', 'Asian Race',\n",
       "       'Pacific Islander Race', 'Other Race Alone', 'Hispanic or Latino',\n",
       "       'Median Age', 'Male Median Age', 'Female Median Age',\n",
       "       'Total Households', 'Average Household Size', 'Total Families',\n",
       "       'state code', 'zip code'],\n",
       "      dtype='object')"
      ]
     },
     "execution_count": 9,
     "metadata": {},
     "output_type": "execute_result"
    }
   ],
   "source": [
    "df.columns"
   ]
  },
  {
   "cell_type": "code",
   "execution_count": 12,
   "metadata": {},
   "outputs": [],
   "source": [
    "#split my data\n",
    "X = df.drop(columns = 'Y')\n",
    "y = df['Y']"
   ]
  },
  {
   "cell_type": "code",
   "execution_count": 13,
   "metadata": {},
   "outputs": [],
   "source": [
    "#split into training and testing\n",
    "\n",
    "from sklearn.model_selection import train_test_split, KFold, cross_val_score\n",
    "X_train, X_test, y_train, y_test = train_test_split(X, y, random_state= 2019, test_size = .2)"
   ]
  },
  {
   "cell_type": "code",
   "execution_count": 14,
   "metadata": {},
   "outputs": [
    {
     "name": "stderr",
     "output_type": "stream",
     "text": [
      "/opt/tljh/user/lib/python3.6/site-packages/sklearn/externals/six.py:31: DeprecationWarning: The module is deprecated in version 0.21 and will be removed in version 0.23 since we've dropped support for Python 2.7. Please rely on the official version of six (https://pypi.org/project/six/).\n",
      "  \"(https://pypi.org/project/six/).\", DeprecationWarning)\n",
      "/opt/tljh/user/lib/python3.6/site-packages/imblearn/utils/_validation.py:93: UserWarning: 'y' should be of types ('binary', 'multiclass', 'multilabel-indicator') only. Got continuous instead.\n",
      "  TARGET_KIND, type_of_target(y)))\n"
     ]
    },
    {
     "ename": "ValueError",
     "evalue": "Expected n_neighbors <= n_samples,  but n_samples = 1, n_neighbors = 6",
     "output_type": "error",
     "traceback": [
      "\u001b[0;31m---------------------------------------------------------------------------\u001b[0m",
      "\u001b[0;31mValueError\u001b[0m                                Traceback (most recent call last)",
      "\u001b[0;32m<ipython-input-14-5451c3e82af7>\u001b[0m in \u001b[0;36m<module>\u001b[0;34m\u001b[0m\n\u001b[1;32m      3\u001b[0m \u001b[0;31m#create my oversampled data to train on\u001b[0m\u001b[0;34m\u001b[0m\u001b[0;34m\u001b[0m\u001b[0;34m\u001b[0m\u001b[0m\n\u001b[1;32m      4\u001b[0m \u001b[0moversampler\u001b[0m \u001b[0;34m=\u001b[0m \u001b[0mSMOTE\u001b[0m\u001b[0;34m(\u001b[0m\u001b[0mrandom_state\u001b[0m \u001b[0;34m=\u001b[0m \u001b[0;36m2019\u001b[0m\u001b[0;34m)\u001b[0m\u001b[0;34m\u001b[0m\u001b[0;34m\u001b[0m\u001b[0m\n\u001b[0;32m----> 5\u001b[0;31m \u001b[0mX_train_oversampled\u001b[0m\u001b[0;34m,\u001b[0m \u001b[0my_train_oversampled\u001b[0m \u001b[0;34m=\u001b[0m \u001b[0moversampler\u001b[0m\u001b[0;34m.\u001b[0m\u001b[0mfit_resample\u001b[0m\u001b[0;34m(\u001b[0m\u001b[0mX_train\u001b[0m\u001b[0;34m,\u001b[0m \u001b[0my_train\u001b[0m\u001b[0;34m)\u001b[0m\u001b[0;34m\u001b[0m\u001b[0;34m\u001b[0m\u001b[0m\n\u001b[0m",
      "\u001b[0;32m/opt/tljh/user/lib/python3.6/site-packages/imblearn/base.py\u001b[0m in \u001b[0;36mfit_resample\u001b[0;34m(self, X, y)\u001b[0m\n\u001b[1;32m     83\u001b[0m             self.sampling_strategy, y, self._sampling_type)\n\u001b[1;32m     84\u001b[0m \u001b[0;34m\u001b[0m\u001b[0m\n\u001b[0;32m---> 85\u001b[0;31m         \u001b[0moutput\u001b[0m \u001b[0;34m=\u001b[0m \u001b[0mself\u001b[0m\u001b[0;34m.\u001b[0m\u001b[0m_fit_resample\u001b[0m\u001b[0;34m(\u001b[0m\u001b[0mX\u001b[0m\u001b[0;34m,\u001b[0m \u001b[0my\u001b[0m\u001b[0;34m)\u001b[0m\u001b[0;34m\u001b[0m\u001b[0;34m\u001b[0m\u001b[0m\n\u001b[0m\u001b[1;32m     86\u001b[0m \u001b[0;34m\u001b[0m\u001b[0m\n\u001b[1;32m     87\u001b[0m         \u001b[0;32mif\u001b[0m \u001b[0mbinarize_y\u001b[0m\u001b[0;34m:\u001b[0m\u001b[0;34m\u001b[0m\u001b[0;34m\u001b[0m\u001b[0m\n",
      "\u001b[0;32m/opt/tljh/user/lib/python3.6/site-packages/imblearn/over_sampling/_smote.py\u001b[0m in \u001b[0;36m_fit_resample\u001b[0;34m(self, X, y)\u001b[0m\n\u001b[1;32m    794\u001b[0m     \u001b[0;32mdef\u001b[0m \u001b[0m_fit_resample\u001b[0m\u001b[0;34m(\u001b[0m\u001b[0mself\u001b[0m\u001b[0;34m,\u001b[0m \u001b[0mX\u001b[0m\u001b[0;34m,\u001b[0m \u001b[0my\u001b[0m\u001b[0;34m)\u001b[0m\u001b[0;34m:\u001b[0m\u001b[0;34m\u001b[0m\u001b[0;34m\u001b[0m\u001b[0m\n\u001b[1;32m    795\u001b[0m         \u001b[0mself\u001b[0m\u001b[0;34m.\u001b[0m\u001b[0m_validate_estimator\u001b[0m\u001b[0;34m(\u001b[0m\u001b[0;34m)\u001b[0m\u001b[0;34m\u001b[0m\u001b[0;34m\u001b[0m\u001b[0m\n\u001b[0;32m--> 796\u001b[0;31m         \u001b[0;32mreturn\u001b[0m \u001b[0mself\u001b[0m\u001b[0;34m.\u001b[0m\u001b[0m_sample\u001b[0m\u001b[0;34m(\u001b[0m\u001b[0mX\u001b[0m\u001b[0;34m,\u001b[0m \u001b[0my\u001b[0m\u001b[0;34m)\u001b[0m\u001b[0;34m\u001b[0m\u001b[0;34m\u001b[0m\u001b[0m\n\u001b[0m\u001b[1;32m    797\u001b[0m \u001b[0;34m\u001b[0m\u001b[0m\n\u001b[1;32m    798\u001b[0m     \u001b[0;32mdef\u001b[0m \u001b[0m_sample\u001b[0m\u001b[0;34m(\u001b[0m\u001b[0mself\u001b[0m\u001b[0;34m,\u001b[0m \u001b[0mX\u001b[0m\u001b[0;34m,\u001b[0m \u001b[0my\u001b[0m\u001b[0;34m)\u001b[0m\u001b[0;34m:\u001b[0m\u001b[0;34m\u001b[0m\u001b[0;34m\u001b[0m\u001b[0m\n",
      "\u001b[0;32m/opt/tljh/user/lib/python3.6/site-packages/imblearn/over_sampling/_smote.py\u001b[0m in \u001b[0;36m_sample\u001b[0;34m(self, X, y)\u001b[0m\n\u001b[1;32m    810\u001b[0m \u001b[0;34m\u001b[0m\u001b[0m\n\u001b[1;32m    811\u001b[0m             \u001b[0mself\u001b[0m\u001b[0;34m.\u001b[0m\u001b[0mnn_k_\u001b[0m\u001b[0;34m.\u001b[0m\u001b[0mfit\u001b[0m\u001b[0;34m(\u001b[0m\u001b[0mX_class\u001b[0m\u001b[0;34m)\u001b[0m\u001b[0;34m\u001b[0m\u001b[0;34m\u001b[0m\u001b[0m\n\u001b[0;32m--> 812\u001b[0;31m             \u001b[0mnns\u001b[0m \u001b[0;34m=\u001b[0m \u001b[0mself\u001b[0m\u001b[0;34m.\u001b[0m\u001b[0mnn_k_\u001b[0m\u001b[0;34m.\u001b[0m\u001b[0mkneighbors\u001b[0m\u001b[0;34m(\u001b[0m\u001b[0mX_class\u001b[0m\u001b[0;34m,\u001b[0m \u001b[0mreturn_distance\u001b[0m\u001b[0;34m=\u001b[0m\u001b[0;32mFalse\u001b[0m\u001b[0;34m)\u001b[0m\u001b[0;34m[\u001b[0m\u001b[0;34m:\u001b[0m\u001b[0;34m,\u001b[0m \u001b[0;36m1\u001b[0m\u001b[0;34m:\u001b[0m\u001b[0;34m]\u001b[0m\u001b[0;34m\u001b[0m\u001b[0;34m\u001b[0m\u001b[0m\n\u001b[0m\u001b[1;32m    813\u001b[0m             X_new, y_new = self._make_samples(X_class, y.dtype, class_sample,\n\u001b[1;32m    814\u001b[0m                                               X_class, nns, n_samples, 1.0)\n",
      "\u001b[0;32m/opt/tljh/user/lib/python3.6/site-packages/sklearn/neighbors/base.py\u001b[0m in \u001b[0;36mkneighbors\u001b[0;34m(self, X, n_neighbors, return_distance)\u001b[0m\n\u001b[1;32m    413\u001b[0m                 \u001b[0;34m\"Expected n_neighbors <= n_samples, \"\u001b[0m\u001b[0;34m\u001b[0m\u001b[0;34m\u001b[0m\u001b[0m\n\u001b[1;32m    414\u001b[0m                 \u001b[0;34m\" but n_samples = %d, n_neighbors = %d\"\u001b[0m \u001b[0;34m%\u001b[0m\u001b[0;34m\u001b[0m\u001b[0;34m\u001b[0m\u001b[0m\n\u001b[0;32m--> 415\u001b[0;31m                 \u001b[0;34m(\u001b[0m\u001b[0mtrain_size\u001b[0m\u001b[0;34m,\u001b[0m \u001b[0mn_neighbors\u001b[0m\u001b[0;34m)\u001b[0m\u001b[0;34m\u001b[0m\u001b[0;34m\u001b[0m\u001b[0m\n\u001b[0m\u001b[1;32m    416\u001b[0m             )\n\u001b[1;32m    417\u001b[0m         \u001b[0mn_samples\u001b[0m\u001b[0;34m,\u001b[0m \u001b[0m_\u001b[0m \u001b[0;34m=\u001b[0m \u001b[0mX\u001b[0m\u001b[0;34m.\u001b[0m\u001b[0mshape\u001b[0m\u001b[0;34m\u001b[0m\u001b[0;34m\u001b[0m\u001b[0m\n",
      "\u001b[0;31mValueError\u001b[0m: Expected n_neighbors <= n_samples,  but n_samples = 1, n_neighbors = 6"
     ]
    }
   ],
   "source": [
    "#from imblearn.over_sampling import SMOTE\n",
    "\n",
    "#create my oversampled data to train on\n",
    "\n",
    "oversampler = SMOTE(random_state = 2019)\n",
    "X_train_oversampled, y_train_oversampled = oversampler.fit_resample(X_train, y_train)"
   ]
  },
  {
   "cell_type": "code",
   "execution_count": null,
   "metadata": {},
   "outputs": [],
   "source": [
    "#Put the oversampled data back into a dataframe\n",
    "X_train_oversampled = pd.DataFrame(X_train_oversampled, columns = X_train.columns)\n",
    "y_train_oversampled = pd.Series(y_train_oversampled)"
   ]
  },
  {
   "cell_type": "code",
   "execution_count": null,
   "metadata": {},
   "outputs": [],
   "source": [
    "# build my classifier\n",
    "from sklearn.linear_model import LinearRegression, LinearRegressionCV\n",
    "clf = LogisticRegression()"
   ]
  },
  {
   "cell_type": "code",
   "execution_count": null,
   "metadata": {},
   "outputs": [],
   "source": [
    "# build my classifier\n",
    "from sklearn.linear_model import LogisticRegression, LogisticRegressionCV\n",
    "clf = LogisticRegression()"
   ]
  },
  {
   "cell_type": "code",
   "execution_count": null,
   "metadata": {},
   "outputs": [],
   "source": [
    "#Fit to the oversampled data; this will train the classifier on the oversampled data\n",
    "clf.fit(X_train_oversampled, y_train_oversampled)"
   ]
  },
  {
   "cell_type": "code",
   "execution_count": null,
   "metadata": {},
   "outputs": [],
   "source": [
    "#Use 5-fold cross validation to see how well the classfier you built is doing on test data.\n",
    "\n",
    "kfold = KFold(n_splits=5, random_state=2019)\n",
    "results = cross_val_score(clf, X_test, y_test, cv=kfold, scoring = 'f1')\n",
    "\n",
    "print(f\"5-fold cross-validation results: {np.mean(results)}\")"
   ]
  },
  {
   "cell_type": "code",
   "execution_count": null,
   "metadata": {},
   "outputs": [],
   "source": [
    "#tweak my classifer\n",
    "\n",
    "clf2 = LogisticRegression(C = .5)\n",
    "\n",
    "clf2.fit(X_train_oversampled, y_train_oversampled)\n",
    "\n",
    "results = cross_val_score(clf2, X_test, y_test, cv=kfold, scoring = 'f1')\n",
    "\n",
    "print(f\"5-fold cross-validation results: {np.mean(results)}\")"
   ]
  },
  {
   "cell_type": "code",
   "execution_count": null,
   "metadata": {},
   "outputs": [],
   "source": [
    "clf_cv = LogisticRegressionCV(n_jobs = -1)\n",
    "\n",
    "clf_cv.fit(X_train_oversampled, y_train_oversampled)\n",
    "\n",
    "results = cross_val_score(clf, X_test, y_test, cv=kfold, scoring = 'f1')\n",
    "\n",
    "print(f\"5-fold cross-validation results: {np.mean(results)}\")"
   ]
  },
  {
   "cell_type": "code",
   "execution_count": 10,
   "metadata": {},
   "outputs": [
    {
     "data": {
      "image/png": "[encoded data removed]",
      "text/plain": [
       "<Figure size 432x288 with 6 Axes>"
      ]
     },
     "metadata": {
      "needs_background": "light"
     },
     "output_type": "display_data"
    }
   ],
   "source": [
    "#create histograms for each variable\n",
    "#we'll group some of the columns together to make plotting easier\n",
    "\n",
    "df_group1 = df.iloc[:, 0:5]\n",
    "df_group1.plot(kind='density', subplots=True, layout=(3,2), sharex=False)\n",
    "plt.show()\n",
    "\n",
    "\n",
    "#df.hist()\n",
    "\n",
    "#plt.show()"
   ]
  },
  {
   "cell_type": "markdown",
   "metadata": {},
   "source": [
    "Some notes: LIMIT_BAL and AGE are approaching a gaussian shape, but both are somewhat rightly skewed. Both sex and Marriage are bimodal (obviously), and Education is trimodal, with the three most common values of 1, 2, 3, and a tiny amount of 4, and 5. Besides LIMIT_BAL, nothing particular about these features. \n",
    "\n",
    "Next, we'll look at the Payment history. Since the values in these features are categorical in nature, we'll use bar plots.\n"
   ]
  },
  {
   "cell_type": "code",
   "execution_count": 11,
   "metadata": {},
   "outputs": [
    {
     "ename": "KeyError",
     "evalue": "'PAY_0'",
     "output_type": "error",
     "traceback": [
      "\u001b[0;31m---------------------------------------------------------------------------\u001b[0m",
      "\u001b[0;31mKeyError\u001b[0m                                  Traceback (most recent call last)",
      "\u001b[0;32m/opt/tljh/user/lib/python3.6/site-packages/pandas/core/indexes/base.py\u001b[0m in \u001b[0;36mget_loc\u001b[0;34m(self, key, method, tolerance)\u001b[0m\n\u001b[1;32m   3077\u001b[0m             \u001b[0;32mtry\u001b[0m\u001b[0;34m:\u001b[0m\u001b[0;34m\u001b[0m\u001b[0;34m\u001b[0m\u001b[0m\n\u001b[0;32m-> 3078\u001b[0;31m                 \u001b[0;32mreturn\u001b[0m \u001b[0mself\u001b[0m\u001b[0;34m.\u001b[0m\u001b[0m_engine\u001b[0m\u001b[0;34m.\u001b[0m\u001b[0mget_loc\u001b[0m\u001b[0;34m(\u001b[0m\u001b[0mkey\u001b[0m\u001b[0;34m)\u001b[0m\u001b[0;34m\u001b[0m\u001b[0;34m\u001b[0m\u001b[0m\n\u001b[0m\u001b[1;32m   3079\u001b[0m             \u001b[0;32mexcept\u001b[0m \u001b[0mKeyError\u001b[0m\u001b[0;34m:\u001b[0m\u001b[0;34m\u001b[0m\u001b[0;34m\u001b[0m\u001b[0m\n",
      "\u001b[0;32mpandas/_libs/index.pyx\u001b[0m in \u001b[0;36mpandas._libs.index.IndexEngine.get_loc\u001b[0;34m()\u001b[0m\n",
      "\u001b[0;32mpandas/_libs/index.pyx\u001b[0m in \u001b[0;36mpandas._libs.index.IndexEngine.get_loc\u001b[0;34m()\u001b[0m\n",
      "\u001b[0;32mpandas/_libs/hashtable_class_helper.pxi\u001b[0m in \u001b[0;36mpandas._libs.hashtable.PyObjectHashTable.get_item\u001b[0;34m()\u001b[0m\n",
      "\u001b[0;32mpandas/_libs/hashtable_class_helper.pxi\u001b[0m in \u001b[0;36mpandas._libs.hashtable.PyObjectHashTable.get_item\u001b[0;34m()\u001b[0m\n",
      "\u001b[0;31mKeyError\u001b[0m: 'PAY_0'",
      "\nDuring handling of the above exception, another exception occurred:\n",
      "\u001b[0;31mKeyError\u001b[0m                                  Traceback (most recent call last)",
      "\u001b[0;32m<ipython-input-11-78a31cd34cb8>\u001b[0m in \u001b[0;36m<module>\u001b[0;34m\u001b[0m\n\u001b[1;32m      6\u001b[0m \u001b[0;34m\u001b[0m\u001b[0m\n\u001b[1;32m      7\u001b[0m \u001b[0mplt\u001b[0m\u001b[0;34m.\u001b[0m\u001b[0msubplot\u001b[0m\u001b[0;34m(\u001b[0m\u001b[0;36m3\u001b[0m\u001b[0;34m,\u001b[0m\u001b[0;36m2\u001b[0m\u001b[0;34m,\u001b[0m\u001b[0;36m1\u001b[0m\u001b[0;34m)\u001b[0m\u001b[0;34m\u001b[0m\u001b[0;34m\u001b[0m\u001b[0m\n\u001b[0;32m----> 8\u001b[0;31m \u001b[0mdf\u001b[0m\u001b[0;34m[\u001b[0m\u001b[0;34m'PAY_0'\u001b[0m\u001b[0;34m]\u001b[0m\u001b[0;34m.\u001b[0m\u001b[0mvalue_counts\u001b[0m\u001b[0;34m(\u001b[0m\u001b[0;34m)\u001b[0m\u001b[0;34m.\u001b[0m\u001b[0mplot\u001b[0m\u001b[0;34m(\u001b[0m\u001b[0mkind\u001b[0m\u001b[0;34m=\u001b[0m\u001b[0;34m'bar'\u001b[0m\u001b[0;34m)\u001b[0m\u001b[0;34m\u001b[0m\u001b[0;34m\u001b[0m\u001b[0m\n\u001b[0m\u001b[1;32m      9\u001b[0m \u001b[0;34m\u001b[0m\u001b[0m\n\u001b[1;32m     10\u001b[0m \u001b[0mplt\u001b[0m\u001b[0;34m.\u001b[0m\u001b[0msubplot\u001b[0m\u001b[0;34m(\u001b[0m\u001b[0;36m3\u001b[0m\u001b[0;34m,\u001b[0m\u001b[0;36m2\u001b[0m\u001b[0;34m,\u001b[0m\u001b[0;36m2\u001b[0m\u001b[0;34m)\u001b[0m\u001b[0;34m\u001b[0m\u001b[0;34m\u001b[0m\u001b[0m\n",
      "\u001b[0;32m/opt/tljh/user/lib/python3.6/site-packages/pandas/core/frame.py\u001b[0m in \u001b[0;36m__getitem__\u001b[0;34m(self, key)\u001b[0m\n\u001b[1;32m   2686\u001b[0m             \u001b[0;32mreturn\u001b[0m \u001b[0mself\u001b[0m\u001b[0;34m.\u001b[0m\u001b[0m_getitem_multilevel\u001b[0m\u001b[0;34m(\u001b[0m\u001b[0mkey\u001b[0m\u001b[0;34m)\u001b[0m\u001b[0;34m\u001b[0m\u001b[0;34m\u001b[0m\u001b[0m\n\u001b[1;32m   2687\u001b[0m         \u001b[0;32melse\u001b[0m\u001b[0;34m:\u001b[0m\u001b[0;34m\u001b[0m\u001b[0;34m\u001b[0m\u001b[0m\n\u001b[0;32m-> 2688\u001b[0;31m             \u001b[0;32mreturn\u001b[0m \u001b[0mself\u001b[0m\u001b[0;34m.\u001b[0m\u001b[0m_getitem_column\u001b[0m\u001b[0;34m(\u001b[0m\u001b[0mkey\u001b[0m\u001b[0;34m)\u001b[0m\u001b[0;34m\u001b[0m\u001b[0;34m\u001b[0m\u001b[0m\n\u001b[0m\u001b[1;32m   2689\u001b[0m \u001b[0;34m\u001b[0m\u001b[0m\n\u001b[1;32m   2690\u001b[0m     \u001b[0;32mdef\u001b[0m \u001b[0m_getitem_column\u001b[0m\u001b[0;34m(\u001b[0m\u001b[0mself\u001b[0m\u001b[0;34m,\u001b[0m \u001b[0mkey\u001b[0m\u001b[0;34m)\u001b[0m\u001b[0;34m:\u001b[0m\u001b[0;34m\u001b[0m\u001b[0;34m\u001b[0m\u001b[0m\n",
      "\u001b[0;32m/opt/tljh/user/lib/python3.6/site-packages/pandas/core/frame.py\u001b[0m in \u001b[0;36m_getitem_column\u001b[0;34m(self, key)\u001b[0m\n\u001b[1;32m   2693\u001b[0m         \u001b[0;31m# get column\u001b[0m\u001b[0;34m\u001b[0m\u001b[0;34m\u001b[0m\u001b[0;34m\u001b[0m\u001b[0m\n\u001b[1;32m   2694\u001b[0m         \u001b[0;32mif\u001b[0m \u001b[0mself\u001b[0m\u001b[0;34m.\u001b[0m\u001b[0mcolumns\u001b[0m\u001b[0;34m.\u001b[0m\u001b[0mis_unique\u001b[0m\u001b[0;34m:\u001b[0m\u001b[0;34m\u001b[0m\u001b[0;34m\u001b[0m\u001b[0m\n\u001b[0;32m-> 2695\u001b[0;31m             \u001b[0;32mreturn\u001b[0m \u001b[0mself\u001b[0m\u001b[0;34m.\u001b[0m\u001b[0m_get_item_cache\u001b[0m\u001b[0;34m(\u001b[0m\u001b[0mkey\u001b[0m\u001b[0;34m)\u001b[0m\u001b[0;34m\u001b[0m\u001b[0;34m\u001b[0m\u001b[0m\n\u001b[0m\u001b[1;32m   2696\u001b[0m \u001b[0;34m\u001b[0m\u001b[0m\n\u001b[1;32m   2697\u001b[0m         \u001b[0;31m# duplicate columns & possible reduce dimensionality\u001b[0m\u001b[0;34m\u001b[0m\u001b[0;34m\u001b[0m\u001b[0;34m\u001b[0m\u001b[0m\n",
      "\u001b[0;32m/opt/tljh/user/lib/python3.6/site-packages/pandas/core/generic.py\u001b[0m in \u001b[0;36m_get_item_cache\u001b[0;34m(self, item)\u001b[0m\n\u001b[1;32m   2487\u001b[0m         \u001b[0mres\u001b[0m \u001b[0;34m=\u001b[0m \u001b[0mcache\u001b[0m\u001b[0;34m.\u001b[0m\u001b[0mget\u001b[0m\u001b[0;34m(\u001b[0m\u001b[0mitem\u001b[0m\u001b[0;34m)\u001b[0m\u001b[0;34m\u001b[0m\u001b[0;34m\u001b[0m\u001b[0m\n\u001b[1;32m   2488\u001b[0m         \u001b[0;32mif\u001b[0m \u001b[0mres\u001b[0m \u001b[0;32mis\u001b[0m \u001b[0;32mNone\u001b[0m\u001b[0;34m:\u001b[0m\u001b[0;34m\u001b[0m\u001b[0;34m\u001b[0m\u001b[0m\n\u001b[0;32m-> 2489\u001b[0;31m             \u001b[0mvalues\u001b[0m \u001b[0;34m=\u001b[0m \u001b[0mself\u001b[0m\u001b[0;34m.\u001b[0m\u001b[0m_data\u001b[0m\u001b[0;34m.\u001b[0m\u001b[0mget\u001b[0m\u001b[0;34m(\u001b[0m\u001b[0mitem\u001b[0m\u001b[0;34m)\u001b[0m\u001b[0;34m\u001b[0m\u001b[0;34m\u001b[0m\u001b[0m\n\u001b[0m\u001b[1;32m   2490\u001b[0m             \u001b[0mres\u001b[0m \u001b[0;34m=\u001b[0m \u001b[0mself\u001b[0m\u001b[0;34m.\u001b[0m\u001b[0m_box_item_values\u001b[0m\u001b[0;34m(\u001b[0m\u001b[0mitem\u001b[0m\u001b[0;34m,\u001b[0m \u001b[0mvalues\u001b[0m\u001b[0;34m)\u001b[0m\u001b[0;34m\u001b[0m\u001b[0;34m\u001b[0m\u001b[0m\n\u001b[1;32m   2491\u001b[0m             \u001b[0mcache\u001b[0m\u001b[0;34m[\u001b[0m\u001b[0mitem\u001b[0m\u001b[0;34m]\u001b[0m \u001b[0;34m=\u001b[0m \u001b[0mres\u001b[0m\u001b[0;34m\u001b[0m\u001b[0;34m\u001b[0m\u001b[0m\n",
      "\u001b[0;32m/opt/tljh/user/lib/python3.6/site-packages/pandas/core/internals.py\u001b[0m in \u001b[0;36mget\u001b[0;34m(self, item, fastpath)\u001b[0m\n\u001b[1;32m   4113\u001b[0m \u001b[0;34m\u001b[0m\u001b[0m\n\u001b[1;32m   4114\u001b[0m             \u001b[0;32mif\u001b[0m \u001b[0;32mnot\u001b[0m \u001b[0misna\u001b[0m\u001b[0;34m(\u001b[0m\u001b[0mitem\u001b[0m\u001b[0;34m)\u001b[0m\u001b[0;34m:\u001b[0m\u001b[0;34m\u001b[0m\u001b[0;34m\u001b[0m\u001b[0m\n\u001b[0;32m-> 4115\u001b[0;31m                 \u001b[0mloc\u001b[0m \u001b[0;34m=\u001b[0m \u001b[0mself\u001b[0m\u001b[0;34m.\u001b[0m\u001b[0mitems\u001b[0m\u001b[0;34m.\u001b[0m\u001b[0mget_loc\u001b[0m\u001b[0;34m(\u001b[0m\u001b[0mitem\u001b[0m\u001b[0;34m)\u001b[0m\u001b[0;34m\u001b[0m\u001b[0;34m\u001b[0m\u001b[0m\n\u001b[0m\u001b[1;32m   4116\u001b[0m             \u001b[0;32melse\u001b[0m\u001b[0;34m:\u001b[0m\u001b[0;34m\u001b[0m\u001b[0;34m\u001b[0m\u001b[0m\n\u001b[1;32m   4117\u001b[0m                 \u001b[0mindexer\u001b[0m \u001b[0;34m=\u001b[0m \u001b[0mnp\u001b[0m\u001b[0;34m.\u001b[0m\u001b[0marange\u001b[0m\u001b[0;34m(\u001b[0m\u001b[0mlen\u001b[0m\u001b[0;34m(\u001b[0m\u001b[0mself\u001b[0m\u001b[0;34m.\u001b[0m\u001b[0mitems\u001b[0m\u001b[0;34m)\u001b[0m\u001b[0;34m)\u001b[0m\u001b[0;34m[\u001b[0m\u001b[0misna\u001b[0m\u001b[0;34m(\u001b[0m\u001b[0mself\u001b[0m\u001b[0;34m.\u001b[0m\u001b[0mitems\u001b[0m\u001b[0;34m)\u001b[0m\u001b[0;34m]\u001b[0m\u001b[0;34m\u001b[0m\u001b[0;34m\u001b[0m\u001b[0m\n",
      "\u001b[0;32m/opt/tljh/user/lib/python3.6/site-packages/pandas/core/indexes/base.py\u001b[0m in \u001b[0;36mget_loc\u001b[0;34m(self, key, method, tolerance)\u001b[0m\n\u001b[1;32m   3078\u001b[0m                 \u001b[0;32mreturn\u001b[0m \u001b[0mself\u001b[0m\u001b[0;34m.\u001b[0m\u001b[0m_engine\u001b[0m\u001b[0;34m.\u001b[0m\u001b[0mget_loc\u001b[0m\u001b[0;34m(\u001b[0m\u001b[0mkey\u001b[0m\u001b[0;34m)\u001b[0m\u001b[0;34m\u001b[0m\u001b[0;34m\u001b[0m\u001b[0m\n\u001b[1;32m   3079\u001b[0m             \u001b[0;32mexcept\u001b[0m \u001b[0mKeyError\u001b[0m\u001b[0;34m:\u001b[0m\u001b[0;34m\u001b[0m\u001b[0;34m\u001b[0m\u001b[0m\n\u001b[0;32m-> 3080\u001b[0;31m                 \u001b[0;32mreturn\u001b[0m \u001b[0mself\u001b[0m\u001b[0;34m.\u001b[0m\u001b[0m_engine\u001b[0m\u001b[0;34m.\u001b[0m\u001b[0mget_loc\u001b[0m\u001b[0;34m(\u001b[0m\u001b[0mself\u001b[0m\u001b[0;34m.\u001b[0m\u001b[0m_maybe_cast_indexer\u001b[0m\u001b[0;34m(\u001b[0m\u001b[0mkey\u001b[0m\u001b[0;34m)\u001b[0m\u001b[0;34m)\u001b[0m\u001b[0;34m\u001b[0m\u001b[0;34m\u001b[0m\u001b[0m\n\u001b[0m\u001b[1;32m   3081\u001b[0m \u001b[0;34m\u001b[0m\u001b[0m\n\u001b[1;32m   3082\u001b[0m         \u001b[0mindexer\u001b[0m \u001b[0;34m=\u001b[0m \u001b[0mself\u001b[0m\u001b[0;34m.\u001b[0m\u001b[0mget_indexer\u001b[0m\u001b[0;34m(\u001b[0m\u001b[0;34m[\u001b[0m\u001b[0mkey\u001b[0m\u001b[0;34m]\u001b[0m\u001b[0;34m,\u001b[0m \u001b[0mmethod\u001b[0m\u001b[0;34m=\u001b[0m\u001b[0mmethod\u001b[0m\u001b[0;34m,\u001b[0m \u001b[0mtolerance\u001b[0m\u001b[0;34m=\u001b[0m\u001b[0mtolerance\u001b[0m\u001b[0;34m)\u001b[0m\u001b[0;34m\u001b[0m\u001b[0;34m\u001b[0m\u001b[0m\n",
      "\u001b[0;32mpandas/_libs/index.pyx\u001b[0m in \u001b[0;36mpandas._libs.index.IndexEngine.get_loc\u001b[0;34m()\u001b[0m\n",
      "\u001b[0;32mpandas/_libs/index.pyx\u001b[0m in \u001b[0;36mpandas._libs.index.IndexEngine.get_loc\u001b[0;34m()\u001b[0m\n",
      "\u001b[0;32mpandas/_libs/hashtable_class_helper.pxi\u001b[0m in \u001b[0;36mpandas._libs.hashtable.PyObjectHashTable.get_item\u001b[0;34m()\u001b[0m\n",
      "\u001b[0;32mpandas/_libs/hashtable_class_helper.pxi\u001b[0m in \u001b[0;36mpandas._libs.hashtable.PyObjectHashTable.get_item\u001b[0;34m()\u001b[0m\n",
      "\u001b[0;31mKeyError\u001b[0m: 'PAY_0'"
     ]
    },
    {
     "data": {
      "image/png": "[encoded data removed]",
      "text/plain": [
       "<Figure size 720x576 with 1 Axes>"
      ]
     },
     "metadata": {
      "needs_background": "light"
     },
     "output_type": "display_data"
    }
   ],
   "source": [
    "#create group\n",
    "df_pay_hist = df.iloc[:,5:11]\n",
    "\n",
    "fig, ax = plt.subplots(figsize = (10,8), sharex=True)\n",
    "\n",
    "\n",
    "plt.subplot(3,2,1)\n",
    "df['PAY_0'].value_counts().plot(kind='bar')\n",
    "\n",
    "plt.subplot(3,2,2)\n",
    "df['PAY_2'].value_counts().plot(kind='bar')\n",
    "\n",
    "plt.subplot(3,2,3)\n",
    "df['PAY_3'].value_counts().plot(kind='bar')\n",
    "\n",
    "plt.subplot(3,2,4)\n",
    "df['PAY_4'].value_counts().plot(kind='bar')\n",
    "\n",
    "plt.subplot(3,2,5)\n",
    "df['PAY_5'].value_counts().plot(kind='bar')\n",
    "\n",
    "plt.subplot(3,2,6)\n",
    "df['PAY_6'].value_counts().plot(kind='bar')\n",
    "\n",
    "\n",
    "\n"
   ]
  },
  {
   "cell_type": "markdown",
   "metadata": {},
   "source": [
    "Some notes: all the plots are pretty much the same. Values of 0 are the most common by a large amount, i.e. another instance of some class inbalance. Will have to handle as well. \n",
    "\n",
    "Next, look at the Bill amounts."
   ]
  },
  {
   "cell_type": "code",
   "execution_count": null,
   "metadata": {},
   "outputs": [],
   "source": [
    "df['BILL_AMT1'].plot(kind='hist', )"
   ]
  },
  {
   "cell_type": "code",
   "execution_count": null,
   "metadata": {},
   "outputs": [],
   "source": [
    "#create group\n",
    "ax, fig = plt.subplots(figsize = (10,8))\n",
    "bill_amts = df.iloc[:, 11:17]\n",
    "\n",
    "plt.subplot(3,2,1)\n",
    "bill_amts['BILL_AMT1'].hist(bins=25)\n",
    "\n",
    "plt.subplot(3,2,2)\n",
    "bill_amts['BILL_AMT2'].hist(bins=25)\n",
    "\n",
    "plt.subplot(3,2,3)\n",
    "bill_amts['BILL_AMT3'].hist(bins=25)\n",
    "\n",
    "plt.subplot(3,2,4)\n",
    "bill_amts['BILL_AMT4'].hist(bins=25)\n",
    "\n",
    "plt.subplot(3,2,5)\n",
    "bill_amts['BILL_AMT5'].hist(bins=25)\n",
    "\n",
    "plt.subplot(3,2,6)\n",
    "bill_amts['BILL_AMT6'].hist(bins=25)\n",
    "\n",
    "\n"
   ]
  },
  {
   "cell_type": "code",
   "execution_count": null,
   "metadata": {},
   "outputs": [],
   "source": [
    "# ds1 = pd.Series([PAY_AMT1, PAY_AMT2, PAY_AMT3, PAY_AMT4, PAY_AMT5, PAY_AMT6])\n",
    "# ds2 = pd.Series([BILL_AMT1, BILL_AMT2, BILL_AMT3, BILL_AMT4, BILL_AMT5, BILL_AMT6])\n",
    "# Outstanding_Bal = ds2 - ds1\n",
    "\n",
    "# print(Outstanding_Bal)"
   ]
  },
  {
   "cell_type": "code",
   "execution_count": null,
   "metadata": {},
   "outputs": [],
   "source": [
    "# Load libraries\n",
    "\n",
    "from sklearn.tree import DecisionTreeClassifier # Import Decision Tree Classifier\n",
    "from sklearn.model_selection import train_test_split # Import train_test_split function\n",
    "from sklearn import metrics #Import scikit-learn metrics module for accuracy calculation"
   ]
  },
  {
   "cell_type": "code",
   "execution_count": null,
   "metadata": {},
   "outputs": [],
   "source": [
    "# divided columns into two types of variables - target variable (y) and feature variables (X).\n",
    "X = df.drop(columns=\"Y\")\n",
    "y = df.Y"
   ]
  },
  {
   "cell_type": "code",
   "execution_count": null,
   "metadata": {},
   "outputs": [],
   "source": [
    "X"
   ]
  },
  {
   "cell_type": "code",
   "execution_count": null,
   "metadata": {},
   "outputs": [],
   "source": [
    "# Split dataset into training set and test set\n",
    "# 70% training and 30% test\n",
    "\n",
    "X_train, X_test, y_train, y_test = train_test_split(X, y, test_size=0.3, random_state=2019) \n"
   ]
  },
  {
   "cell_type": "markdown",
   "metadata": {},
   "source": [
    "### Building Decision Tree Model\n",
    "Let's create a Decision Tree Model using `DecisionTreeClassifier` provided in `Scikit-learn`."
   ]
  },
  {
   "cell_type": "code",
   "execution_count": null,
   "metadata": {},
   "outputs": [],
   "source": [
    "# Create Decision Tree classifer object\n",
    "clf = DecisionTreeClassifier()\n",
    "\n",
    "# Train Decision Tree Classifer\n",
    "clf = clf.fit(X_train,y_train)\n",
    "\n",
    "#Predict the response for test dataset\n",
    "y_pred = clf.predict(X_test)"
   ]
  },
  {
   "cell_type": "markdown",
   "metadata": {},
   "source": [
    "### Evaluating Model\n",
    "Estimate, how accurately the classifier or model can predict the type of cultivars.\n",
    "\n",
    "Accuracy can be computed by comparing actual test set values (y_test) and predicted values (y_pred)."
   ]
  },
  {
   "cell_type": "code",
   "execution_count": null,
   "metadata": {},
   "outputs": [],
   "source": [
    "# Model Accuracy, how often is the classifier correct?\n",
    "print(\"Accuracy:\",metrics.accuracy_score(y_test, y_pred))"
   ]
  },
  {
   "cell_type": "code",
   "execution_count": null,
   "metadata": {},
   "outputs": [],
   "source": [
    "# created new column OUTSTANDING_BAL for each month\n",
    "\n",
    "df[\"OUTSTANDING_BAL1\"] = (df.BILL_AMT1 - df.PAY_AMT1)\n",
    "df[\"OUTSTANDING_BAL2\"] = (df.BILL_AMT2 - df.PAY_AMT2)\n",
    "df[\"OUTSTANDING_BAL3\"] = (df.BILL_AMT3 - df.PAY_AMT3)\n",
    "df[\"OUTSTANDING_BAL4\"] = (df.BILL_AMT4 - df.PAY_AMT4)\n",
    "df[\"OUTSTANDING_BAL5\"] = (df.BILL_AMT5 - df.PAY_AMT5)\n",
    "df[\"OUTSTANDING_BAL6\"] = (df.BILL_AMT6 - df.PAY_AMT6)\n",
    "\n",
    "df.head(5)"
   ]
  },
  {
   "cell_type": "code",
   "execution_count": null,
   "metadata": {},
   "outputs": [],
   "source": [
    "# created new column %_LIMIT_BAL for each month\n",
    "\n",
    "df[\"%_LIMIT_BAL1\"] = (df.OUTSTANDING_BAL1 / df.LIMIT_BAL)\n",
    "df[\"%_LIMIT_BAL2\"] = (df.OUTSTANDING_BAL2 / df.LIMIT_BAL)\n",
    "df[\"%_LIMIT_BAL3\"] = (df.OUTSTANDING_BAL3 / df.LIMIT_BAL)\n",
    "df[\"%_LIMIT_BAL4\"] = (df.OUTSTANDING_BAL4 / df.LIMIT_BAL)\n",
    "df[\"%_LIMIT_BAL5\"] = (df.OUTSTANDING_BAL5 / df.LIMIT_BAL)\n",
    "df[\"%_LIMIT_BAL6\"] = (df.OUTSTANDING_BAL6 / df.LIMIT_BAL)\n",
    "\n",
    "\n",
    "df.head(5)"
   ]
  },
  {
   "cell_type": "code",
   "execution_count": null,
   "metadata": {},
   "outputs": [],
   "source": [
    "df.info()"
   ]
  },
  {
   "cell_type": "code",
   "execution_count": null,
   "metadata": {},
   "outputs": [],
   "source": [
    "from sklearn.tree import export_graphviz\n",
    "from sklearn.externals.six import StringIO  \n",
    "from IPython.display import Image  \n",
    "import pydotplus\n",
    "\n",
    "dot_data = StringIO()\n",
    "export_graphviz(clf, out_file=dot_data,  \n",
    "                filled=True, rounded=True,\n",
    "                special_characters=True,feature_names = X.columns, class_names=['0','1']) \n",
    "graph = pydotplus.graph_from_dot_data(dot_data.getvalue())  \n",
    "graph.write_png('credit_card.png')\n",
    "Image(graph.create_png())"
   ]
  },
  {
   "cell_type": "code",
   "execution_count": null,
   "metadata": {},
   "outputs": [],
   "source": [
    "# divided columns into two types of variables - target variable (y) and feature variables (X).\n",
    "X = df.drop(columns=[\"BILL_AMT1\", \"BILL_AMT2\", \"BILL_AMT3\", \"BILL_AMT4\", \"BILL_AMT5\", \"BILL_AMT6\", \"PAY_AMT1\", \"PAY_AMT2\",\"PAY_AMT3\",\"PAY_AMT4\",\"PAY_AMT5\",\"PAY_AMT6\", \"Y\"])\n",
    "y = df.Y"
   ]
  },
  {
   "cell_type": "code",
   "execution_count": null,
   "metadata": {},
   "outputs": [],
   "source": [
    "X.columns"
   ]
  },
  {
   "cell_type": "code",
   "execution_count": null,
   "metadata": {},
   "outputs": [],
   "source": [
    "# Split dataset into training set and test set\n",
    "# 70% training and 30% test\n",
    "\n",
    "X_train, X_test, y_train, y_test = train_test_split(X, y, test_size=0.3, random_state=2019) \n"
   ]
  },
  {
   "cell_type": "markdown",
   "metadata": {},
   "source": [
    "### Building Decision Tree Model\n",
    "Let's create a Decision Tree Model using `DecisionTreeClassifier` provided in `Scikit-learn`."
   ]
  },
  {
   "cell_type": "code",
   "execution_count": null,
   "metadata": {},
   "outputs": [],
   "source": [
    "# Create Decision Tree classifer object\n",
    "clf = DecisionTreeClassifier()\n",
    "\n",
    "# Train Decision Tree Classifer\n",
    "clf = clf.fit(X_train,y_train)\n",
    "\n",
    "#Predict the response for test dataset\n",
    "y_pred = clf.predict(X_test)"
   ]
  },
  {
   "cell_type": "markdown",
   "metadata": {},
   "source": [
    "### Evaluating Model\n",
    "Estimate, how accurately the classifier or model can predict the type of cultivars.\n",
    "\n",
    "Accuracy can be computed by comparing actual test set values (y_test) and predicted values (y_pred)."
   ]
  },
  {
   "cell_type": "code",
   "execution_count": null,
   "metadata": {},
   "outputs": [],
   "source": [
    "# Model Accuracy, how often is the classifier correct?\n",
    "print(\"Accuracy:\",metrics.accuracy_score(y_test, y_pred))"
   ]
  },
  {
   "cell_type": "code",
   "execution_count": null,
   "metadata": {},
   "outputs": [],
   "source": []
  },
  {
   "cell_type": "code",
   "execution_count": null,
   "metadata": {},
   "outputs": [],
   "source": [
    "# divided columns into two types of variables - target variable (y) and feature variables (X).\n",
    "X = df.drop(columns=['PAY_0', 'PAY_2',\n",
    "       'PAY_3', 'PAY_4', 'PAY_5', 'PAY_6', 'OUTSTANDING_BAL1',\n",
    "       'OUTSTANDING_BAL2', 'OUTSTANDING_BAL3', 'OUTSTANDING_BAL4',\n",
    "       'OUTSTANDING_BAL5', 'OUTSTANDING_BAL6', \"BILL_AMT1\", \"BILL_AMT2\", \"BILL_AMT3\", \"BILL_AMT4\", \"BILL_AMT5\", \"BILL_AMT6\", \"PAY_AMT1\", \"PAY_AMT2\",\"PAY_AMT3\",\"PAY_AMT4\",\"PAY_AMT5\",\"PAY_AMT6\", \"Y\"])\n",
    "y = df.Y"
   ]
  },
  {
   "cell_type": "code",
   "execution_count": null,
   "metadata": {},
   "outputs": [],
   "source": [
    "X.columns"
   ]
  },
  {
   "cell_type": "code",
   "execution_count": null,
   "metadata": {},
   "outputs": [],
   "source": [
    "# Split dataset into training set and test set\n",
    "# 70% training and 30% test\n",
    "\n",
    "X_train, X_test, y_train, y_test = train_test_split(X, y, test_size=0.3, random_state=2019) \n"
   ]
  },
  {
   "cell_type": "markdown",
   "metadata": {},
   "source": [
    "### Building Decision Tree Model\n",
    "Let's create a Decision Tree Model using `DecisionTreeClassifier` provided in `Scikit-learn`."
   ]
  },
  {
   "cell_type": "code",
   "execution_count": null,
   "metadata": {},
   "outputs": [],
   "source": [
    "# Create Decision Tree classifer object\n",
    "clf = DecisionTreeClassifier()\n",
    "\n",
    "# Train Decision Tree Classifer\n",
    "clf = clf.fit(X_train,y_train)\n",
    "\n",
    "#Predict the response for test dataset\n",
    "y_pred = clf.predict(X_test)"
   ]
  },
  {
   "cell_type": "markdown",
   "metadata": {},
   "source": [
    "### Evaluating Model\n",
    "Estimate, how accurately the classifier or model can predict the type of cultivars.\n",
    "\n",
    "Accuracy can be computed by comparing actual test set values (y_test) and predicted values (y_pred)."
   ]
  },
  {
   "cell_type": "code",
   "execution_count": null,
   "metadata": {},
   "outputs": [],
   "source": [
    "# Model Accuracy, how often is the classifier correct?\n",
    "print(\"Accuracy:\",metrics.accuracy_score(y_test, y_pred))"
   ]
  },
  {
   "cell_type": "markdown",
   "metadata": {},
   "source": [
    "## Results\n",
    "Creating calculated columns for Increasing outstanding balance per month column and Outstanding Bal had no meaningful effect and removing the repayment status, outstanding balance, bill amount lowered the accuracy by about a half percent\n"
   ]
  },
  {
   "cell_type": "code",
   "execution_count": null,
   "metadata": {},
   "outputs": [],
   "source": []
  }
 ],
 "metadata": {
  "kernelspec": {
   "display_name": "Python 3",
   "language": "python",
   "name": "python3"
  },
  "language_info": {
   "codemirror_mode": {
    "name": "ipython",
    "version": 3
   },
   "file_extension": ".py",
   "mimetype": "text/x-python",
   "name": "python",
   "nbconvert_exporter": "python",
   "pygments_lexer": "ipython3",
   "version": "3.6.7"
  }
 },
 "nbformat": 4,
 "nbformat_minor": 2
}
