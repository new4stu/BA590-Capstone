{
 "cells": [
  {
   "cell_type": "markdown",
   "metadata": {},
   "source": [
    "## Initial EDA\n",
    "\n",
    "load in the data and first look at our target variable\n"
   ]
  },
  {
   "cell_type": "code",
   "execution_count": 1,
   "metadata": {},
   "outputs": [],
   "source": [
    "import pandas as pd\n",
    "import numpy as np\n",
    "import sklearn\n",
    "import matplotlib.pyplot as plt\n",
    "import seaborn as sns\n",
    "sns.set()\n",
    "%matplotlib inline\n",
    "\n",
    "from sklearn.tree import DecisionTreeClassifier # Import Decision Tree Classifier\n",
    "from sklearn.model_selection import train_test_split # Import train_test_split function\n",
    "from sklearn import metrics #Import scikit-learn metrics module for accuracy calculation"
   ]
  },
  {
   "cell_type": "code",
   "execution_count": 2,
   "metadata": {},
   "outputs": [
    {
     "data": {
      "text/html": [
       "<div>\n",
       "<style scoped>\n",
       "    .dataframe tbody tr th:only-of-type {\n",
       "        vertical-align: middle;\n",
       "    }\n",
       "\n",
       "    .dataframe tbody tr th {\n",
       "        vertical-align: top;\n",
       "    }\n",
       "\n",
       "    .dataframe thead th {\n",
       "        text-align: right;\n",
       "    }\n",
       "</style>\n",
       "<table border=\"1\" class=\"dataframe\">\n",
       "  <thead>\n",
       "    <tr style=\"text-align: right;\">\n",
       "      <th></th>\n",
       "      <th>NAME</th>\n",
       "      <th>Households SNAP</th>\n",
       "      <th>Estimated Individuals SNAP</th>\n",
       "      <th>SNAP % Population</th>\n",
       "      <th>SNAP Per Capita Benefit or TAM</th>\n",
       "      <th>Total Citizen Educated in US</th>\n",
       "      <th>Citizen Less than High School  Education</th>\n",
       "      <th>Citizen High School  Graduate</th>\n",
       "      <th>Citizen Some College  Education</th>\n",
       "      <th>Citizen College Degree</th>\n",
       "      <th>...</th>\n",
       "      <th>Hispanic or Latino</th>\n",
       "      <th>Median Age</th>\n",
       "      <th>Male Median Age</th>\n",
       "      <th>Female Median Age</th>\n",
       "      <th>Total Households</th>\n",
       "      <th>Average Household Size</th>\n",
       "      <th>Total Families</th>\n",
       "      <th>state code</th>\n",
       "      <th>county code</th>\n",
       "      <th>zip code</th>\n",
       "    </tr>\n",
       "  </thead>\n",
       "  <tbody>\n",
       "    <tr>\n",
       "      <th>0</th>\n",
       "      <td>NAME</td>\n",
       "      <td>Households SNAP</td>\n",
       "      <td>Estimated Individuals SNAP</td>\n",
       "      <td>SNAP % Population</td>\n",
       "      <td>SNAP Per Capita Benefit or TAM</td>\n",
       "      <td>Total Citizen Educated in US</td>\n",
       "      <td>Citizen Less than High School  Education</td>\n",
       "      <td>Citizen High School  Graduate</td>\n",
       "      <td>Citizen Some College  Education</td>\n",
       "      <td>Citizen College Degree</td>\n",
       "      <td>...</td>\n",
       "      <td>Hispanic or Latino</td>\n",
       "      <td>Median Age</td>\n",
       "      <td>Male Median Age</td>\n",
       "      <td>Female Median Age</td>\n",
       "      <td>Total Households</td>\n",
       "      <td>Average Household Size</td>\n",
       "      <td>Total Families</td>\n",
       "      <td>state code</td>\n",
       "      <td>county code</td>\n",
       "      <td>zip code</td>\n",
       "    </tr>\n",
       "    <tr>\n",
       "      <th>1</th>\n",
       "      <td>United States</td>\n",
       "      <td>15811787</td>\n",
       "      <td>4.07944e+07</td>\n",
       "      <td>0.13213</td>\n",
       "      <td>6.1314e+10</td>\n",
       "      <td>216271644</td>\n",
       "      <td>27437114</td>\n",
       "      <td>59093612</td>\n",
       "      <td>62853315</td>\n",
       "      <td>41377068</td>\n",
       "      <td>...</td>\n",
       "      <td>258267944</td>\n",
       "      <td>37.2</td>\n",
       "      <td>35.8</td>\n",
       "      <td>38.5</td>\n",
       "      <td>116716292</td>\n",
       "      <td>2.58</td>\n",
       "      <td>74181467</td>\n",
       "      <td>NaN</td>\n",
       "      <td>NaN</td>\n",
       "      <td>NaN</td>\n",
       "    </tr>\n",
       "    <tr>\n",
       "      <th>2</th>\n",
       "      <td>Alabama</td>\n",
       "      <td>285458</td>\n",
       "      <td>707936</td>\n",
       "      <td>0.148112</td>\n",
       "      <td>1.06403e+09</td>\n",
       "      <td>3276637</td>\n",
       "      <td>481059</td>\n",
       "      <td>1012551</td>\n",
       "      <td>979449</td>\n",
       "      <td>503930</td>\n",
       "      <td>...</td>\n",
       "      <td>4594134</td>\n",
       "      <td>37.9</td>\n",
       "      <td>36.4</td>\n",
       "      <td>39.1</td>\n",
       "      <td>1883791</td>\n",
       "      <td>2.48</td>\n",
       "      <td>1132459</td>\n",
       "      <td>1</td>\n",
       "      <td>NaN</td>\n",
       "      <td>NaN</td>\n",
       "    </tr>\n",
       "    <tr>\n",
       "      <th>3</th>\n",
       "      <td>Alaska</td>\n",
       "      <td>32796</td>\n",
       "      <td>86909.4</td>\n",
       "      <td>0.122368</td>\n",
       "      <td>1.30625e+08</td>\n",
       "      <td>475442</td>\n",
       "      <td>36177</td>\n",
       "      <td>131293</td>\n",
       "      <td>170151</td>\n",
       "      <td>88308</td>\n",
       "      <td>...</td>\n",
       "      <td>670982</td>\n",
       "      <td>33.8</td>\n",
       "      <td>33.6</td>\n",
       "      <td>34.1</td>\n",
       "      <td>258058</td>\n",
       "      <td>2.65</td>\n",
       "      <td>187378</td>\n",
       "      <td>2</td>\n",
       "      <td>NaN</td>\n",
       "      <td>NaN</td>\n",
       "    </tr>\n",
       "    <tr>\n",
       "      <th>4</th>\n",
       "      <td>Arizona</td>\n",
       "      <td>324442</td>\n",
       "      <td>853282</td>\n",
       "      <td>0.133492</td>\n",
       "      <td>1.28248e+09</td>\n",
       "      <td>4516175</td>\n",
       "      <td>609649</td>\n",
       "      <td>1091339</td>\n",
       "      <td>1530530</td>\n",
       "      <td>802435</td>\n",
       "      <td>...</td>\n",
       "      <td>4496868</td>\n",
       "      <td>35.9</td>\n",
       "      <td>34.8</td>\n",
       "      <td>37.2</td>\n",
       "      <td>2380990</td>\n",
       "      <td>2.63</td>\n",
       "      <td>1629014</td>\n",
       "      <td>4</td>\n",
       "      <td>NaN</td>\n",
       "      <td>NaN</td>\n",
       "    </tr>\n",
       "  </tbody>\n",
       "</table>\n",
       "<p>5 rows × 39 columns</p>\n",
       "</div>"
      ],
      "text/plain": [
       "0           NAME  Households SNAP  Estimated Individuals SNAP  \\\n",
       "0           NAME  Households SNAP  Estimated Individuals SNAP   \n",
       "1  United States         15811787                 4.07944e+07   \n",
       "2        Alabama           285458                      707936   \n",
       "3         Alaska            32796                     86909.4   \n",
       "4        Arizona           324442                      853282   \n",
       "\n",
       "0  SNAP % Population  SNAP Per Capita Benefit or TAM  \\\n",
       "0  SNAP % Population  SNAP Per Capita Benefit or TAM   \n",
       "1            0.13213                      6.1314e+10   \n",
       "2           0.148112                     1.06403e+09   \n",
       "3           0.122368                     1.30625e+08   \n",
       "4           0.133492                     1.28248e+09   \n",
       "\n",
       "0  Total Citizen Educated in US  Citizen Less than High School  Education  \\\n",
       "0  Total Citizen Educated in US  Citizen Less than High School  Education   \n",
       "1                     216271644                                  27437114   \n",
       "2                       3276637                                    481059   \n",
       "3                        475442                                     36177   \n",
       "4                       4516175                                    609649   \n",
       "\n",
       "0  Citizen High School  Graduate  Citizen Some College  Education  \\\n",
       "0  Citizen High School  Graduate  Citizen Some College  Education   \n",
       "1                       59093612                         62853315   \n",
       "2                        1012551                           979449   \n",
       "3                         131293                           170151   \n",
       "4                        1091339                          1530530   \n",
       "\n",
       "0  Citizen College Degree     ...     Hispanic or Latino  Median Age  \\\n",
       "0  Citizen College Degree     ...     Hispanic or Latino  Median Age   \n",
       "1                 41377068    ...              258267944        37.2   \n",
       "2                   503930    ...                4594134        37.9   \n",
       "3                    88308    ...                 670982        33.8   \n",
       "4                   802435    ...                4496868        35.9   \n",
       "\n",
       "0  Male Median Age  Female Median Age  Total Households  \\\n",
       "0  Male Median Age  Female Median Age  Total Households   \n",
       "1             35.8               38.5         116716292   \n",
       "2             36.4               39.1           1883791   \n",
       "3             33.6               34.1            258058   \n",
       "4             34.8               37.2           2380990   \n",
       "\n",
       "0  Average Household Size  Total Families  state code  county code  zip code  \n",
       "0  Average Household Size  Total Families  state code  county code  zip code  \n",
       "1                    2.58        74181467         NaN          NaN       NaN  \n",
       "2                    2.48         1132459           1          NaN       NaN  \n",
       "3                    2.65          187378           2          NaN       NaN  \n",
       "4                    2.63         1629014           4          NaN       NaN  \n",
       "\n",
       "[5 rows x 39 columns]"
      ]
     },
     "execution_count": 2,
     "metadata": {},
     "output_type": "execute_result"
    }
   ],
   "source": [
    "#df = pd.read_excel('Full_Datav5.xlsx', header=0)\n",
    "#df = pd.read_csv('Full_Datav5.csv', header=0)\n",
    "\n",
    "\n",
    "\n",
    "#y = df['Y']\n",
    "#y = df.Y\n",
    "\n",
    "#df.head()\n",
    "\n",
    "#df = pd.read_excel('Full_Datav4.xls', header=0)\n",
    "df = pd.read_excel('Full_Datav4.xls', header=None)\n",
    "\n",
    "#df = pd.read_excel('Full_Datav4.xls', header=None)\n",
    "\n",
    "\n",
    "df.columns = df.iloc[0,:]\n",
    "\n",
    "#df.rename(index=str, columns={\"SNAP Per Capita Benefit or TAM\": \"Y\"}, inplace=True)\n",
    "\n",
    "#df.drop('ID', inplace=True, axis=0)\n",
    "\n",
    "#y = df[\"Y\"]\n",
    "#y = df.Y\n",
    "\n",
    "df.head()"
   ]
  },
  {
   "cell_type": "code",
   "execution_count": 3,
   "metadata": {},
   "outputs": [
    {
     "name": "stdout",
     "output_type": "stream",
     "text": [
      "<class 'pandas.core.frame.DataFrame'>\n",
      "RangeIndex: 36128 entries, 0 to 36127\n",
      "Data columns (total 39 columns):\n",
      "NAME                                        36128 non-null object\n",
      "Households SNAP                             36128 non-null object\n",
      "Estimated Individuals SNAP                  36128 non-null object\n",
      "SNAP % Population                           36006 non-null object\n",
      "SNAP Per Capita Benefit or TAM              36128 non-null object\n",
      "Total Citizen Educated in US                36128 non-null object\n",
      "Citizen Less than High School  Education    36128 non-null object\n",
      "Citizen High School  Graduate               36128 non-null object\n",
      "Citizen Some College  Education             36128 non-null object\n",
      "Citizen College Degree                      36128 non-null object\n",
      "Citizen Graduate or Professional Degree     36128 non-null object\n",
      "Total Citizen Income                        36128 non-null object\n",
      "Citizen No Income                           36128 non-null object\n",
      "Citizen Income $1-$9,999                    36128 non-null object\n",
      "Citizen Income $10,000-$14,999              36128 non-null object\n",
      "Citizen Income $15,000-$24,999              36128 non-null object\n",
      "Citizen Income $25,000-$34,999              36128 non-null object\n",
      "Citizen Income $35,000-$49,999              36128 non-null object\n",
      "Citizen Income $50,000-$64,999              36128 non-null object\n",
      "Citizen Income $65,000-$74,999              36128 non-null object\n",
      "Citizen Income $75,000 +                    36128 non-null object\n",
      "Total Population                            36128 non-null object\n",
      "One Race Population                         36128 non-null object\n",
      "White Race                                  36128 non-null object\n",
      "Black Race                                  36128 non-null object\n",
      "Native American Race                        36128 non-null object\n",
      "Asian Race                                  36128 non-null object\n",
      "Pacific Islander Race                       36128 non-null object\n",
      "Other Race Alone                            36128 non-null object\n",
      "Hispanic or Latino                          36128 non-null object\n",
      "Median Age                                  36128 non-null object\n",
      "Male Median Age                             36128 non-null object\n",
      "Female Median Age                           36128 non-null object\n",
      "Total Households                            36128 non-null object\n",
      "Average Household Size                      36128 non-null object\n",
      "Total Families                              36128 non-null object\n",
      "state code                                  36127 non-null object\n",
      "county code                                 3140 non-null object\n",
      "zip code                                    32937 non-null object\n",
      "dtypes: object(39)\n",
      "memory usage: 10.7+ MB\n"
     ]
    }
   ],
   "source": [
    "df.info()"
   ]
  },
  {
   "cell_type": "code",
   "execution_count": 4,
   "metadata": {},
   "outputs": [
    {
     "data": {
      "text/html": [
       "<div>\n",
       "<style scoped>\n",
       "    .dataframe tbody tr th:only-of-type {\n",
       "        vertical-align: middle;\n",
       "    }\n",
       "\n",
       "    .dataframe tbody tr th {\n",
       "        vertical-align: top;\n",
       "    }\n",
       "\n",
       "    .dataframe thead th {\n",
       "        text-align: right;\n",
       "    }\n",
       "</style>\n",
       "<table border=\"1\" class=\"dataframe\">\n",
       "  <thead>\n",
       "    <tr style=\"text-align: right;\">\n",
       "      <th></th>\n",
       "      <th>NAME</th>\n",
       "      <th>Households SNAP</th>\n",
       "      <th>Estimated Individuals SNAP</th>\n",
       "      <th>SNAP % Population</th>\n",
       "      <th>Y</th>\n",
       "      <th>Total Citizen Educated in US</th>\n",
       "      <th>Citizen Less than High School  Education</th>\n",
       "      <th>Citizen High School  Graduate</th>\n",
       "      <th>Citizen Some College  Education</th>\n",
       "      <th>Citizen College Degree</th>\n",
       "      <th>...</th>\n",
       "      <th>Hispanic or Latino</th>\n",
       "      <th>Median Age</th>\n",
       "      <th>Male Median Age</th>\n",
       "      <th>Female Median Age</th>\n",
       "      <th>Total Households</th>\n",
       "      <th>Average Household Size</th>\n",
       "      <th>Total Families</th>\n",
       "      <th>state code</th>\n",
       "      <th>county code</th>\n",
       "      <th>zip code</th>\n",
       "    </tr>\n",
       "  </thead>\n",
       "  <tbody>\n",
       "    <tr>\n",
       "      <th>0</th>\n",
       "      <td>NAME</td>\n",
       "      <td>Households SNAP</td>\n",
       "      <td>Estimated Individuals SNAP</td>\n",
       "      <td>SNAP % Population</td>\n",
       "      <td>SNAP Per Capita Benefit or TAM</td>\n",
       "      <td>Total Citizen Educated in US</td>\n",
       "      <td>Citizen Less than High School  Education</td>\n",
       "      <td>Citizen High School  Graduate</td>\n",
       "      <td>Citizen Some College  Education</td>\n",
       "      <td>Citizen College Degree</td>\n",
       "      <td>...</td>\n",
       "      <td>Hispanic or Latino</td>\n",
       "      <td>Median Age</td>\n",
       "      <td>Male Median Age</td>\n",
       "      <td>Female Median Age</td>\n",
       "      <td>Total Households</td>\n",
       "      <td>Average Household Size</td>\n",
       "      <td>Total Families</td>\n",
       "      <td>state code</td>\n",
       "      <td>county code</td>\n",
       "      <td>zip code</td>\n",
       "    </tr>\n",
       "    <tr>\n",
       "      <th>1</th>\n",
       "      <td>United States</td>\n",
       "      <td>15811787</td>\n",
       "      <td>4.07944e+07</td>\n",
       "      <td>0.13213</td>\n",
       "      <td>6.1314e+10</td>\n",
       "      <td>216271644</td>\n",
       "      <td>27437114</td>\n",
       "      <td>59093612</td>\n",
       "      <td>62853315</td>\n",
       "      <td>41377068</td>\n",
       "      <td>...</td>\n",
       "      <td>258267944</td>\n",
       "      <td>37.2</td>\n",
       "      <td>35.8</td>\n",
       "      <td>38.5</td>\n",
       "      <td>116716292</td>\n",
       "      <td>2.58</td>\n",
       "      <td>74181467</td>\n",
       "      <td>NaN</td>\n",
       "      <td>NaN</td>\n",
       "      <td>NaN</td>\n",
       "    </tr>\n",
       "    <tr>\n",
       "      <th>2</th>\n",
       "      <td>Alabama</td>\n",
       "      <td>285458</td>\n",
       "      <td>707936</td>\n",
       "      <td>0.148112</td>\n",
       "      <td>1.06403e+09</td>\n",
       "      <td>3276637</td>\n",
       "      <td>481059</td>\n",
       "      <td>1012551</td>\n",
       "      <td>979449</td>\n",
       "      <td>503930</td>\n",
       "      <td>...</td>\n",
       "      <td>4594134</td>\n",
       "      <td>37.9</td>\n",
       "      <td>36.4</td>\n",
       "      <td>39.1</td>\n",
       "      <td>1883791</td>\n",
       "      <td>2.48</td>\n",
       "      <td>1132459</td>\n",
       "      <td>1</td>\n",
       "      <td>NaN</td>\n",
       "      <td>NaN</td>\n",
       "    </tr>\n",
       "    <tr>\n",
       "      <th>3</th>\n",
       "      <td>Alaska</td>\n",
       "      <td>32796</td>\n",
       "      <td>86909.4</td>\n",
       "      <td>0.122368</td>\n",
       "      <td>1.30625e+08</td>\n",
       "      <td>475442</td>\n",
       "      <td>36177</td>\n",
       "      <td>131293</td>\n",
       "      <td>170151</td>\n",
       "      <td>88308</td>\n",
       "      <td>...</td>\n",
       "      <td>670982</td>\n",
       "      <td>33.8</td>\n",
       "      <td>33.6</td>\n",
       "      <td>34.1</td>\n",
       "      <td>258058</td>\n",
       "      <td>2.65</td>\n",
       "      <td>187378</td>\n",
       "      <td>2</td>\n",
       "      <td>NaN</td>\n",
       "      <td>NaN</td>\n",
       "    </tr>\n",
       "    <tr>\n",
       "      <th>4</th>\n",
       "      <td>Arizona</td>\n",
       "      <td>324442</td>\n",
       "      <td>853282</td>\n",
       "      <td>0.133492</td>\n",
       "      <td>1.28248e+09</td>\n",
       "      <td>4516175</td>\n",
       "      <td>609649</td>\n",
       "      <td>1091339</td>\n",
       "      <td>1530530</td>\n",
       "      <td>802435</td>\n",
       "      <td>...</td>\n",
       "      <td>4496868</td>\n",
       "      <td>35.9</td>\n",
       "      <td>34.8</td>\n",
       "      <td>37.2</td>\n",
       "      <td>2380990</td>\n",
       "      <td>2.63</td>\n",
       "      <td>1629014</td>\n",
       "      <td>4</td>\n",
       "      <td>NaN</td>\n",
       "      <td>NaN</td>\n",
       "    </tr>\n",
       "  </tbody>\n",
       "</table>\n",
       "<p>5 rows × 39 columns</p>\n",
       "</div>"
      ],
      "text/plain": [
       "0           NAME  Households SNAP  Estimated Individuals SNAP  \\\n",
       "0           NAME  Households SNAP  Estimated Individuals SNAP   \n",
       "1  United States         15811787                 4.07944e+07   \n",
       "2        Alabama           285458                      707936   \n",
       "3         Alaska            32796                     86909.4   \n",
       "4        Arizona           324442                      853282   \n",
       "\n",
       "0  SNAP % Population                               Y  \\\n",
       "0  SNAP % Population  SNAP Per Capita Benefit or TAM   \n",
       "1            0.13213                      6.1314e+10   \n",
       "2           0.148112                     1.06403e+09   \n",
       "3           0.122368                     1.30625e+08   \n",
       "4           0.133492                     1.28248e+09   \n",
       "\n",
       "0  Total Citizen Educated in US  Citizen Less than High School  Education  \\\n",
       "0  Total Citizen Educated in US  Citizen Less than High School  Education   \n",
       "1                     216271644                                  27437114   \n",
       "2                       3276637                                    481059   \n",
       "3                        475442                                     36177   \n",
       "4                       4516175                                    609649   \n",
       "\n",
       "0  Citizen High School  Graduate  Citizen Some College  Education  \\\n",
       "0  Citizen High School  Graduate  Citizen Some College  Education   \n",
       "1                       59093612                         62853315   \n",
       "2                        1012551                           979449   \n",
       "3                         131293                           170151   \n",
       "4                        1091339                          1530530   \n",
       "\n",
       "0  Citizen College Degree     ...     Hispanic or Latino  Median Age  \\\n",
       "0  Citizen College Degree     ...     Hispanic or Latino  Median Age   \n",
       "1                 41377068    ...              258267944        37.2   \n",
       "2                   503930    ...                4594134        37.9   \n",
       "3                    88308    ...                 670982        33.8   \n",
       "4                   802435    ...                4496868        35.9   \n",
       "\n",
       "0  Male Median Age  Female Median Age  Total Households  \\\n",
       "0  Male Median Age  Female Median Age  Total Households   \n",
       "1             35.8               38.5         116716292   \n",
       "2             36.4               39.1           1883791   \n",
       "3             33.6               34.1            258058   \n",
       "4             34.8               37.2           2380990   \n",
       "\n",
       "0  Average Household Size  Total Families  state code  county code  zip code  \n",
       "0  Average Household Size  Total Families  state code  county code  zip code  \n",
       "1                    2.58        74181467         NaN          NaN       NaN  \n",
       "2                    2.48         1132459           1          NaN       NaN  \n",
       "3                    2.65          187378           2          NaN       NaN  \n",
       "4                    2.63         1629014           4          NaN       NaN  \n",
       "\n",
       "[5 rows x 39 columns]"
      ]
     },
     "execution_count": 4,
     "metadata": {},
     "output_type": "execute_result"
    }
   ],
   "source": [
    "# building features and re-naming target data Y\n",
    "\n",
    "df.rename(index=str, columns={\"SNAP Per Capita Benefit or TAM\": \"Y\"}, inplace=True)\n",
    "#df.drop('NAME', axis=1, inplace=True )\n",
    "#df = df.astype('float32')\n",
    "\n",
    "df.head()"
   ]
  },
  {
   "cell_type": "code",
   "execution_count": 7,
   "metadata": {},
   "outputs": [
    {
     "name": "stdout",
     "output_type": "stream",
     "text": [
      "number of missing values:  NAME 0       Percentage of missing values: NAME 0.0\n",
      "number of missing values:  Households SNAP 0       Percentage of missing values: Households SNAP 0.0\n",
      "number of missing values:  Estimated Individuals SNAP 0       Percentage of missing values: Estimated Individuals SNAP 0.0\n",
      "number of missing values:  SNAP % Population 122       Percentage of missing values: SNAP % Population 18.0\n",
      "number of missing values:  Y 0       Percentage of missing values: Y 0.0\n",
      "number of missing values:  Total Citizen Educated in US 0       Percentage of missing values: Total Citizen Educated in US 0.0\n",
      "number of missing values:  Citizen Less than High School  Education 0       Percentage of missing values: Citizen Less than High School  Education 0.0\n",
      "number of missing values:  Citizen High School  Graduate 0       Percentage of missing values: Citizen High School  Graduate 0.0\n",
      "number of missing values:  Citizen Some College  Education 0       Percentage of missing values: Citizen Some College  Education 0.0\n",
      "number of missing values:  Citizen College Degree  0       Percentage of missing values: Citizen College Degree  0.0\n",
      "number of missing values:  Citizen Graduate or Professional Degree 0       Percentage of missing values: Citizen Graduate or Professional Degree 0.0\n",
      "number of missing values:  Total Citizen Income 0       Percentage of missing values: Total Citizen Income 0.0\n",
      "number of missing values:  Citizen No Income 0       Percentage of missing values: Citizen No Income 0.0\n",
      "number of missing values:  Citizen Income $1-$9,999 0       Percentage of missing values: Citizen Income $1-$9,999 0.0\n",
      "number of missing values:  Citizen Income $10,000-$14,999 0       Percentage of missing values: Citizen Income $10,000-$14,999 0.0\n",
      "number of missing values:  Citizen Income $15,000-$24,999 0       Percentage of missing values: Citizen Income $15,000-$24,999 0.0\n",
      "number of missing values:  Citizen Income $25,000-$34,999 0       Percentage of missing values: Citizen Income $25,000-$34,999 0.0\n",
      "number of missing values:  Citizen Income $35,000-$49,999 0       Percentage of missing values: Citizen Income $35,000-$49,999 0.0\n",
      "number of missing values:  Citizen Income $50,000-$64,999 0       Percentage of missing values: Citizen Income $50,000-$64,999 0.0\n",
      "number of missing values:  Citizen Income $65,000-$74,999 0       Percentage of missing values: Citizen Income $65,000-$74,999 0.0\n",
      "number of missing values:  Citizen Income $75,000 +  0       Percentage of missing values: Citizen Income $75,000 +  0.0\n",
      "number of missing values:  Total Population 0       Percentage of missing values: Total Population 0.0\n",
      "number of missing values:  One Race Population 0       Percentage of missing values: One Race Population 0.0\n",
      "number of missing values:  White Race 0       Percentage of missing values: White Race 0.0\n",
      "number of missing values:  Black Race 0       Percentage of missing values: Black Race 0.0\n",
      "number of missing values:  Native American Race 0       Percentage of missing values: Native American Race 0.0\n",
      "number of missing values:  Asian Race 0       Percentage of missing values: Asian Race 0.0\n",
      "number of missing values:  Pacific Islander Race 0       Percentage of missing values: Pacific Islander Race 0.0\n",
      "number of missing values:  Other Race Alone 0       Percentage of missing values: Other Race Alone 0.0\n",
      "number of missing values:  Hispanic or Latino 0       Percentage of missing values: Hispanic or Latino 0.0\n",
      "number of missing values:  Median Age 0       Percentage of missing values: Median Age 0.0\n",
      "number of missing values:  Male Median Age 0       Percentage of missing values: Male Median Age 0.0\n",
      "number of missing values:  Female Median Age 0       Percentage of missing values: Female Median Age 0.0\n",
      "number of missing values:  Total Households 0       Percentage of missing values: Total Households 0.0\n",
      "number of missing values:  Average Household Size 0       Percentage of missing values: Average Household Size 0.0\n",
      "number of missing values:  Total Families 0       Percentage of missing values: Total Families 0.0\n",
      "number of missing values:  state code 1       Percentage of missing values: state code 0.0\n",
      "number of missing values:  county code 32988       Percentage of missing values: county code 4837.0\n",
      "number of missing values:  zip code 3191       Percentage of missing values: zip code 468.0\n"
     ]
    }
   ],
   "source": [
    "#find out missing values\n",
    "names = []\n",
    "value = []\n",
    "for col in df.columns:\n",
    "    names.append(col)\n",
    "    value.append(df[col].isnull().sum())\n",
    "    print(\"number of missing values: \", names[-1], value[-1],\"\"\"     \"\"\", \"Percentage of missing values:\", names[-1], round((value[-1]/682)*100))"
   ]
  },
  {
   "cell_type": "code",
   "execution_count": 8,
   "metadata": {},
   "outputs": [
    {
     "ename": "ValueError",
     "evalue": "could not convert string to float: 'NAME'",
     "output_type": "error",
     "traceback": [
      "\u001b[0;31m---------------------------------------------------------------------------\u001b[0m",
      "\u001b[0;31mValueError\u001b[0m                                Traceback (most recent call last)",
      "\u001b[0;32m<ipython-input-8-cdddd19b42b1>\u001b[0m in \u001b[0;36m<module>\u001b[0;34m\u001b[0m\n\u001b[1;32m      1\u001b[0m \u001b[0;31m#convert columns to numeric\u001b[0m\u001b[0;34m\u001b[0m\u001b[0;34m\u001b[0m\u001b[0;34m\u001b[0m\u001b[0m\n\u001b[1;32m      2\u001b[0m \u001b[0;34m\u001b[0m\u001b[0m\n\u001b[0;32m----> 3\u001b[0;31m \u001b[0mdf\u001b[0m \u001b[0;34m=\u001b[0m \u001b[0mdf\u001b[0m\u001b[0;34m.\u001b[0m\u001b[0mastype\u001b[0m\u001b[0;34m(\u001b[0m\u001b[0;34m'float32'\u001b[0m\u001b[0;34m)\u001b[0m\u001b[0;34m\u001b[0m\u001b[0;34m\u001b[0m\u001b[0m\n\u001b[0m",
      "\u001b[0;32m/opt/tljh/user/lib/python3.6/site-packages/pandas/util/_decorators.py\u001b[0m in \u001b[0;36mwrapper\u001b[0;34m(*args, **kwargs)\u001b[0m\n\u001b[1;32m    176\u001b[0m                 \u001b[0;32melse\u001b[0m\u001b[0;34m:\u001b[0m\u001b[0;34m\u001b[0m\u001b[0;34m\u001b[0m\u001b[0m\n\u001b[1;32m    177\u001b[0m                     \u001b[0mkwargs\u001b[0m\u001b[0;34m[\u001b[0m\u001b[0mnew_arg_name\u001b[0m\u001b[0;34m]\u001b[0m \u001b[0;34m=\u001b[0m \u001b[0mnew_arg_value\u001b[0m\u001b[0;34m\u001b[0m\u001b[0;34m\u001b[0m\u001b[0m\n\u001b[0;32m--> 178\u001b[0;31m             \u001b[0;32mreturn\u001b[0m \u001b[0mfunc\u001b[0m\u001b[0;34m(\u001b[0m\u001b[0;34m*\u001b[0m\u001b[0margs\u001b[0m\u001b[0;34m,\u001b[0m \u001b[0;34m**\u001b[0m\u001b[0mkwargs\u001b[0m\u001b[0;34m)\u001b[0m\u001b[0;34m\u001b[0m\u001b[0;34m\u001b[0m\u001b[0m\n\u001b[0m\u001b[1;32m    179\u001b[0m         \u001b[0;32mreturn\u001b[0m \u001b[0mwrapper\u001b[0m\u001b[0;34m\u001b[0m\u001b[0;34m\u001b[0m\u001b[0m\n\u001b[1;32m    180\u001b[0m     \u001b[0;32mreturn\u001b[0m \u001b[0m_deprecate_kwarg\u001b[0m\u001b[0;34m\u001b[0m\u001b[0;34m\u001b[0m\u001b[0m\n",
      "\u001b[0;32m/opt/tljh/user/lib/python3.6/site-packages/pandas/core/generic.py\u001b[0m in \u001b[0;36mastype\u001b[0;34m(self, dtype, copy, errors, **kwargs)\u001b[0m\n\u001b[1;32m   4999\u001b[0m             \u001b[0;31m# else, only a single dtype is given\u001b[0m\u001b[0;34m\u001b[0m\u001b[0;34m\u001b[0m\u001b[0;34m\u001b[0m\u001b[0m\n\u001b[1;32m   5000\u001b[0m             new_data = self._data.astype(dtype=dtype, copy=copy, errors=errors,\n\u001b[0;32m-> 5001\u001b[0;31m                                          **kwargs)\n\u001b[0m\u001b[1;32m   5002\u001b[0m             \u001b[0;32mreturn\u001b[0m \u001b[0mself\u001b[0m\u001b[0;34m.\u001b[0m\u001b[0m_constructor\u001b[0m\u001b[0;34m(\u001b[0m\u001b[0mnew_data\u001b[0m\u001b[0;34m)\u001b[0m\u001b[0;34m.\u001b[0m\u001b[0m__finalize__\u001b[0m\u001b[0;34m(\u001b[0m\u001b[0mself\u001b[0m\u001b[0;34m)\u001b[0m\u001b[0;34m\u001b[0m\u001b[0;34m\u001b[0m\u001b[0m\n\u001b[1;32m   5003\u001b[0m \u001b[0;34m\u001b[0m\u001b[0m\n",
      "\u001b[0;32m/opt/tljh/user/lib/python3.6/site-packages/pandas/core/internals.py\u001b[0m in \u001b[0;36mastype\u001b[0;34m(self, dtype, **kwargs)\u001b[0m\n\u001b[1;32m   3712\u001b[0m \u001b[0;34m\u001b[0m\u001b[0m\n\u001b[1;32m   3713\u001b[0m     \u001b[0;32mdef\u001b[0m \u001b[0mastype\u001b[0m\u001b[0;34m(\u001b[0m\u001b[0mself\u001b[0m\u001b[0;34m,\u001b[0m \u001b[0mdtype\u001b[0m\u001b[0;34m,\u001b[0m \u001b[0;34m**\u001b[0m\u001b[0mkwargs\u001b[0m\u001b[0;34m)\u001b[0m\u001b[0;34m:\u001b[0m\u001b[0;34m\u001b[0m\u001b[0;34m\u001b[0m\u001b[0m\n\u001b[0;32m-> 3714\u001b[0;31m         \u001b[0;32mreturn\u001b[0m \u001b[0mself\u001b[0m\u001b[0;34m.\u001b[0m\u001b[0mapply\u001b[0m\u001b[0;34m(\u001b[0m\u001b[0;34m'astype'\u001b[0m\u001b[0;34m,\u001b[0m \u001b[0mdtype\u001b[0m\u001b[0;34m=\u001b[0m\u001b[0mdtype\u001b[0m\u001b[0;34m,\u001b[0m \u001b[0;34m**\u001b[0m\u001b[0mkwargs\u001b[0m\u001b[0;34m)\u001b[0m\u001b[0;34m\u001b[0m\u001b[0;34m\u001b[0m\u001b[0m\n\u001b[0m\u001b[1;32m   3715\u001b[0m \u001b[0;34m\u001b[0m\u001b[0m\n\u001b[1;32m   3716\u001b[0m     \u001b[0;32mdef\u001b[0m \u001b[0mconvert\u001b[0m\u001b[0;34m(\u001b[0m\u001b[0mself\u001b[0m\u001b[0;34m,\u001b[0m \u001b[0;34m**\u001b[0m\u001b[0mkwargs\u001b[0m\u001b[0;34m)\u001b[0m\u001b[0;34m:\u001b[0m\u001b[0;34m\u001b[0m\u001b[0;34m\u001b[0m\u001b[0m\n",
      "\u001b[0;32m/opt/tljh/user/lib/python3.6/site-packages/pandas/core/internals.py\u001b[0m in \u001b[0;36mapply\u001b[0;34m(self, f, axes, filter, do_integrity_check, consolidate, **kwargs)\u001b[0m\n\u001b[1;32m   3579\u001b[0m \u001b[0;34m\u001b[0m\u001b[0m\n\u001b[1;32m   3580\u001b[0m             \u001b[0mkwargs\u001b[0m\u001b[0;34m[\u001b[0m\u001b[0;34m'mgr'\u001b[0m\u001b[0;34m]\u001b[0m \u001b[0;34m=\u001b[0m \u001b[0mself\u001b[0m\u001b[0;34m\u001b[0m\u001b[0;34m\u001b[0m\u001b[0m\n\u001b[0;32m-> 3581\u001b[0;31m             \u001b[0mapplied\u001b[0m \u001b[0;34m=\u001b[0m \u001b[0mgetattr\u001b[0m\u001b[0;34m(\u001b[0m\u001b[0mb\u001b[0m\u001b[0;34m,\u001b[0m \u001b[0mf\u001b[0m\u001b[0;34m)\u001b[0m\u001b[0;34m(\u001b[0m\u001b[0;34m**\u001b[0m\u001b[0mkwargs\u001b[0m\u001b[0;34m)\u001b[0m\u001b[0;34m\u001b[0m\u001b[0;34m\u001b[0m\u001b[0m\n\u001b[0m\u001b[1;32m   3582\u001b[0m             \u001b[0mresult_blocks\u001b[0m \u001b[0;34m=\u001b[0m \u001b[0m_extend_blocks\u001b[0m\u001b[0;34m(\u001b[0m\u001b[0mapplied\u001b[0m\u001b[0;34m,\u001b[0m \u001b[0mresult_blocks\u001b[0m\u001b[0;34m)\u001b[0m\u001b[0;34m\u001b[0m\u001b[0;34m\u001b[0m\u001b[0m\n\u001b[1;32m   3583\u001b[0m \u001b[0;34m\u001b[0m\u001b[0m\n",
      "\u001b[0;32m/opt/tljh/user/lib/python3.6/site-packages/pandas/core/internals.py\u001b[0m in \u001b[0;36mastype\u001b[0;34m(self, dtype, copy, errors, values, **kwargs)\u001b[0m\n\u001b[1;32m    573\u001b[0m     \u001b[0;32mdef\u001b[0m \u001b[0mastype\u001b[0m\u001b[0;34m(\u001b[0m\u001b[0mself\u001b[0m\u001b[0;34m,\u001b[0m \u001b[0mdtype\u001b[0m\u001b[0;34m,\u001b[0m \u001b[0mcopy\u001b[0m\u001b[0;34m=\u001b[0m\u001b[0;32mFalse\u001b[0m\u001b[0;34m,\u001b[0m \u001b[0merrors\u001b[0m\u001b[0;34m=\u001b[0m\u001b[0;34m'raise'\u001b[0m\u001b[0;34m,\u001b[0m \u001b[0mvalues\u001b[0m\u001b[0;34m=\u001b[0m\u001b[0;32mNone\u001b[0m\u001b[0;34m,\u001b[0m \u001b[0;34m**\u001b[0m\u001b[0mkwargs\u001b[0m\u001b[0;34m)\u001b[0m\u001b[0;34m:\u001b[0m\u001b[0;34m\u001b[0m\u001b[0;34m\u001b[0m\u001b[0m\n\u001b[1;32m    574\u001b[0m         return self._astype(dtype, copy=copy, errors=errors, values=values,\n\u001b[0;32m--> 575\u001b[0;31m                             **kwargs)\n\u001b[0m\u001b[1;32m    576\u001b[0m \u001b[0;34m\u001b[0m\u001b[0m\n\u001b[1;32m    577\u001b[0m     def _astype(self, dtype, copy=False, errors='raise', values=None,\n",
      "\u001b[0;32m/opt/tljh/user/lib/python3.6/site-packages/pandas/core/internals.py\u001b[0m in \u001b[0;36m_astype\u001b[0;34m(self, dtype, copy, errors, values, klass, mgr, **kwargs)\u001b[0m\n\u001b[1;32m    662\u001b[0m \u001b[0;34m\u001b[0m\u001b[0m\n\u001b[1;32m    663\u001b[0m                 \u001b[0;31m# _astype_nansafe works fine with 1-d only\u001b[0m\u001b[0;34m\u001b[0m\u001b[0;34m\u001b[0m\u001b[0;34m\u001b[0m\u001b[0m\n\u001b[0;32m--> 664\u001b[0;31m                 \u001b[0mvalues\u001b[0m \u001b[0;34m=\u001b[0m \u001b[0mastype_nansafe\u001b[0m\u001b[0;34m(\u001b[0m\u001b[0mvalues\u001b[0m\u001b[0;34m.\u001b[0m\u001b[0mravel\u001b[0m\u001b[0;34m(\u001b[0m\u001b[0;34m)\u001b[0m\u001b[0;34m,\u001b[0m \u001b[0mdtype\u001b[0m\u001b[0;34m,\u001b[0m \u001b[0mcopy\u001b[0m\u001b[0;34m=\u001b[0m\u001b[0;32mTrue\u001b[0m\u001b[0;34m)\u001b[0m\u001b[0;34m\u001b[0m\u001b[0;34m\u001b[0m\u001b[0m\n\u001b[0m\u001b[1;32m    665\u001b[0m                 \u001b[0mvalues\u001b[0m \u001b[0;34m=\u001b[0m \u001b[0mvalues\u001b[0m\u001b[0;34m.\u001b[0m\u001b[0mreshape\u001b[0m\u001b[0;34m(\u001b[0m\u001b[0mself\u001b[0m\u001b[0;34m.\u001b[0m\u001b[0mshape\u001b[0m\u001b[0;34m)\u001b[0m\u001b[0;34m\u001b[0m\u001b[0;34m\u001b[0m\u001b[0m\n\u001b[1;32m    666\u001b[0m \u001b[0;34m\u001b[0m\u001b[0m\n",
      "\u001b[0;32m/opt/tljh/user/lib/python3.6/site-packages/pandas/core/dtypes/cast.py\u001b[0m in \u001b[0;36mastype_nansafe\u001b[0;34m(arr, dtype, copy)\u001b[0m\n\u001b[1;32m    728\u001b[0m \u001b[0;34m\u001b[0m\u001b[0m\n\u001b[1;32m    729\u001b[0m     \u001b[0;32mif\u001b[0m \u001b[0mcopy\u001b[0m\u001b[0;34m:\u001b[0m\u001b[0;34m\u001b[0m\u001b[0;34m\u001b[0m\u001b[0m\n\u001b[0;32m--> 730\u001b[0;31m         \u001b[0;32mreturn\u001b[0m \u001b[0marr\u001b[0m\u001b[0;34m.\u001b[0m\u001b[0mastype\u001b[0m\u001b[0;34m(\u001b[0m\u001b[0mdtype\u001b[0m\u001b[0;34m,\u001b[0m \u001b[0mcopy\u001b[0m\u001b[0;34m=\u001b[0m\u001b[0;32mTrue\u001b[0m\u001b[0;34m)\u001b[0m\u001b[0;34m\u001b[0m\u001b[0;34m\u001b[0m\u001b[0m\n\u001b[0m\u001b[1;32m    731\u001b[0m     \u001b[0;32mreturn\u001b[0m \u001b[0marr\u001b[0m\u001b[0;34m.\u001b[0m\u001b[0mview\u001b[0m\u001b[0;34m(\u001b[0m\u001b[0mdtype\u001b[0m\u001b[0;34m)\u001b[0m\u001b[0;34m\u001b[0m\u001b[0;34m\u001b[0m\u001b[0m\n\u001b[1;32m    732\u001b[0m \u001b[0;34m\u001b[0m\u001b[0m\n",
      "\u001b[0;31mValueError\u001b[0m: could not convert string to float: 'NAME'"
     ]
    }
   ],
   "source": [
    "#convert columns to numeric\n",
    "\n",
    "df = df.astype('float32')"
   ]
  },
  {
   "cell_type": "code",
   "execution_count": 6,
   "metadata": {},
   "outputs": [
    {
     "ename": "SyntaxError",
     "evalue": "invalid syntax (<ipython-input-6-35c5f0dc996b>, line 4)",
     "output_type": "error",
     "traceback": [
      "\u001b[0;36m  File \u001b[0;32m\"<ipython-input-6-35c5f0dc996b>\"\u001b[0;36m, line \u001b[0;32m4\u001b[0m\n\u001b[0;31m    for col in cols:\u001b[0m\n\u001b[0m                   ^\u001b[0m\n\u001b[0;31mSyntaxError\u001b[0m\u001b[0;31m:\u001b[0m invalid syntax\n"
     ]
    }
   ],
   "source": [
    "# All columns should be numeric except NAME. Converting to numeric and NAME to a string\n",
    "\n",
    "cols=[i for i in df.columns if i not in [\"NAME\"]\n",
    "for col in cols:\n",
    "    df[col]=pd.to_numeric(df[col])"
   ]
  },
  {
   "cell_type": "code",
   "execution_count": null,
   "metadata": {},
   "outputs": [],
   "source": [
    "#split my data\n",
    "df = df.astype('float32')\n",
    "#X = df.drop(columns = 'Y')\n",
    "#y = df['Y']\n",
    "\n",
    "df.info()"
   ]
  },
  {
   "cell_type": "markdown",
   "metadata": {},
   "source": [
    "All of these columns should be columns should be numeric, so let's convert it all to numeric"
   ]
  },
  {
   "cell_type": "code",
   "execution_count": null,
   "metadata": {},
   "outputs": [],
   "source": [
    "df = df(NAME).astype('str')\n",
    "#df = df.astype('float32')\n",
    "#df = pd.DataFrame(NAME, dtype='str')\n",
    "#df = pd.DataFrame(X, dtype='float32')\n",
    "\n",
    "df.info()\n"
   ]
  },
  {
   "cell_type": "code",
   "execution_count": null,
   "metadata": {},
   "outputs": [],
   "source": [
    "df.info()"
   ]
  },
  {
   "cell_type": "markdown",
   "metadata": {},
   "source": [
    "## Let's look at the target variable."
   ]
  },
  {
   "cell_type": "code",
   "execution_count": null,
   "metadata": {},
   "outputs": [],
   "source": [
    "df.Y.value_counts().plot(kind='bar')"
   ]
  },
  {
   "cell_type": "markdown",
   "metadata": {},
   "source": [
    "There is some inbalance here, so we need to note to do some sort of imbalance handling later in the pipeline.\n",
    "\n",
    "Now let's look at some univariate plots to get a sense of what our features look like."
   ]
  },
  {
   "cell_type": "code",
   "execution_count": null,
   "metadata": {},
   "outputs": [],
   "source": [
    "df.columns"
   ]
  },
  {
   "cell_type": "code",
   "execution_count": null,
   "metadata": {},
   "outputs": [],
   "source": [
    "#create histograms for each variable\n",
    "#we'll group some of the columns together to make plotting easier\n",
    "\n",
    "df_group1 = df.iloc[:, 0:5]\n",
    "df_group1.plot(kind='density', subplots=True, layout=(3,2), sharex=False)\n",
    "plt.show()\n",
    "\n",
    "\n",
    "#df.hist()\n",
    "#plt.show()"
   ]
  },
  {
   "cell_type": "markdown",
   "metadata": {},
   "source": [
    "Some notes: LIMIT_BAL and AGE are approaching a gaussian shape, but both are somewhat rightly skewed. Both sex and Marriage are bimodal (obviously), and Education is trimodal, with the three most common values of 1, 2, 3, and a tiny amount of 4, and 5. Besides LIMIT_BAL, nothing particular about these features. \n",
    "\n",
    "Next, we'll look at the Payment history. Since the values in these features are categorical in nature, we'll use bar plots.\n"
   ]
  },
  {
   "cell_type": "code",
   "execution_count": null,
   "metadata": {},
   "outputs": [],
   "source": [
    "#create group\n",
    "df_pay_hist = df.iloc[:,5:11]\n",
    "\n",
    "fig, ax = plt.subplots(figsize = (10,8), sharex=True)\n",
    "\n",
    "\n",
    "plt.subplot(3,2,1)\n",
    "df['PAY_0'].value_counts().plot(kind='bar')\n",
    "\n",
    "plt.subplot(3,2,2)\n",
    "df['PAY_2'].value_counts().plot(kind='bar')\n",
    "\n",
    "plt.subplot(3,2,3)\n",
    "df['PAY_3'].value_counts().plot(kind='bar')\n",
    "\n",
    "plt.subplot(3,2,4)\n",
    "df['PAY_4'].value_counts().plot(kind='bar')\n",
    "\n",
    "plt.subplot(3,2,5)\n",
    "df['PAY_5'].value_counts().plot(kind='bar')\n",
    "\n",
    "plt.subplot(3,2,6)\n",
    "df['PAY_6'].value_counts().plot(kind='bar')\n",
    "\n",
    "\n",
    "\n"
   ]
  },
  {
   "cell_type": "markdown",
   "metadata": {},
   "source": [
    "Some notes: all the plots are pretty much the same. Values of 0 are the most common by a large amount, i.e. another instance of some class inbalance. Will have to handle as well. \n",
    "\n",
    "Next, look at the Bill amounts."
   ]
  },
  {
   "cell_type": "code",
   "execution_count": null,
   "metadata": {},
   "outputs": [],
   "source": [
    "df['BILL_AMT1'].plot(kind='hist', )"
   ]
  },
  {
   "cell_type": "code",
   "execution_count": null,
   "metadata": {},
   "outputs": [],
   "source": [
    "#create group\n",
    "ax, fig = plt.subplots(figsize = (10,8))\n",
    "bill_amts = df.iloc[:, 11:17]\n",
    "\n",
    "plt.subplot(3,2,1)\n",
    "bill_amts['BILL_AMT1'].hist(bins=25)\n",
    "\n",
    "plt.subplot(3,2,2)\n",
    "bill_amts['BILL_AMT2'].hist(bins=25)\n",
    "\n",
    "plt.subplot(3,2,3)\n",
    "bill_amts['BILL_AMT3'].hist(bins=25)\n",
    "\n",
    "plt.subplot(3,2,4)\n",
    "bill_amts['BILL_AMT4'].hist(bins=25)\n",
    "\n",
    "plt.subplot(3,2,5)\n",
    "bill_amts['BILL_AMT5'].hist(bins=25)\n",
    "\n",
    "plt.subplot(3,2,6)\n",
    "bill_amts['BILL_AMT6'].hist(bins=25)\n",
    "\n",
    "\n"
   ]
  },
  {
   "cell_type": "code",
   "execution_count": null,
   "metadata": {},
   "outputs": [],
   "source": [
    "# ds1 = pd.Series([PAY_AMT1, PAY_AMT2, PAY_AMT3, PAY_AMT4, PAY_AMT5, PAY_AMT6])\n",
    "# ds2 = pd.Series([BILL_AMT1, BILL_AMT2, BILL_AMT3, BILL_AMT4, BILL_AMT5, BILL_AMT6])\n",
    "# Outstanding_Bal = ds2 - ds1\n",
    "\n",
    "# print(Outstanding_Bal)"
   ]
  },
  {
   "cell_type": "code",
   "execution_count": null,
   "metadata": {},
   "outputs": [],
   "source": [
    "# Load libraries\n",
    "\n",
    "from sklearn.tree import DecisionTreeClassifier # Import Decision Tree Classifier\n",
    "from sklearn.model_selection import train_test_split # Import train_test_split function\n",
    "from sklearn import metrics #Import scikit-learn metrics module for accuracy calculation"
   ]
  },
  {
   "cell_type": "code",
   "execution_count": null,
   "metadata": {},
   "outputs": [],
   "source": [
    "# divided columns into two types of variables - target variable (y) and feature variables (X).\n",
    "X = df.drop(columns=\"Y\")\n",
    "y = df.Y"
   ]
  },
  {
   "cell_type": "code",
   "execution_count": null,
   "metadata": {},
   "outputs": [],
   "source": [
    "X"
   ]
  },
  {
   "cell_type": "code",
   "execution_count": null,
   "metadata": {},
   "outputs": [],
   "source": [
    "# Split dataset into training set and test set\n",
    "# 70% training and 30% test\n",
    "\n",
    "X_train, X_test, y_train, y_test = train_test_split(X, y, test_size=0.3, random_state=2019) \n"
   ]
  },
  {
   "cell_type": "markdown",
   "metadata": {},
   "source": [
    "### Building Decision Tree Model\n",
    "Let's create a Decision Tree Model using `DecisionTreeClassifier` provided in `Scikit-learn`."
   ]
  },
  {
   "cell_type": "code",
   "execution_count": null,
   "metadata": {},
   "outputs": [],
   "source": [
    "# Create Decision Tree classifer object\n",
    "clf = DecisionTreeClassifier()\n",
    "\n",
    "# Train Decision Tree Classifer\n",
    "clf = clf.fit(X_train,y_train)\n",
    "\n",
    "#Predict the response for test dataset\n",
    "y_pred = clf.predict(X_test)"
   ]
  },
  {
   "cell_type": "markdown",
   "metadata": {},
   "source": [
    "### Evaluating Model\n",
    "Estimate, how accurately the classifier or model can predict the type of cultivars.\n",
    "\n",
    "Accuracy can be computed by comparing actual test set values (y_test) and predicted values (y_pred)."
   ]
  },
  {
   "cell_type": "code",
   "execution_count": null,
   "metadata": {},
   "outputs": [],
   "source": [
    "# Model Accuracy, how often is the classifier correct?\n",
    "print(\"Accuracy:\",metrics.accuracy_score(y_test, y_pred))"
   ]
  },
  {
   "cell_type": "code",
   "execution_count": null,
   "metadata": {},
   "outputs": [],
   "source": [
    "# created new column OUTSTANDING_BAL for each month\n",
    "\n",
    "df[\"OUTSTANDING_BAL1\"] = (df.BILL_AMT1 - df.PAY_AMT1)\n",
    "df[\"OUTSTANDING_BAL2\"] = (df.BILL_AMT2 - df.PAY_AMT2)\n",
    "df[\"OUTSTANDING_BAL3\"] = (df.BILL_AMT3 - df.PAY_AMT3)\n",
    "df[\"OUTSTANDING_BAL4\"] = (df.BILL_AMT4 - df.PAY_AMT4)\n",
    "df[\"OUTSTANDING_BAL5\"] = (df.BILL_AMT5 - df.PAY_AMT5)\n",
    "df[\"OUTSTANDING_BAL6\"] = (df.BILL_AMT6 - df.PAY_AMT6)\n",
    "\n",
    "df.head(5)"
   ]
  },
  {
   "cell_type": "code",
   "execution_count": null,
   "metadata": {},
   "outputs": [],
   "source": [
    "# created new column %_LIMIT_BAL for each month\n",
    "\n",
    "df[\"%_LIMIT_BAL1\"] = (df.OUTSTANDING_BAL1 / df.LIMIT_BAL)\n",
    "df[\"%_LIMIT_BAL2\"] = (df.OUTSTANDING_BAL2 / df.LIMIT_BAL)\n",
    "df[\"%_LIMIT_BAL3\"] = (df.OUTSTANDING_BAL3 / df.LIMIT_BAL)\n",
    "df[\"%_LIMIT_BAL4\"] = (df.OUTSTANDING_BAL4 / df.LIMIT_BAL)\n",
    "df[\"%_LIMIT_BAL5\"] = (df.OUTSTANDING_BAL5 / df.LIMIT_BAL)\n",
    "df[\"%_LIMIT_BAL6\"] = (df.OUTSTANDING_BAL6 / df.LIMIT_BAL)\n",
    "\n",
    "\n",
    "df.head(5)"
   ]
  },
  {
   "cell_type": "code",
   "execution_count": null,
   "metadata": {},
   "outputs": [],
   "source": [
    "df.info()"
   ]
  },
  {
   "cell_type": "code",
   "execution_count": null,
   "metadata": {},
   "outputs": [],
   "source": [
    "from sklearn.tree import export_graphviz\n",
    "from sklearn.externals.six import StringIO  \n",
    "from IPython.display import Image  \n",
    "import pydotplus\n",
    "\n",
    "dot_data = StringIO()\n",
    "export_graphviz(clf, out_file=dot_data,  \n",
    "                filled=True, rounded=True,\n",
    "                special_characters=True,feature_names = X.columns, class_names=['0','1']) \n",
    "graph = pydotplus.graph_from_dot_data(dot_data.getvalue())  \n",
    "graph.write_png('credit_card.png')\n",
    "Image(graph.create_png())"
   ]
  },
  {
   "cell_type": "code",
   "execution_count": null,
   "metadata": {},
   "outputs": [],
   "source": [
    "# divided columns into two types of variables - target variable (y) and feature variables (X).\n",
    "X = df.drop(columns=[\"BILL_AMT1\", \"BILL_AMT2\", \"BILL_AMT3\", \"BILL_AMT4\", \"BILL_AMT5\", \"BILL_AMT6\", \"PAY_AMT1\", \"PAY_AMT2\",\"PAY_AMT3\",\"PAY_AMT4\",\"PAY_AMT5\",\"PAY_AMT6\", \"Y\"])\n",
    "y = df.Y"
   ]
  },
  {
   "cell_type": "code",
   "execution_count": null,
   "metadata": {},
   "outputs": [],
   "source": [
    "X.columns"
   ]
  },
  {
   "cell_type": "code",
   "execution_count": null,
   "metadata": {},
   "outputs": [],
   "source": [
    "# Split dataset into training set and test set\n",
    "# 70% training and 30% test\n",
    "\n",
    "X_train, X_test, y_train, y_test = train_test_split(X, y, test_size=0.3, random_state=2019) \n"
   ]
  },
  {
   "cell_type": "markdown",
   "metadata": {},
   "source": [
    "### Building Decision Tree Model\n",
    "Let's create a Decision Tree Model using `DecisionTreeClassifier` provided in `Scikit-learn`."
   ]
  },
  {
   "cell_type": "code",
   "execution_count": null,
   "metadata": {},
   "outputs": [],
   "source": [
    "# Create Decision Tree classifer object\n",
    "clf = DecisionTreeClassifier()\n",
    "\n",
    "# Train Decision Tree Classifer\n",
    "clf = clf.fit(X_train,y_train)\n",
    "\n",
    "#Predict the response for test dataset\n",
    "y_pred = clf.predict(X_test)"
   ]
  },
  {
   "cell_type": "markdown",
   "metadata": {},
   "source": [
    "### Evaluating Model\n",
    "Estimate, how accurately the classifier or model can predict the type of cultivars.\n",
    "\n",
    "Accuracy can be computed by comparing actual test set values (y_test) and predicted values (y_pred)."
   ]
  },
  {
   "cell_type": "code",
   "execution_count": null,
   "metadata": {},
   "outputs": [],
   "source": [
    "# Model Accuracy, how often is the classifier correct?\n",
    "print(\"Accuracy:\",metrics.accuracy_score(y_test, y_pred))"
   ]
  },
  {
   "cell_type": "code",
   "execution_count": null,
   "metadata": {},
   "outputs": [],
   "source": []
  },
  {
   "cell_type": "code",
   "execution_count": null,
   "metadata": {},
   "outputs": [],
   "source": [
    "# divided columns into two types of variables - target variable (y) and feature variables (X).\n",
    "X = df.drop(columns=['PAY_0', 'PAY_2',\n",
    "       'PAY_3', 'PAY_4', 'PAY_5', 'PAY_6', 'OUTSTANDING_BAL1',\n",
    "       'OUTSTANDING_BAL2', 'OUTSTANDING_BAL3', 'OUTSTANDING_BAL4',\n",
    "       'OUTSTANDING_BAL5', 'OUTSTANDING_BAL6', \"BILL_AMT1\", \"BILL_AMT2\", \"BILL_AMT3\", \"BILL_AMT4\", \"BILL_AMT5\", \"BILL_AMT6\", \"PAY_AMT1\", \"PAY_AMT2\",\"PAY_AMT3\",\"PAY_AMT4\",\"PAY_AMT5\",\"PAY_AMT6\", \"Y\"])\n",
    "y = df.Y"
   ]
  },
  {
   "cell_type": "code",
   "execution_count": null,
   "metadata": {},
   "outputs": [],
   "source": [
    "X.columns"
   ]
  },
  {
   "cell_type": "code",
   "execution_count": null,
   "metadata": {},
   "outputs": [],
   "source": [
    "# Split dataset into training set and test set\n",
    "# 70% training and 30% test\n",
    "\n",
    "X_train, X_test, y_train, y_test = train_test_split(X, y, test_size=0.3, random_state=2019) \n"
   ]
  },
  {
   "cell_type": "markdown",
   "metadata": {},
   "source": [
    "### Building Decision Tree Model\n",
    "Let's create a Decision Tree Model using `DecisionTreeClassifier` provided in `Scikit-learn`."
   ]
  },
  {
   "cell_type": "code",
   "execution_count": null,
   "metadata": {},
   "outputs": [],
   "source": [
    "# Create Decision Tree classifer object\n",
    "clf = DecisionTreeClassifier()\n",
    "\n",
    "# Train Decision Tree Classifer\n",
    "clf = clf.fit(X_train,y_train)\n",
    "\n",
    "#Predict the response for test dataset\n",
    "y_pred = clf.predict(X_test)"
   ]
  },
  {
   "cell_type": "markdown",
   "metadata": {},
   "source": [
    "### Evaluating Model\n",
    "Estimate, how accurately the classifier or model can predict the type of cultivars.\n",
    "\n",
    "Accuracy can be computed by comparing actual test set values (y_test) and predicted values (y_pred)."
   ]
  },
  {
   "cell_type": "code",
   "execution_count": null,
   "metadata": {},
   "outputs": [],
   "source": [
    "# Model Accuracy, how often is the classifier correct?\n",
    "print(\"Accuracy:\",metrics.accuracy_score(y_test, y_pred))"
   ]
  },
  {
   "cell_type": "markdown",
   "metadata": {},
   "source": [
    "## Results\n",
    "Creating calculated columns for Increasing outstanding balance per month column and Outstanding Bal had no meaningful effect and removing the repayment status, outstanding balance, bill amount lowered the accuracy by about a half percent\n"
   ]
  },
  {
   "cell_type": "code",
   "execution_count": null,
   "metadata": {},
   "outputs": [],
   "source": []
  }
 ],
 "metadata": {
  "kernelspec": {
   "display_name": "Python 3",
   "language": "python",
   "name": "python3"
  },
  "language_info": {
   "codemirror_mode": {
    "name": "ipython",
    "version": 3
   },
   "file_extension": ".py",
   "mimetype": "text/x-python",
   "name": "python",
   "nbconvert_exporter": "python",
   "pygments_lexer": "ipython3",
   "version": "3.6.7"
  }
 },
 "nbformat": 4,
 "nbformat_minor": 2
}
