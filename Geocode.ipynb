{
 "cells": [
  {
   "cell_type": "code",
   "execution_count": 1,
   "metadata": {},
   "outputs": [],
   "source": [
    "# import census geocoder (ref: https://pypi.org/project/censusgeocode/)\n",
    "# convert JSON dictionaries to dataframes\n",
    "\n",
    "import censusgeocode as cg\n",
    "import pandas as pd\n",
    "from pandas.io.json import json_normalize\n"
   ]
  },
  {
   "cell_type": "code",
   "execution_count": 10,
   "metadata": {},
   "outputs": [
    {
     "data": {
      "text/plain": [
       "[{'matchedAddress': '480 BARNUM AVE, BRIDGEPORT, CT, 06608',\n",
       "  'coordinates': {'x': -73.180664, 'y': 41.187107},\n",
       "  'tigerLine': {'tigerLineId': '3225241', 'side': 'R'},\n",
       "  'addressComponents': {'fromAddress': '480',\n",
       "   'toAddress': '498',\n",
       "   'preQualifier': '',\n",
       "   'preDirection': '',\n",
       "   'preType': '',\n",
       "   'streetName': 'BARNUM',\n",
       "   'suffixType': 'AVE',\n",
       "   'suffixDirection': '',\n",
       "   'suffixQualifier': '',\n",
       "   'city': 'BRIDGEPORT',\n",
       "   'state': 'CT',\n",
       "   'zip': '06608'},\n",
       "  'geographies': {'2010 Census Blocks': [{'SUFFIX': '',\n",
       "     'GEOID': '090010738003010',\n",
       "     'CENTLAT': '+41.1865361',\n",
       "     'BLOCK': '3010',\n",
       "     'AREAWATER': 0,\n",
       "     'STATE': '09',\n",
       "     'BASENAME': '3010',\n",
       "     'OID': 210404121572792,\n",
       "     'LSADC': 'BK',\n",
       "     'FUNCSTAT': 'S',\n",
       "     'INTPTLAT': '+41.1865361',\n",
       "     'STGEOMETRY.AREA': 47055.07,\n",
       "     'STGEOMETRY.LEN': 927.7959,\n",
       "     'NAME': 'Block 3010',\n",
       "     'OBJECTID': 5985053,\n",
       "     'TRACT': '073800',\n",
       "     'CENTLON': '-073.1795010',\n",
       "     'BLKGRP': '3',\n",
       "     'AREALAND': 26626,\n",
       "     'INTPTLON': '-073.1795010',\n",
       "     'MTFCC': 'G5040',\n",
       "     'LWBLKTYP': 'L',\n",
       "     'COUNTY': '001'}],\n",
       "   'States': [{'STATENS': '01779780',\n",
       "     'GEOID': '09',\n",
       "     'CENTLAT': '+41.5751437',\n",
       "     'AREAWATER': 1815626084,\n",
       "     'BASENAME': 'Connecticut',\n",
       "     'STATE': '09',\n",
       "     'STUSAB': 'CT',\n",
       "     'OID': 27490331955805,\n",
       "     'LSADC': '00',\n",
       "     'FUNCSTAT': 'A',\n",
       "     'INTPTLAT': '+41.5798637',\n",
       "     'DIVISION': '1',\n",
       "     'STGEOMETRY.AREA': 25678229500.0,\n",
       "     'STGEOMETRY.LEN': 707396.7,\n",
       "     'NAME': 'Connecticut',\n",
       "     'REGION': '1',\n",
       "     'OBJECTID': 11,\n",
       "     'CENTLON': '-072.7393081',\n",
       "     'AREALAND': 12542488577,\n",
       "     'INTPTLON': '-072.7466572',\n",
       "     'MTFCC': 'G4000'}],\n",
       "   'Counties': [{'GEOID': '09001',\n",
       "     'CENTLAT': '+41.2247152',\n",
       "     'AREAWATER': 549299062,\n",
       "     'BASENAME': 'Fairfield',\n",
       "     'STATE': '09',\n",
       "     'OID': 27590697754523,\n",
       "     'LSADC': '06',\n",
       "     'FUNCSTAT': 'N',\n",
       "     'INTPTLAT': '+41.2274128',\n",
       "     'STGEOMETRY.AREA': 3835824640.0,\n",
       "     'STGEOMETRY.LEN': 336208.22,\n",
       "     'NAME': 'Fairfield County',\n",
       "     'OBJECTID': 2049,\n",
       "     'CENTLON': '-073.3712486',\n",
       "     'COUNTYCC': 'H4',\n",
       "     'COUNTYNS': '00212794',\n",
       "     'AREALAND': 1618645892,\n",
       "     'INTPTLON': '-073.3670614',\n",
       "     'MTFCC': 'G4020',\n",
       "     'COUNTY': '001'}],\n",
       "   'Census Tracts': [{'GEOID': '09001073800',\n",
       "     'CENTLAT': '+41.1889713',\n",
       "     'AREAWATER': 5532,\n",
       "     'BASENAME': '738',\n",
       "     'STATE': '09',\n",
       "     'OID': 20790698077826,\n",
       "     'LSADC': 'CT',\n",
       "     'FUNCSTAT': 'S',\n",
       "     'INTPTLAT': '+41.1885441',\n",
       "     'STGEOMETRY.AREA': 942926.4,\n",
       "     'STGEOMETRY.LEN': 4532.778,\n",
       "     'NAME': 'Census Tract 738',\n",
       "     'OBJECTID': 13773,\n",
       "     'TRACT': '073800',\n",
       "     'CENTLON': '-073.1757235',\n",
       "     'AREALAND': 527984,\n",
       "     'INTPTLON': '-073.1762129',\n",
       "     'MTFCC': 'G5020',\n",
       "     'COUNTY': '001'}]}}]"
      ]
     },
     "execution_count": 10,
     "metadata": {},
     "output_type": "execute_result"
    }
   ],
   "source": [
    "# returntype keyword use 'locations' or 'geographies'. \n",
    "#'Locations' yields structured information about the address, and 'geographies' yields information about the Census geographies\n",
    "\n",
    "cg.address('480 Barnum Ave', city ='Bridgeport', state='CT', zipcode='06608', returntype='geographies')\n",
    "\n"
   ]
  },
  {
   "cell_type": "code",
   "execution_count": 2,
   "metadata": {},
   "outputs": [
    {
     "ename": "SyntaxError",
     "evalue": "invalid syntax (<ipython-input-2-b3e9a8f0a7b1>, line 4)",
     "output_type": "error",
     "traceback": [
      "\u001b[0;36m  File \u001b[0;32m\"<ipython-input-2-b3e9a8f0a7b1>\"\u001b[0;36m, line \u001b[0;32m4\u001b[0m\n\u001b[0;31m    cg.address(city =, state='CT', zipcode='06608', returntype='Locations')\u001b[0m\n\u001b[0m                     ^\u001b[0m\n\u001b[0;31mSyntaxError\u001b[0m\u001b[0;31m:\u001b[0m invalid syntax\n"
     ]
    }
   ],
   "source": [
    "# returntype keyword use 'locations' or 'geographies'. \n",
    "#'Locations' yields structured information about the address, and 'geographies' yields information about the Census geographies\n",
    "\n",
    "cg.address(city =, state='CT', zipcode='06608', returntype='Locations')"
   ]
  },
  {
   "cell_type": "code",
   "execution_count": 13,
   "metadata": {},
   "outputs": [],
   "source": [
    "# define function for geo lookup\n",
    "\n",
    "#def geo (Id = '0100000US', state= None, Counties = None, zipcode=None, returntype= 'geographies'):"
   ]
  },
  {
   "cell_type": "code",
   "execution_count": 14,
   "metadata": {},
   "outputs": [
    {
     "ename": "ValueError",
     "evalue": "DataFrame constructor not properly called!",
     "output_type": "error",
     "traceback": [
      "\u001b[0;31m---------------------------------------------------------------------------\u001b[0m",
      "\u001b[0;31mValueError\u001b[0m                                Traceback (most recent call last)",
      "\u001b[0;32m<ipython-input-14-358dbcad17c6>\u001b[0m in \u001b[0;36m<module>\u001b[0;34m()\u001b[0m\n\u001b[1;32m      1\u001b[0m \u001b[0;34m\u001b[0m\u001b[0m\n\u001b[1;32m      2\u001b[0m \u001b[0;34m\u001b[0m\u001b[0m\n\u001b[0;32m----> 3\u001b[0;31m \u001b[0mgeo\u001b[0m \u001b[0;34m=\u001b[0m \u001b[0mpd\u001b[0m\u001b[0;34m.\u001b[0m\u001b[0mDataFrame\u001b[0m\u001b[0;34m(\u001b[0m\u001b[0mcg\u001b[0m\u001b[0;34m.\u001b[0m\u001b[0maddress\u001b[0m\u001b[0;34m)\u001b[0m\u001b[0;34m\u001b[0m\u001b[0m\n\u001b[0m\u001b[1;32m      4\u001b[0m \u001b[0;34m\u001b[0m\u001b[0m\n",
      "\u001b[0;32m/opt/tljh/user/lib/python3.6/site-packages/pandas/core/frame.py\u001b[0m in \u001b[0;36m__init__\u001b[0;34m(self, data, index, columns, dtype, copy)\u001b[0m\n\u001b[1;32m    420\u001b[0m                                          dtype=values.dtype, copy=False)\n\u001b[1;32m    421\u001b[0m             \u001b[0;32melse\u001b[0m\u001b[0;34m:\u001b[0m\u001b[0;34m\u001b[0m\u001b[0m\n\u001b[0;32m--> 422\u001b[0;31m                 \u001b[0;32mraise\u001b[0m \u001b[0mValueError\u001b[0m\u001b[0;34m(\u001b[0m\u001b[0;34m'DataFrame constructor not properly called!'\u001b[0m\u001b[0;34m)\u001b[0m\u001b[0;34m\u001b[0m\u001b[0m\n\u001b[0m\u001b[1;32m    423\u001b[0m \u001b[0;34m\u001b[0m\u001b[0m\n\u001b[1;32m    424\u001b[0m         \u001b[0mNDFrame\u001b[0m\u001b[0;34m.\u001b[0m\u001b[0m__init__\u001b[0m\u001b[0;34m(\u001b[0m\u001b[0mself\u001b[0m\u001b[0;34m,\u001b[0m \u001b[0mmgr\u001b[0m\u001b[0;34m,\u001b[0m \u001b[0mfastpath\u001b[0m\u001b[0;34m=\u001b[0m\u001b[0;32mTrue\u001b[0m\u001b[0;34m)\u001b[0m\u001b[0;34m\u001b[0m\u001b[0m\n",
      "\u001b[0;31mValueError\u001b[0m: DataFrame constructor not properly called!"
     ]
    }
   ],
   "source": [
    "\n",
    "\n",
    "geo = pd.DataFrame(cg)\n",
    "    \n",
    "return {}"
   ]
  },
  {
   "cell_type": "code",
   "execution_count": 4,
   "metadata": {},
   "outputs": [
    {
     "data": {
      "text/plain": [
       "[{'matchedAddress': '480 BARNUM AVE, BRIDGEPORT, CT, 06608',\n",
       "  'coordinates': {'x': -73.180664, 'y': 41.187107},\n",
       "  'tigerLine': {'tigerLineId': '3225241', 'side': 'R'},\n",
       "  'addressComponents': {'fromAddress': '480',\n",
       "   'toAddress': '498',\n",
       "   'preQualifier': '',\n",
       "   'preDirection': '',\n",
       "   'preType': '',\n",
       "   'streetName': 'BARNUM',\n",
       "   'suffixType': 'AVE',\n",
       "   'suffixDirection': '',\n",
       "   'suffixQualifier': '',\n",
       "   'city': 'BRIDGEPORT',\n",
       "   'state': 'CT',\n",
       "   'zip': '06608'}}]"
      ]
     },
     "execution_count": 4,
     "metadata": {},
     "output_type": "execute_result"
    }
   ],
   "source": [
    "# returntype keyword use 'locations' or 'geographies'. \n",
    "#'Locations' yields structured information about the address, and 'geographies' yields information about the Census geographies\n",
    "\n",
    "cg.address('480 Barnum Ave', city ='Bridgeport', state='CT', zipcode='06608', returntype='locations')"
   ]
  },
  {
   "cell_type": "code",
   "execution_count": 1,
   "metadata": {},
   "outputs": [
    {
     "ename": "NameError",
     "evalue": "name 'cg' is not defined",
     "output_type": "error",
     "traceback": [
      "\u001b[0;31m---------------------------------------------------------------------------\u001b[0m",
      "\u001b[0;31mNameError\u001b[0m                                 Traceback (most recent call last)",
      "\u001b[0;32m<ipython-input-1-75ea26d26f14>\u001b[0m in \u001b[0;36m<module>\u001b[0;34m()\u001b[0m\n\u001b[1;32m      2\u001b[0m \u001b[0;31m#'Locations' yields structured information about the address, and 'geographies' yields information about the Census geographies\u001b[0m\u001b[0;34m\u001b[0m\u001b[0;34m\u001b[0m\u001b[0m\n\u001b[1;32m      3\u001b[0m \u001b[0;34m\u001b[0m\u001b[0m\n\u001b[0;32m----> 4\u001b[0;31m \u001b[0mcg\u001b[0m\u001b[0;34m.\u001b[0m\u001b[0maddress\u001b[0m\u001b[0;34m(\u001b[0m\u001b[0;34m'480 Barnum Ave'\u001b[0m\u001b[0;34m,\u001b[0m \u001b[0mcity\u001b[0m \u001b[0;34m=\u001b[0m\u001b[0;34m'Bridgeport'\u001b[0m\u001b[0;34m,\u001b[0m \u001b[0mstate\u001b[0m\u001b[0;34m=\u001b[0m\u001b[0;34m'CT'\u001b[0m\u001b[0;34m,\u001b[0m \u001b[0mzipcode\u001b[0m\u001b[0;34m=\u001b[0m\u001b[0;34m'06608'\u001b[0m\u001b[0;34m,\u001b[0m \u001b[0mreturntype\u001b[0m\u001b[0;34m=\u001b[0m\u001b[0;34m'Locations'\u001b[0m\u001b[0;34m)\u001b[0m\u001b[0;34m\u001b[0m\u001b[0m\n\u001b[0m",
      "\u001b[0;31mNameError\u001b[0m: name 'cg' is not defined"
     ]
    }
   ],
   "source": [
    "# returntype keyword use 'locations' or 'geographies'. \n",
    "#'Locations' yields structured information about the address, and 'geographies' yields information about the Census geographies\n",
    "\n",
    "cg.address('480 Barnum Ave', city ='Bridgeport', state='CT', zipcode='06608', returntype='Locations')"
   ]
  },
  {
   "cell_type": "code",
   "execution_count": null,
   "metadata": {},
   "outputs": [],
   "source": []
  }
 ],
 "metadata": {
  "kernelspec": {
   "display_name": "Python 3",
   "language": "python",
   "name": "python3"
  },
  "language_info": {
   "codemirror_mode": {
    "name": "ipython",
    "version": 3
   },
   "file_extension": ".py",
   "mimetype": "text/x-python",
   "name": "python",
   "nbconvert_exporter": "python",
   "pygments_lexer": "ipython3",
   "version": "3.6.7"
  }
 },
 "nbformat": 4,
 "nbformat_minor": 2
}
