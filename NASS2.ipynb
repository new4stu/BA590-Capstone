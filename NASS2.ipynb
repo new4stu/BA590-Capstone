{
 "cells": [
  {
   "cell_type": "code",
   "execution_count": 2,
   "metadata": {},
   "outputs": [
    {
     "ename": "SyntaxError",
     "evalue": "invalid syntax (<ipython-input-2-89fb023dd7db>, line 5)",
     "output_type": "error",
     "traceback": [
      "\u001b[0;36m  File \u001b[0;32m\"<ipython-input-2-89fb023dd7db>\"\u001b[0;36m, line \u001b[0;32m5\u001b[0m\n\u001b[0;31m    5B9610D0-2DBF-389B-BA0C-38CA734388B6 = f.read().rstrip()\u001b[0m\n\u001b[0m           ^\u001b[0m\n\u001b[0;31mSyntaxError\u001b[0m\u001b[0;31m:\u001b[0m invalid syntax\n"
     ]
    }
   ],
   "source": [
    "import requests\n",
    "\n",
    "# usda_key = <5B9610D0-2DBF-389B-BA0C-38CA734388B6>\n",
    "with open('5B9610D0-2DBF-389B-BA0C-38CA734388B6.txt') as f:\n",
    "    5B9610D0-2DBF-389B-BA0C-38CA734388B6 = f.read().rstrip()\n",
    "    \n",
    "\n",
    "    "
   ]
  },
  {
   "cell_type": "code",
   "execution_count": 3,
   "metadata": {},
   "outputs": [
    {
     "ename": "SyntaxError",
     "evalue": "invalid syntax (<ipython-input-3-82b1e75bbba1>, line 1)",
     "output_type": "error",
     "traceback": [
      "\u001b[0;36m  File \u001b[0;32m\"<ipython-input-3-82b1e75bbba1>\"\u001b[0;36m, line \u001b[0;32m1\u001b[0m\n\u001b[0;31m    def get_param_values(param, 5B9610D0-2DBF-389B-BA0C-38CA734388B6):\u001b[0m\n\u001b[0m                                ^\u001b[0m\n\u001b[0;31mSyntaxError\u001b[0m\u001b[0;31m:\u001b[0m invalid syntax\n"
     ]
    }
   ],
   "source": [
    "def get_param_values(param, 5B9610D0-2DBF-389B-BA0C-38CA734388B6):\n",
    "    '''\n",
    "#    Returns the possible values for a single parameter 'param'\n",
    "#    >>> get_param_values('sector_desc')[:3]\n",
    "    ['ANIMALS & PRODUCTS', 'CROPS', 'DEMOGRAPHICS']"
   ]
  },
  {
   "cell_type": "code",
   "execution_count": null,
   "metadata": {},
   "outputs": [],
   "source": []
  }
 ],
 "metadata": {
  "kernelspec": {
   "display_name": "Python 3",
   "language": "python",
   "name": "python3"
  },
  "language_info": {
   "codemirror_mode": {
    "name": "ipython",
    "version": 3
   },
   "file_extension": ".py",
   "mimetype": "text/x-python",
   "name": "python",
   "nbconvert_exporter": "python",
   "pygments_lexer": "ipython3",
   "version": "3.6.5"
  }
 },
 "nbformat": 4,
 "nbformat_minor": 2
}
