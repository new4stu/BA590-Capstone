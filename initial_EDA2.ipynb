{
 "cells": [
  {
   "cell_type": "markdown",
   "metadata": {},
   "source": [
    "## Initial EDA\n",
    "\n",
    "load in the data and first look at our target variable\n"
   ]
  },
  {
   "cell_type": "code",
   "execution_count": 16,
   "metadata": {},
   "outputs": [],
   "source": [
    "import pandas as pd\n",
    "import numpy as np\n",
    "import sklearn\n",
    "import matplotlib.pyplot as plt\n",
    "import seaborn as sns\n",
    "sns.set()\n",
    "%matplotlib inline\n",
    "\n",
    "from sklearn.tree import DecisionTreeClassifier                          # Import Decision Tree Classifier\n",
    "from sklearn.model_selection import train_test_split                     # Import train_test_split function from sklearn\n",
    "from sklearn import metrics                                              #Import scikit-learn metrics module for accuracy calculation"
   ]
  },
  {
   "cell_type": "code",
   "execution_count": 28,
   "metadata": {},
   "outputs": [
    {
     "data": {
      "text/html": [
       "<div>\n",
       "<style scoped>\n",
       "    .dataframe tbody tr th:only-of-type {\n",
       "        vertical-align: middle;\n",
       "    }\n",
       "\n",
       "    .dataframe tbody tr th {\n",
       "        vertical-align: top;\n",
       "    }\n",
       "\n",
       "    .dataframe thead th {\n",
       "        text-align: right;\n",
       "    }\n",
       "</style>\n",
       "<table border=\"1\" class=\"dataframe\">\n",
       "  <thead>\n",
       "    <tr style=\"text-align: right;\">\n",
       "      <th></th>\n",
       "      <th>765.0</th>\n",
       "      <th>1705.95</th>\n",
       "      <th>0.10173236328940306</th>\n",
       "      <th>2564042.85</th>\n",
       "      <th>13358.0</th>\n",
       "      <th>1167.0</th>\n",
       "      <th>3779.0</th>\n",
       "      <th>4397.0</th>\n",
       "      <th>2397.0</th>\n",
       "      <th>1618.0</th>\n",
       "      <th>...</th>\n",
       "      <th>229.0</th>\n",
       "      <th>16209.0</th>\n",
       "      <th>45.5</th>\n",
       "      <th>43.0</th>\n",
       "      <th>47.7</th>\n",
       "      <th>7215.0</th>\n",
       "      <th>2.23</th>\n",
       "      <th>3098.0</th>\n",
       "      <th>25.0</th>\n",
       "      <th>1001.0</th>\n",
       "    </tr>\n",
       "  </thead>\n",
       "  <tbody>\n",
       "    <tr>\n",
       "      <th>0</th>\n",
       "      <td>765</td>\n",
       "      <td>1705.95</td>\n",
       "      <td>0.101732</td>\n",
       "      <td>2564042.85</td>\n",
       "      <td>13358</td>\n",
       "      <td>1167</td>\n",
       "      <td>3779</td>\n",
       "      <td>4397</td>\n",
       "      <td>2397</td>\n",
       "      <td>1618</td>\n",
       "      <td>...</td>\n",
       "      <td>229</td>\n",
       "      <td>16209</td>\n",
       "      <td>45.5</td>\n",
       "      <td>43.0</td>\n",
       "      <td>47.7</td>\n",
       "      <td>7215</td>\n",
       "      <td>2.23</td>\n",
       "      <td>3098</td>\n",
       "      <td>25</td>\n",
       "      <td>1001</td>\n",
       "    </tr>\n",
       "    <tr>\n",
       "      <th>1</th>\n",
       "      <td>749</td>\n",
       "      <td>1827.56</td>\n",
       "      <td>0.062913</td>\n",
       "      <td>2746822.68</td>\n",
       "      <td>13787</td>\n",
       "      <td>633</td>\n",
       "      <td>1684</td>\n",
       "      <td>2229</td>\n",
       "      <td>3405</td>\n",
       "      <td>5836</td>\n",
       "      <td>...</td>\n",
       "      <td>1217</td>\n",
       "      <td>26766</td>\n",
       "      <td>24.0</td>\n",
       "      <td>23.6</td>\n",
       "      <td>24.8</td>\n",
       "      <td>9910</td>\n",
       "      <td>2.44</td>\n",
       "      <td>4050</td>\n",
       "      <td>25</td>\n",
       "      <td>1002</td>\n",
       "    </tr>\n",
       "    <tr>\n",
       "      <th>2</th>\n",
       "      <td>8</td>\n",
       "      <td>25.60</td>\n",
       "      <td>0.002468</td>\n",
       "      <td>38476.80</td>\n",
       "      <td>136</td>\n",
       "      <td>26</td>\n",
       "      <td>13</td>\n",
       "      <td>68</td>\n",
       "      <td>14</td>\n",
       "      <td>15</td>\n",
       "      <td>...</td>\n",
       "      <td>372</td>\n",
       "      <td>9843</td>\n",
       "      <td>20.2</td>\n",
       "      <td>20.2</td>\n",
       "      <td>20.1</td>\n",
       "      <td>5</td>\n",
       "      <td>3.20</td>\n",
       "      <td>10</td>\n",
       "      <td>25</td>\n",
       "      <td>1003</td>\n",
       "    </tr>\n",
       "    <tr>\n",
       "      <th>3</th>\n",
       "      <td>147</td>\n",
       "      <td>383.67</td>\n",
       "      <td>0.075540</td>\n",
       "      <td>576656.01</td>\n",
       "      <td>3498</td>\n",
       "      <td>123</td>\n",
       "      <td>1270</td>\n",
       "      <td>1023</td>\n",
       "      <td>547</td>\n",
       "      <td>535</td>\n",
       "      <td>...</td>\n",
       "      <td>71</td>\n",
       "      <td>4990</td>\n",
       "      <td>41.0</td>\n",
       "      <td>40.0</td>\n",
       "      <td>41.7</td>\n",
       "      <td>1904</td>\n",
       "      <td>2.61</td>\n",
       "      <td>1284</td>\n",
       "      <td>25</td>\n",
       "      <td>1005</td>\n",
       "    </tr>\n",
       "    <tr>\n",
       "      <th>4</th>\n",
       "      <td>450</td>\n",
       "      <td>1179.00</td>\n",
       "      <td>0.080483</td>\n",
       "      <td>1772037.00</td>\n",
       "      <td>10062</td>\n",
       "      <td>644</td>\n",
       "      <td>2407</td>\n",
       "      <td>2518</td>\n",
       "      <td>2423</td>\n",
       "      <td>2070</td>\n",
       "      <td>...</td>\n",
       "      <td>260</td>\n",
       "      <td>14264</td>\n",
       "      <td>41.1</td>\n",
       "      <td>40.0</td>\n",
       "      <td>42.0</td>\n",
       "      <td>5595</td>\n",
       "      <td>2.62</td>\n",
       "      <td>3691</td>\n",
       "      <td>25</td>\n",
       "      <td>1007</td>\n",
       "    </tr>\n",
       "  </tbody>\n",
       "</table>\n",
       "<p>5 rows × 37 columns</p>\n",
       "</div>"
      ],
      "text/plain": [
       "0  7.650000e+02  1.705950e+03  1.017324e-01  2.564043e+06  1.335800e+04  \\\n",
       "0           765       1705.95      0.101732    2564042.85         13358   \n",
       "1           749       1827.56      0.062913    2746822.68         13787   \n",
       "2             8         25.60      0.002468      38476.80           136   \n",
       "3           147        383.67      0.075540     576656.01          3498   \n",
       "4           450       1179.00      0.080483    1772037.00         10062   \n",
       "\n",
       "0  1.167000e+03  3.779000e+03  4.397000e+03  2.397000e+03  1.618000e+03  \\\n",
       "0          1167          3779          4397          2397          1618   \n",
       "1           633          1684          2229          3405          5836   \n",
       "2            26            13            68            14            15   \n",
       "3           123          1270          1023           547           535   \n",
       "4           644          2407          2518          2423          2070   \n",
       "\n",
       "0      ...       2.290000e+02  1.620900e+04  4.550000e+01  4.300000e+01  \\\n",
       "0      ...                229         16209          45.5          43.0   \n",
       "1      ...               1217         26766          24.0          23.6   \n",
       "2      ...                372          9843          20.2          20.2   \n",
       "3      ...                 71          4990          41.0          40.0   \n",
       "4      ...                260         14264          41.1          40.0   \n",
       "\n",
       "0  4.770000e+01  7.215000e+03  2.230000e+00  3.098000e+03  2.500000e+01  \\\n",
       "0          47.7          7215          2.23          3098            25   \n",
       "1          24.8          9910          2.44          4050            25   \n",
       "2          20.1             5          3.20            10            25   \n",
       "3          41.7          1904          2.61          1284            25   \n",
       "4          42.0          5595          2.62          3691            25   \n",
       "\n",
       "0  1.001000e+03  \n",
       "0          1001  \n",
       "1          1002  \n",
       "2          1003  \n",
       "3          1005  \n",
       "4          1007  \n",
       "\n",
       "[5 rows x 37 columns]"
      ]
     },
     "execution_count": 28,
     "metadata": {},
     "output_type": "execute_result"
    }
   ],
   "source": [
    "#df = pd.read_excel('Full_Datav6_zip_extract.xls', header=None)\n",
    "#df = pd.read_excel('Full_Datav5.xlsx', header=0)\n",
    "#df = pd.read_csv('Full_Datav5.csv', header=0)\n",
    "\n",
    "\n",
    "\n",
    "#y = df['Y']\n",
    "#y = df.Y\n",
    "\n",
    "#df.head()\n",
    "\n",
    "#df = pd.read_excel('Full_Datav4.xls', header=0)\n",
    "#df = pd.read_excel('Full_Datav6_zip_extract.xls', header=None)\n",
    "df = pd.read_excel('Full_Datav6_zip_extractt.xls', header=0, skiprows=0)\n",
    "#df = pd.read_csv('Full_Datav6_zip_extracttf.csv')\n",
    "\n",
    "#df = pd.read_excel('Full_Datav4.xls', header=None)\n",
    "\n",
    "\n",
    "df.columns = df.iloc[0,:]\n",
    "\n",
    "#df.rename(index=str, columns={\"SNAP Per Capita Benefit or TAM\": \"Y\"}, inplace=True)\n",
    "\n",
    "#df.drop('ID', inplace=True, axis=0)\n",
    "\n",
    "#y = df[\"Y\"]\n",
    "#y = df.Y\n",
    "\n",
    "df.head()"
   ]
  },
  {
   "cell_type": "code",
   "execution_count": 29,
   "metadata": {},
   "outputs": [
    {
     "name": "stdout",
     "output_type": "stream",
     "text": [
      "<class 'pandas.core.frame.DataFrame'>\n",
      "RangeIndex: 32936 entries, 0 to 32935\n",
      "Data columns (total 37 columns):\n",
      "765.0                  32936 non-null int64\n",
      "1705.95                32936 non-null float64\n",
      "0.10173236328940306    32936 non-null float64\n",
      "2564042.85             32936 non-null float64\n",
      "13358.0                32936 non-null int64\n",
      "1167.0                 32936 non-null int64\n",
      "3779.0                 32936 non-null int64\n",
      "4397.0                 32936 non-null int64\n",
      "2397.0                 32936 non-null int64\n",
      "1618.0                 32936 non-null int64\n",
      "14915.0                32936 non-null int64\n",
      "923.0                  32936 non-null int64\n",
      "1964.0                 32936 non-null int64\n",
      "1587.0                 32936 non-null int64\n",
      "2333.0                 32936 non-null int64\n",
      "1810.0                 32936 non-null int64\n",
      "1979.0                 32936 non-null int64\n",
      "1576.0                 32936 non-null int64\n",
      "986.0                  32936 non-null int64\n",
      "1757.0                 32936 non-null int64\n",
      "16769.0                32936 non-null int64\n",
      "15704.0                32936 non-null int64\n",
      "310.0                  32936 non-null int64\n",
      "28.0                   32936 non-null int64\n",
      "357.0                  32936 non-null int64\n",
      "0.0                    32936 non-null int64\n",
      "141.0                  32936 non-null int64\n",
      "229.0                  32936 non-null int64\n",
      "16209.0                32936 non-null int64\n",
      "45.5                   32936 non-null float64\n",
      "43.0                   32936 non-null float64\n",
      "47.7                   32936 non-null float64\n",
      "7215.0                 32936 non-null int64\n",
      "2.23                   32936 non-null float64\n",
      "3098.0                 32936 non-null int64\n",
      "25.0                   32936 non-null int64\n",
      "1001.0                 32936 non-null int64\n",
      "dtypes: float64(7), int64(30)\n",
      "memory usage: 9.3 MB\n"
     ]
    }
   ],
   "source": [
    "df.info()"
   ]
  },
  {
   "cell_type": "code",
   "execution_count": 4,
   "metadata": {},
   "outputs": [
    {
     "data": {
      "text/html": [
       "<div>\n",
       "<style scoped>\n",
       "    .dataframe tbody tr th:only-of-type {\n",
       "        vertical-align: middle;\n",
       "    }\n",
       "\n",
       "    .dataframe tbody tr th {\n",
       "        vertical-align: top;\n",
       "    }\n",
       "\n",
       "    .dataframe thead th {\n",
       "        text-align: right;\n",
       "    }\n",
       "</style>\n",
       "<table border=\"1\" class=\"dataframe\">\n",
       "  <thead>\n",
       "    <tr style=\"text-align: right;\">\n",
       "      <th></th>\n",
       "      <th>Households SNAP</th>\n",
       "      <th>Estimated Individuals SNAP</th>\n",
       "      <th>SNAP % Population</th>\n",
       "      <th>Y</th>\n",
       "      <th>Total Citizen Educated in US</th>\n",
       "      <th>Citizen Less than High School  Education</th>\n",
       "      <th>Citizen High School  Graduate</th>\n",
       "      <th>Citizen Some College  Education</th>\n",
       "      <th>Citizen College Degree</th>\n",
       "      <th>Citizen Graduate or Professional Degree</th>\n",
       "      <th>...</th>\n",
       "      <th>Other Race Alone</th>\n",
       "      <th>Hispanic or Latino</th>\n",
       "      <th>Median Age</th>\n",
       "      <th>Male Median Age</th>\n",
       "      <th>Female Median Age</th>\n",
       "      <th>Total Households</th>\n",
       "      <th>Average Household Size</th>\n",
       "      <th>Total Families</th>\n",
       "      <th>state code</th>\n",
       "      <th>zip code</th>\n",
       "    </tr>\n",
       "  </thead>\n",
       "  <tbody>\n",
       "    <tr>\n",
       "      <th>0</th>\n",
       "      <td>Households SNAP</td>\n",
       "      <td>Estimated Individuals SNAP</td>\n",
       "      <td>SNAP % Population</td>\n",
       "      <td>SNAP Per Capita Benefit or TAM</td>\n",
       "      <td>Total Citizen Educated in US</td>\n",
       "      <td>Citizen Less than High School  Education</td>\n",
       "      <td>Citizen High School  Graduate</td>\n",
       "      <td>Citizen Some College  Education</td>\n",
       "      <td>Citizen College Degree</td>\n",
       "      <td>Citizen Graduate or Professional Degree</td>\n",
       "      <td>...</td>\n",
       "      <td>Other Race Alone</td>\n",
       "      <td>Hispanic or Latino</td>\n",
       "      <td>Median Age</td>\n",
       "      <td>Male Median Age</td>\n",
       "      <td>Female Median Age</td>\n",
       "      <td>Total Households</td>\n",
       "      <td>Average Household Size</td>\n",
       "      <td>Total Families</td>\n",
       "      <td>state code</td>\n",
       "      <td>zip code</td>\n",
       "    </tr>\n",
       "    <tr>\n",
       "      <th>1</th>\n",
       "      <td>765</td>\n",
       "      <td>1705.95</td>\n",
       "      <td>0.101732</td>\n",
       "      <td>2.56404e+06</td>\n",
       "      <td>13358</td>\n",
       "      <td>1167</td>\n",
       "      <td>3779</td>\n",
       "      <td>4397</td>\n",
       "      <td>2397</td>\n",
       "      <td>1618</td>\n",
       "      <td>...</td>\n",
       "      <td>229</td>\n",
       "      <td>16209</td>\n",
       "      <td>45.5</td>\n",
       "      <td>43</td>\n",
       "      <td>47.7</td>\n",
       "      <td>7215</td>\n",
       "      <td>2.23</td>\n",
       "      <td>3098</td>\n",
       "      <td>25</td>\n",
       "      <td>1001</td>\n",
       "    </tr>\n",
       "    <tr>\n",
       "      <th>2</th>\n",
       "      <td>749</td>\n",
       "      <td>1827.56</td>\n",
       "      <td>0.062913</td>\n",
       "      <td>2.74682e+06</td>\n",
       "      <td>13787</td>\n",
       "      <td>633</td>\n",
       "      <td>1684</td>\n",
       "      <td>2229</td>\n",
       "      <td>3405</td>\n",
       "      <td>5836</td>\n",
       "      <td>...</td>\n",
       "      <td>1217</td>\n",
       "      <td>26766</td>\n",
       "      <td>24</td>\n",
       "      <td>23.6</td>\n",
       "      <td>24.8</td>\n",
       "      <td>9910</td>\n",
       "      <td>2.44</td>\n",
       "      <td>4050</td>\n",
       "      <td>25</td>\n",
       "      <td>1002</td>\n",
       "    </tr>\n",
       "    <tr>\n",
       "      <th>3</th>\n",
       "      <td>8</td>\n",
       "      <td>25.6</td>\n",
       "      <td>0.00246818</td>\n",
       "      <td>38476.8</td>\n",
       "      <td>136</td>\n",
       "      <td>26</td>\n",
       "      <td>13</td>\n",
       "      <td>68</td>\n",
       "      <td>14</td>\n",
       "      <td>15</td>\n",
       "      <td>...</td>\n",
       "      <td>372</td>\n",
       "      <td>9843</td>\n",
       "      <td>20.2</td>\n",
       "      <td>20.2</td>\n",
       "      <td>20.1</td>\n",
       "      <td>5</td>\n",
       "      <td>3.2</td>\n",
       "      <td>10</td>\n",
       "      <td>25</td>\n",
       "      <td>1003</td>\n",
       "    </tr>\n",
       "    <tr>\n",
       "      <th>4</th>\n",
       "      <td>147</td>\n",
       "      <td>383.67</td>\n",
       "      <td>0.0755405</td>\n",
       "      <td>576656</td>\n",
       "      <td>3498</td>\n",
       "      <td>123</td>\n",
       "      <td>1270</td>\n",
       "      <td>1023</td>\n",
       "      <td>547</td>\n",
       "      <td>535</td>\n",
       "      <td>...</td>\n",
       "      <td>71</td>\n",
       "      <td>4990</td>\n",
       "      <td>41</td>\n",
       "      <td>40</td>\n",
       "      <td>41.7</td>\n",
       "      <td>1904</td>\n",
       "      <td>2.61</td>\n",
       "      <td>1284</td>\n",
       "      <td>25</td>\n",
       "      <td>1005</td>\n",
       "    </tr>\n",
       "  </tbody>\n",
       "</table>\n",
       "<p>5 rows × 37 columns</p>\n",
       "</div>"
      ],
      "text/plain": [
       "0  Households SNAP  Estimated Individuals SNAP  SNAP % Population  \\\n",
       "0  Households SNAP  Estimated Individuals SNAP  SNAP % Population   \n",
       "1              765                     1705.95           0.101732   \n",
       "2              749                     1827.56           0.062913   \n",
       "3                8                        25.6         0.00246818   \n",
       "4              147                      383.67          0.0755405   \n",
       "\n",
       "0                               Y  Total Citizen Educated in US  \\\n",
       "0  SNAP Per Capita Benefit or TAM  Total Citizen Educated in US   \n",
       "1                     2.56404e+06                         13358   \n",
       "2                     2.74682e+06                         13787   \n",
       "3                         38476.8                           136   \n",
       "4                          576656                          3498   \n",
       "\n",
       "0  Citizen Less than High School  Education  Citizen High School  Graduate  \\\n",
       "0  Citizen Less than High School  Education  Citizen High School  Graduate   \n",
       "1                                      1167                           3779   \n",
       "2                                       633                           1684   \n",
       "3                                        26                             13   \n",
       "4                                       123                           1270   \n",
       "\n",
       "0  Citizen Some College  Education  Citizen College Degree   \\\n",
       "0  Citizen Some College  Education  Citizen College Degree    \n",
       "1                             4397                     2397   \n",
       "2                             2229                     3405   \n",
       "3                               68                       14   \n",
       "4                             1023                      547   \n",
       "\n",
       "0  Citizen Graduate or Professional Degree    ...     Other Race Alone  \\\n",
       "0  Citizen Graduate or Professional Degree    ...     Other Race Alone   \n",
       "1                                     1618    ...                  229   \n",
       "2                                     5836    ...                 1217   \n",
       "3                                       15    ...                  372   \n",
       "4                                      535    ...                   71   \n",
       "\n",
       "0  Hispanic or Latino  Median Age  Male Median Age  Female Median Age  \\\n",
       "0  Hispanic or Latino  Median Age  Male Median Age  Female Median Age   \n",
       "1               16209        45.5               43               47.7   \n",
       "2               26766          24             23.6               24.8   \n",
       "3                9843        20.2             20.2               20.1   \n",
       "4                4990          41               40               41.7   \n",
       "\n",
       "0  Total Households  Average Household Size  Total Families  state code  \\\n",
       "0  Total Households  Average Household Size  Total Families  state code   \n",
       "1              7215                    2.23            3098          25   \n",
       "2              9910                    2.44            4050          25   \n",
       "3                 5                     3.2              10          25   \n",
       "4              1904                    2.61            1284          25   \n",
       "\n",
       "0  zip code  \n",
       "0  zip code  \n",
       "1      1001  \n",
       "2      1002  \n",
       "3      1003  \n",
       "4      1005  \n",
       "\n",
       "[5 rows x 37 columns]"
      ]
     },
     "execution_count": 4,
     "metadata": {},
     "output_type": "execute_result"
    }
   ],
   "source": [
    "# building features and re-naming target data Y\n",
    "\n",
    "df.rename(index=str, columns={\"SNAP Per Capita Benefit or TAM\": \"Y\"}, inplace=True)\n",
    "#df.drop('NAME', axis=1, inplace=True )\n",
    "#df = df.astype('float32')\n",
    "\n",
    "df.head()"
   ]
  },
  {
   "cell_type": "code",
   "execution_count": 6,
   "metadata": {},
   "outputs": [
    {
     "name": "stdout",
     "output_type": "stream",
     "text": [
      "number of missing values:  Households SNAP 0       Percentage of missing values: Households SNAP 0.0\n",
      "number of missing values:  Estimated Individuals SNAP 0       Percentage of missing values: Estimated Individuals SNAP 0.0\n",
      "number of missing values:  SNAP % Population 0       Percentage of missing values: SNAP % Population 0.0\n",
      "number of missing values:  Y 0       Percentage of missing values: Y 0.0\n",
      "number of missing values:  Total Citizen Educated in US 0       Percentage of missing values: Total Citizen Educated in US 0.0\n",
      "number of missing values:  Citizen Less than High School  Education 0       Percentage of missing values: Citizen Less than High School  Education 0.0\n",
      "number of missing values:  Citizen High School  Graduate 0       Percentage of missing values: Citizen High School  Graduate 0.0\n",
      "number of missing values:  Citizen Some College  Education 0       Percentage of missing values: Citizen Some College  Education 0.0\n",
      "number of missing values:  Citizen College Degree  0       Percentage of missing values: Citizen College Degree  0.0\n",
      "number of missing values:  Citizen Graduate or Professional Degree 0       Percentage of missing values: Citizen Graduate or Professional Degree 0.0\n",
      "number of missing values:  Total Citizen Income 0       Percentage of missing values: Total Citizen Income 0.0\n",
      "number of missing values:  Citizen No Income 0       Percentage of missing values: Citizen No Income 0.0\n",
      "number of missing values:  Citizen Income $1-$9,999 0       Percentage of missing values: Citizen Income $1-$9,999 0.0\n",
      "number of missing values:  Citizen Income $10,000-$14,999 0       Percentage of missing values: Citizen Income $10,000-$14,999 0.0\n",
      "number of missing values:  Citizen Income $15,000-$24,999 0       Percentage of missing values: Citizen Income $15,000-$24,999 0.0\n",
      "number of missing values:  Citizen Income $25,000-$34,999 0       Percentage of missing values: Citizen Income $25,000-$34,999 0.0\n",
      "number of missing values:  Citizen Income $35,000-$49,999 0       Percentage of missing values: Citizen Income $35,000-$49,999 0.0\n",
      "number of missing values:  Citizen Income $50,000-$64,999 0       Percentage of missing values: Citizen Income $50,000-$64,999 0.0\n",
      "number of missing values:  Citizen Income $65,000-$74,999 0       Percentage of missing values: Citizen Income $65,000-$74,999 0.0\n",
      "number of missing values:  Citizen Income $75,000 +  0       Percentage of missing values: Citizen Income $75,000 +  0.0\n",
      "number of missing values:  Total Population 0       Percentage of missing values: Total Population 0.0\n",
      "number of missing values:  One Race Population 0       Percentage of missing values: One Race Population 0.0\n",
      "number of missing values:  White Race 0       Percentage of missing values: White Race 0.0\n",
      "number of missing values:  Black Race 0       Percentage of missing values: Black Race 0.0\n",
      "number of missing values:  Native American Race 0       Percentage of missing values: Native American Race 0.0\n",
      "number of missing values:  Asian Race 0       Percentage of missing values: Asian Race 0.0\n",
      "number of missing values:  Pacific Islander Race 0       Percentage of missing values: Pacific Islander Race 0.0\n",
      "number of missing values:  Other Race Alone 0       Percentage of missing values: Other Race Alone 0.0\n",
      "number of missing values:  Hispanic or Latino 0       Percentage of missing values: Hispanic or Latino 0.0\n",
      "number of missing values:  Median Age 0       Percentage of missing values: Median Age 0.0\n",
      "number of missing values:  Male Median Age 0       Percentage of missing values: Male Median Age 0.0\n",
      "number of missing values:  Female Median Age 0       Percentage of missing values: Female Median Age 0.0\n",
      "number of missing values:  Total Households 0       Percentage of missing values: Total Households 0.0\n",
      "number of missing values:  Average Household Size 0       Percentage of missing values: Average Household Size 0.0\n",
      "number of missing values:  Total Families 0       Percentage of missing values: Total Families 0.0\n",
      "number of missing values:  state code 0       Percentage of missing values: state code 0.0\n",
      "number of missing values:  zip code 0       Percentage of missing values: zip code 0.0\n"
     ]
    }
   ],
   "source": [
    "#find out missing values\n",
    "names = []\n",
    "value = []\n",
    "for col in df.columns:\n",
    "    names.append(col)\n",
    "    value.append(df[col].isnull().sum())\n",
    "    print(\"number of missing values: \", names[-1], value[-1],\"\"\"     \"\"\", \"Percentage of missing values:\", names[-1], round((value[-1]/32936)*100))  \n",
    "    #print(\"number of missing values: \", names[-1], value[-1],\"\"\"     \"\"\", \"Percentage of missing values:\", names[-1], round((value[-1]/682)*100))  "
   ]
  },
  {
   "cell_type": "code",
   "execution_count": 14,
   "metadata": {},
   "outputs": [
    {
     "ename": "ValueError",
     "evalue": "Unable to parse string \"Households SNAP\" at position 0",
     "output_type": "error",
     "traceback": [
      "\u001b[0;31m---------------------------------------------------------------------------\u001b[0m",
      "\u001b[0;31mValueError\u001b[0m                                Traceback (most recent call last)",
      "\u001b[0;32mpandas/_libs/src/inference.pyx\u001b[0m in \u001b[0;36mpandas._libs.lib.maybe_convert_numeric\u001b[0;34m()\u001b[0m\n",
      "\u001b[0;31mValueError\u001b[0m: Unable to parse string \"Households SNAP\"",
      "\nDuring handling of the above exception, another exception occurred:\n",
      "\u001b[0;31mValueError\u001b[0m                                Traceback (most recent call last)",
      "\u001b[0;32m<ipython-input-14-db5ef0e6a8a1>\u001b[0m in \u001b[0;36m<module>\u001b[0;34m\u001b[0m\n\u001b[1;32m      9\u001b[0m \u001b[0;31m#Other Race Alone       Hispanic or Latino      Median Age      Male Median Age Female Median Age       Total Households        Average Household Size  Total Families  state code      zip code\u001b[0m\u001b[0;34m\u001b[0m\u001b[0;34m\u001b[0m\u001b[0;34m\u001b[0m\u001b[0m\n\u001b[1;32m     10\u001b[0m \u001b[0;34m\u001b[0m\u001b[0m\n\u001b[0;32m---> 11\u001b[0;31m \u001b[0mpd\u001b[0m\u001b[0;34m.\u001b[0m\u001b[0mto_numeric\u001b[0m\u001b[0;34m(\u001b[0m\u001b[0ms\u001b[0m\u001b[0;34m)\u001b[0m\u001b[0;34m\u001b[0m\u001b[0;34m\u001b[0m\u001b[0m\n\u001b[0m\u001b[1;32m     12\u001b[0m \u001b[0;34m\u001b[0m\u001b[0m\n\u001b[1;32m     13\u001b[0m \u001b[0;34m\u001b[0m\u001b[0m\n",
      "\u001b[0;32m/opt/tljh/user/lib/python3.6/site-packages/pandas/core/tools/numeric.py\u001b[0m in \u001b[0;36mto_numeric\u001b[0;34m(arg, errors, downcast)\u001b[0m\n\u001b[1;32m    131\u001b[0m             \u001b[0mcoerce_numeric\u001b[0m \u001b[0;34m=\u001b[0m \u001b[0;32mFalse\u001b[0m \u001b[0;32mif\u001b[0m \u001b[0merrors\u001b[0m \u001b[0;32min\u001b[0m \u001b[0;34m(\u001b[0m\u001b[0;34m'ignore'\u001b[0m\u001b[0;34m,\u001b[0m \u001b[0;34m'raise'\u001b[0m\u001b[0;34m)\u001b[0m \u001b[0;32melse\u001b[0m \u001b[0;32mTrue\u001b[0m\u001b[0;34m\u001b[0m\u001b[0;34m\u001b[0m\u001b[0m\n\u001b[1;32m    132\u001b[0m             values = lib.maybe_convert_numeric(values, set(),\n\u001b[0;32m--> 133\u001b[0;31m                                                coerce_numeric=coerce_numeric)\n\u001b[0m\u001b[1;32m    134\u001b[0m \u001b[0;34m\u001b[0m\u001b[0m\n\u001b[1;32m    135\u001b[0m     \u001b[0;32mexcept\u001b[0m \u001b[0mException\u001b[0m\u001b[0;34m:\u001b[0m\u001b[0;34m\u001b[0m\u001b[0;34m\u001b[0m\u001b[0m\n",
      "\u001b[0;32mpandas/_libs/src/inference.pyx\u001b[0m in \u001b[0;36mpandas._libs.lib.maybe_convert_numeric\u001b[0;34m()\u001b[0m\n",
      "\u001b[0;31mValueError\u001b[0m: Unable to parse string \"Households SNAP\" at position 0"
     ]
    }
   ],
   "source": [
    "#convert columns to numeric\n",
    "\n",
    "#df = pd.to_numeric\n",
    "#df = df.astype('float32')\n",
    "\n",
    "s = pd.Series(['Households SNAP', 'Estimated Individuals SNAP', 'SNAP % Population', 'SNAP Per Capita Benefit or TAM', 'Total Citizen Educated in US'])\n",
    "#               'Citizen Less than High School Education', 'Citizen High School Graduate', 'Citizen Some College Education', 'Citizen College Degree', \n",
    " #              'Citizen Graduate or Professional Degree', 'Total Citizen Income', 'Citizen No Income',  Citizen Income $1-$9,999 \t Citizen Income $10,000-$14,999 \t Citizen Income $15,000-$24,999 \t Citizen Income $25,000-$34,999 \t Citizen Income $35,000-$49,999 \t Citizen Income $50,000-$64,999 \t Citizen Income $65,000-$74,999 \t Citizen Income $75,000 +  \t Total Population \n",
    "#Other Race Alone\tHispanic or Latino\tMedian Age\tMale Median Age\tFemale Median Age\tTotal Households\tAverage Household Size\tTotal Families\tstate code\tzip code\n",
    "\n",
    "pd.to_numeric(s)\n",
    "\n",
    "\n",
    "               \n",
    "df.info()"
   ]
  },
  {
   "cell_type": "code",
   "execution_count": 8,
   "metadata": {},
   "outputs": [
    {
     "ename": "AttributeError",
     "evalue": "'function' object has no attribute 'info'",
     "output_type": "error",
     "traceback": [
      "\u001b[0;31m---------------------------------------------------------------------------\u001b[0m",
      "\u001b[0;31mAttributeError\u001b[0m                            Traceback (most recent call last)",
      "\u001b[0;32m<ipython-input-8-a74c58233b9e>\u001b[0m in \u001b[0;36m<module>\u001b[0;34m\u001b[0m\n\u001b[0;32m----> 1\u001b[0;31m \u001b[0mdf\u001b[0m\u001b[0;34m.\u001b[0m\u001b[0minfo\u001b[0m\u001b[0;34m(\u001b[0m\u001b[0;34m)\u001b[0m\u001b[0;34m\u001b[0m\u001b[0;34m\u001b[0m\u001b[0m\n\u001b[0m",
      "\u001b[0;31mAttributeError\u001b[0m: 'function' object has no attribute 'info'"
     ]
    }
   ],
   "source": [
    "df.info()"
   ]
  },
  {
   "cell_type": "code",
   "execution_count": null,
   "metadata": {},
   "outputs": [],
   "source": [
    "# All columns should be numeric except NAME. Converting to numeric and NAME to a string\n",
    "\n",
    "cols= i for i in df.columns if i not in [\"NAME\"]\n",
    "for col in cols:\n",
    "    df[col]=pd.to_numeric(df[col])\n",
    "      \n",
    "#cols=[i for i in df.columns if i not in [\"NAME\"]\n",
    "#for col in cols:\n",
    " #   df[col]=pd.to_numeric(df[col])"
   ]
  },
  {
   "cell_type": "code",
   "execution_count": null,
   "metadata": {},
   "outputs": [],
   "source": [
    "#split my data\n",
    "df = df.astype('float32')\n",
    "#X = df.drop(columns = 'Y')\n",
    "#y = df['Y']\n",
    "\n",
    "df.info()"
   ]
  },
  {
   "cell_type": "markdown",
   "metadata": {},
   "source": [
    "All of these columns should be columns should be numeric, so let's convert it all to numeric"
   ]
  },
  {
   "cell_type": "code",
   "execution_count": null,
   "metadata": {},
   "outputs": [],
   "source": [
    "df = df(NAME).astype('str')\n",
    "#df = df.astype('float32')\n",
    "#df = pd.DataFrame(NAME, dtype='str')\n",
    "#df = pd.DataFrame(X, dtype='float32')\n",
    "\n",
    "df.info()\n"
   ]
  },
  {
   "cell_type": "code",
   "execution_count": null,
   "metadata": {},
   "outputs": [],
   "source": [
    "df.info()"
   ]
  },
  {
   "cell_type": "markdown",
   "metadata": {},
   "source": [
    "## Let's look at the target variable."
   ]
  },
  {
   "cell_type": "code",
   "execution_count": null,
   "metadata": {},
   "outputs": [],
   "source": [
    "df.Y.value_counts().plot(kind='bar')"
   ]
  },
  {
   "cell_type": "markdown",
   "metadata": {},
   "source": [
    "There is some inbalance here, so we need to note to do some sort of imbalance handling later in the pipeline.\n",
    "\n",
    "Now let's look at some univariate plots to get a sense of what our features look like."
   ]
  },
  {
   "cell_type": "code",
   "execution_count": null,
   "metadata": {},
   "outputs": [],
   "source": [
    "df.columns"
   ]
  },
  {
   "cell_type": "code",
   "execution_count": null,
   "metadata": {},
   "outputs": [],
   "source": [
    "#create histograms for each variable\n",
    "#we'll group some of the columns together to make plotting easier\n",
    "\n",
    "df_group1 = df.iloc[:, 0:5]\n",
    "df_group1.plot(kind='density', subplots=True, layout=(3,2), sharex=False)\n",
    "plt.show()\n",
    "\n",
    "\n",
    "#df.hist()\n",
    "#plt.show()"
   ]
  },
  {
   "cell_type": "markdown",
   "metadata": {},
   "source": [
    "Some notes: LIMIT_BAL and AGE are approaching a gaussian shape, but both are somewhat rightly skewed. Both sex and Marriage are bimodal (obviously), and Education is trimodal, with the three most common values of 1, 2, 3, and a tiny amount of 4, and 5. Besides LIMIT_BAL, nothing particular about these features. \n",
    "\n",
    "Next, we'll look at the Payment history. Since the values in these features are categorical in nature, we'll use bar plots.\n"
   ]
  },
  {
   "cell_type": "code",
   "execution_count": null,
   "metadata": {},
   "outputs": [],
   "source": [
    "#create group\n",
    "df_pay_hist = df.iloc[:,5:11]\n",
    "\n",
    "fig, ax = plt.subplots(figsize = (10,8), sharex=True)\n",
    "\n",
    "\n",
    "plt.subplot(3,2,1)\n",
    "df['PAY_0'].value_counts().plot(kind='bar')\n",
    "\n",
    "plt.subplot(3,2,2)\n",
    "df['PAY_2'].value_counts().plot(kind='bar')\n",
    "\n",
    "plt.subplot(3,2,3)\n",
    "df['PAY_3'].value_counts().plot(kind='bar')\n",
    "\n",
    "plt.subplot(3,2,4)\n",
    "df['PAY_4'].value_counts().plot(kind='bar')\n",
    "\n",
    "plt.subplot(3,2,5)\n",
    "df['PAY_5'].value_counts().plot(kind='bar')\n",
    "\n",
    "plt.subplot(3,2,6)\n",
    "df['PAY_6'].value_counts().plot(kind='bar')\n",
    "\n",
    "\n",
    "\n"
   ]
  },
  {
   "cell_type": "markdown",
   "metadata": {},
   "source": [
    "Some notes: all the plots are pretty much the same. Values of 0 are the most common by a large amount, i.e. another instance of some class inbalance. Will have to handle as well. \n",
    "\n",
    "Next, look at the Bill amounts."
   ]
  },
  {
   "cell_type": "code",
   "execution_count": null,
   "metadata": {},
   "outputs": [],
   "source": [
    "df['BILL_AMT1'].plot(kind='hist', )"
   ]
  },
  {
   "cell_type": "code",
   "execution_count": null,
   "metadata": {},
   "outputs": [],
   "source": [
    "#create group\n",
    "ax, fig = plt.subplots(figsize = (10,8))\n",
    "bill_amts = df.iloc[:, 11:17]\n",
    "\n",
    "plt.subplot(3,2,1)\n",
    "bill_amts['BILL_AMT1'].hist(bins=25)\n",
    "\n",
    "plt.subplot(3,2,2)\n",
    "bill_amts['BILL_AMT2'].hist(bins=25)\n",
    "\n",
    "plt.subplot(3,2,3)\n",
    "bill_amts['BILL_AMT3'].hist(bins=25)\n",
    "\n",
    "plt.subplot(3,2,4)\n",
    "bill_amts['BILL_AMT4'].hist(bins=25)\n",
    "\n",
    "plt.subplot(3,2,5)\n",
    "bill_amts['BILL_AMT5'].hist(bins=25)\n",
    "\n",
    "plt.subplot(3,2,6)\n",
    "bill_amts['BILL_AMT6'].hist(bins=25)\n",
    "\n",
    "\n"
   ]
  },
  {
   "cell_type": "code",
   "execution_count": null,
   "metadata": {},
   "outputs": [],
   "source": [
    "# ds1 = pd.Series([PAY_AMT1, PAY_AMT2, PAY_AMT3, PAY_AMT4, PAY_AMT5, PAY_AMT6])\n",
    "# ds2 = pd.Series([BILL_AMT1, BILL_AMT2, BILL_AMT3, BILL_AMT4, BILL_AMT5, BILL_AMT6])\n",
    "# Outstanding_Bal = ds2 - ds1\n",
    "\n",
    "# print(Outstanding_Bal)"
   ]
  },
  {
   "cell_type": "code",
   "execution_count": null,
   "metadata": {},
   "outputs": [],
   "source": [
    "# Load libraries\n",
    "\n",
    "from sklearn.tree import DecisionTreeClassifier # Import Decision Tree Classifier\n",
    "from sklearn.model_selection import train_test_split # Import train_test_split function\n",
    "from sklearn import metrics #Import scikit-learn metrics module for accuracy calculation"
   ]
  },
  {
   "cell_type": "code",
   "execution_count": null,
   "metadata": {},
   "outputs": [],
   "source": [
    "# divided columns into two types of variables - target variable (y) and feature variables (X).\n",
    "X = df.drop(columns=\"Y\")\n",
    "y = df.Y"
   ]
  },
  {
   "cell_type": "code",
   "execution_count": null,
   "metadata": {},
   "outputs": [],
   "source": [
    "X"
   ]
  },
  {
   "cell_type": "code",
   "execution_count": null,
   "metadata": {},
   "outputs": [],
   "source": [
    "# Split dataset into training set and test set\n",
    "# 70% training and 30% test\n",
    "\n",
    "X_train, X_test, y_train, y_test = train_test_split(X, y, test_size=0.3, random_state=2019) \n"
   ]
  },
  {
   "cell_type": "markdown",
   "metadata": {},
   "source": [
    "### Building Decision Tree Model\n",
    "Let's create a Decision Tree Model using `DecisionTreeClassifier` provided in `Scikit-learn`."
   ]
  },
  {
   "cell_type": "code",
   "execution_count": null,
   "metadata": {},
   "outputs": [],
   "source": [
    "# Create Decision Tree classifer object\n",
    "clf = DecisionTreeClassifier()\n",
    "\n",
    "# Train Decision Tree Classifer\n",
    "clf = clf.fit(X_train,y_train)\n",
    "\n",
    "#Predict the response for test dataset\n",
    "y_pred = clf.predict(X_test)"
   ]
  },
  {
   "cell_type": "markdown",
   "metadata": {},
   "source": [
    "### Evaluating Model\n",
    "Estimate, how accurately the classifier or model can predict the type of cultivars.\n",
    "\n",
    "Accuracy can be computed by comparing actual test set values (y_test) and predicted values (y_pred)."
   ]
  },
  {
   "cell_type": "code",
   "execution_count": null,
   "metadata": {},
   "outputs": [],
   "source": [
    "# Model Accuracy, how often is the classifier correct?\n",
    "print(\"Accuracy:\",metrics.accuracy_score(y_test, y_pred))"
   ]
  },
  {
   "cell_type": "code",
   "execution_count": null,
   "metadata": {},
   "outputs": [],
   "source": [
    "# created new column OUTSTANDING_BAL for each month\n",
    "\n",
    "df[\"OUTSTANDING_BAL1\"] = (df.BILL_AMT1 - df.PAY_AMT1)\n",
    "df[\"OUTSTANDING_BAL2\"] = (df.BILL_AMT2 - df.PAY_AMT2)\n",
    "df[\"OUTSTANDING_BAL3\"] = (df.BILL_AMT3 - df.PAY_AMT3)\n",
    "df[\"OUTSTANDING_BAL4\"] = (df.BILL_AMT4 - df.PAY_AMT4)\n",
    "df[\"OUTSTANDING_BAL5\"] = (df.BILL_AMT5 - df.PAY_AMT5)\n",
    "df[\"OUTSTANDING_BAL6\"] = (df.BILL_AMT6 - df.PAY_AMT6)\n",
    "\n",
    "df.head(5)"
   ]
  },
  {
   "cell_type": "code",
   "execution_count": null,
   "metadata": {},
   "outputs": [],
   "source": [
    "# created new column %_LIMIT_BAL for each month\n",
    "\n",
    "df[\"%_LIMIT_BAL1\"] = (df.OUTSTANDING_BAL1 / df.LIMIT_BAL)\n",
    "df[\"%_LIMIT_BAL2\"] = (df.OUTSTANDING_BAL2 / df.LIMIT_BAL)\n",
    "df[\"%_LIMIT_BAL3\"] = (df.OUTSTANDING_BAL3 / df.LIMIT_BAL)\n",
    "df[\"%_LIMIT_BAL4\"] = (df.OUTSTANDING_BAL4 / df.LIMIT_BAL)\n",
    "df[\"%_LIMIT_BAL5\"] = (df.OUTSTANDING_BAL5 / df.LIMIT_BAL)\n",
    "df[\"%_LIMIT_BAL6\"] = (df.OUTSTANDING_BAL6 / df.LIMIT_BAL)\n",
    "\n",
    "\n",
    "df.head(5)"
   ]
  },
  {
   "cell_type": "code",
   "execution_count": null,
   "metadata": {},
   "outputs": [],
   "source": [
    "df.info()"
   ]
  },
  {
   "cell_type": "code",
   "execution_count": null,
   "metadata": {},
   "outputs": [],
   "source": [
    "from sklearn.tree import export_graphviz\n",
    "from sklearn.externals.six import StringIO  \n",
    "from IPython.display import Image  \n",
    "import pydotplus\n",
    "\n",
    "dot_data = StringIO()\n",
    "export_graphviz(clf, out_file=dot_data,  \n",
    "                filled=True, rounded=True,\n",
    "                special_characters=True,feature_names = X.columns, class_names=['0','1']) \n",
    "graph = pydotplus.graph_from_dot_data(dot_data.getvalue())  \n",
    "graph.write_png('credit_card.png')\n",
    "Image(graph.create_png())"
   ]
  },
  {
   "cell_type": "code",
   "execution_count": null,
   "metadata": {},
   "outputs": [],
   "source": [
    "# divided columns into two types of variables - target variable (y) and feature variables (X).\n",
    "X = df.drop(columns=[\"BILL_AMT1\", \"BILL_AMT2\", \"BILL_AMT3\", \"BILL_AMT4\", \"BILL_AMT5\", \"BILL_AMT6\", \"PAY_AMT1\", \"PAY_AMT2\",\"PAY_AMT3\",\"PAY_AMT4\",\"PAY_AMT5\",\"PAY_AMT6\", \"Y\"])\n",
    "y = df.Y"
   ]
  },
  {
   "cell_type": "code",
   "execution_count": null,
   "metadata": {},
   "outputs": [],
   "source": [
    "X.columns"
   ]
  },
  {
   "cell_type": "code",
   "execution_count": null,
   "metadata": {},
   "outputs": [],
   "source": [
    "# Split dataset into training set and test set\n",
    "# 70% training and 30% test\n",
    "\n",
    "X_train, X_test, y_train, y_test = train_test_split(X, y, test_size=0.3, random_state=2019) \n"
   ]
  },
  {
   "cell_type": "markdown",
   "metadata": {},
   "source": [
    "### Building Decision Tree Model\n",
    "Let's create a Decision Tree Model using `DecisionTreeClassifier` provided in `Scikit-learn`."
   ]
  },
  {
   "cell_type": "code",
   "execution_count": null,
   "metadata": {},
   "outputs": [],
   "source": [
    "# Create Decision Tree classifer object\n",
    "clf = DecisionTreeClassifier()\n",
    "\n",
    "# Train Decision Tree Classifer\n",
    "clf = clf.fit(X_train,y_train)\n",
    "\n",
    "#Predict the response for test dataset\n",
    "y_pred = clf.predict(X_test)"
   ]
  },
  {
   "cell_type": "markdown",
   "metadata": {},
   "source": [
    "### Evaluating Model\n",
    "Estimate, how accurately the classifier or model can predict the type of cultivars.\n",
    "\n",
    "Accuracy can be computed by comparing actual test set values (y_test) and predicted values (y_pred)."
   ]
  },
  {
   "cell_type": "code",
   "execution_count": null,
   "metadata": {},
   "outputs": [],
   "source": [
    "# Model Accuracy, how often is the classifier correct?\n",
    "print(\"Accuracy:\",metrics.accuracy_score(y_test, y_pred))"
   ]
  },
  {
   "cell_type": "code",
   "execution_count": null,
   "metadata": {},
   "outputs": [],
   "source": []
  },
  {
   "cell_type": "code",
   "execution_count": null,
   "metadata": {},
   "outputs": [],
   "source": [
    "# divided columns into two types of variables - target variable (y) and feature variables (X).\n",
    "X = df.drop(columns=['PAY_0', 'PAY_2',\n",
    "       'PAY_3', 'PAY_4', 'PAY_5', 'PAY_6', 'OUTSTANDING_BAL1',\n",
    "       'OUTSTANDING_BAL2', 'OUTSTANDING_BAL3', 'OUTSTANDING_BAL4',\n",
    "       'OUTSTANDING_BAL5', 'OUTSTANDING_BAL6', \"BILL_AMT1\", \"BILL_AMT2\", \"BILL_AMT3\", \"BILL_AMT4\", \"BILL_AMT5\", \"BILL_AMT6\", \"PAY_AMT1\", \"PAY_AMT2\",\"PAY_AMT3\",\"PAY_AMT4\",\"PAY_AMT5\",\"PAY_AMT6\", \"Y\"])\n",
    "y = df.Y"
   ]
  },
  {
   "cell_type": "code",
   "execution_count": null,
   "metadata": {},
   "outputs": [],
   "source": [
    "X.columns"
   ]
  },
  {
   "cell_type": "code",
   "execution_count": null,
   "metadata": {},
   "outputs": [],
   "source": [
    "# Split dataset into training set and test set\n",
    "# 70% training and 30% test\n",
    "\n",
    "X_train, X_test, y_train, y_test = train_test_split(X, y, test_size=0.3, random_state=2019) \n"
   ]
  },
  {
   "cell_type": "markdown",
   "metadata": {},
   "source": [
    "### Building Decision Tree Model\n",
    "Let's create a Decision Tree Model using `DecisionTreeClassifier` provided in `Scikit-learn`."
   ]
  },
  {
   "cell_type": "code",
   "execution_count": null,
   "metadata": {},
   "outputs": [],
   "source": [
    "# Create Decision Tree classifer object\n",
    "clf = DecisionTreeClassifier()\n",
    "\n",
    "# Train Decision Tree Classifer\n",
    "clf = clf.fit(X_train,y_train)\n",
    "\n",
    "#Predict the response for test dataset\n",
    "y_pred = clf.predict(X_test)"
   ]
  },
  {
   "cell_type": "markdown",
   "metadata": {},
   "source": [
    "### Evaluating Model\n",
    "Estimate, how accurately the classifier or model can predict the type of cultivars.\n",
    "\n",
    "Accuracy can be computed by comparing actual test set values (y_test) and predicted values (y_pred)."
   ]
  },
  {
   "cell_type": "code",
   "execution_count": null,
   "metadata": {},
   "outputs": [],
   "source": [
    "# Model Accuracy, how often is the classifier correct?\n",
    "print(\"Accuracy:\",metrics.accuracy_score(y_test, y_pred))"
   ]
  },
  {
   "cell_type": "markdown",
   "metadata": {},
   "source": [
    "## Results\n",
    "Creating calculated columns for Increasing outstanding balance per month column and Outstanding Bal had no meaningful effect and removing the repayment status, outstanding balance, bill amount lowered the accuracy by about a half percent\n"
   ]
  },
  {
   "cell_type": "code",
   "execution_count": null,
   "metadata": {},
   "outputs": [],
   "source": []
  }
 ],
 "metadata": {
  "kernelspec": {
   "display_name": "Python 3",
   "language": "python",
   "name": "python3"
  },
  "language_info": {
   "codemirror_mode": {
    "name": "ipython",
    "version": 3
   },
   "file_extension": ".py",
   "mimetype": "text/x-python",
   "name": "python",
   "nbconvert_exporter": "python",
   "pygments_lexer": "ipython3",
   "version": "3.6.7"
  }
 },
 "nbformat": 4,
 "nbformat_minor": 2
}
