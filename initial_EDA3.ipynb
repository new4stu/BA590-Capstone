{
 "cells": [
  {
   "cell_type": "markdown",
   "metadata": {},
   "source": [
    "## Initial EDA\n",
    "\n",
    "load in the data and first look at our target variable\n"
   ]
  },
  {
   "cell_type": "code",
   "execution_count": 1,
   "metadata": {},
   "outputs": [],
   "source": [
    "import pandas as pd\n",
    "import numpy as np\n",
    "import sklearn\n",
    "import matplotlib.pyplot as plt\n",
    "import seaborn as sns\n",
    "sns.set()\n",
    "%matplotlib inline\n",
    "\n",
    "from sklearn.tree import DecisionTreeClassifier                          # Import Decision Tree Classifier\n",
    "from sklearn.model_selection import train_test_split                     # Import train_test_split function from sklearn\n",
    "from sklearn import metrics                                              #Import scikit-learn metrics module for accuracy calculation"
   ]
  },
  {
   "cell_type": "code",
   "execution_count": 20,
   "metadata": {},
   "outputs": [
    {
     "ename": "ValueError",
     "evalue": "Length mismatch: Expected axis has 37 elements, new values have 36 elements",
     "output_type": "error",
     "traceback": [
      "\u001b[0;31m---------------------------------------------------------------------------\u001b[0m",
      "\u001b[0;31mValueError\u001b[0m                                Traceback (most recent call last)",
      "\u001b[0;32m<ipython-input-20-8bac211c268f>\u001b[0m in \u001b[0;36m<module>\u001b[0;34m\u001b[0m\n\u001b[1;32m     22\u001b[0m                                                                                 \u001b[0;34m'Asian Race'\u001b[0m \u001b[0;34m,\u001b[0m \u001b[0;34m'Pacific Islander Race'\u001b[0m \u001b[0;34m,\u001b[0m \u001b[0;34m'Other Race Alone'\u001b[0m \u001b[0;34m,\u001b[0m \u001b[0;34m'Hispanic or Latino'\u001b[0m \u001b[0;34m,\u001b[0m\u001b[0;34m\u001b[0m\u001b[0;34m\u001b[0m\u001b[0m\n\u001b[1;32m     23\u001b[0m                                                                                 \u001b[0;34m'Median Age,Male Median Age'\u001b[0m \u001b[0;34m,\u001b[0m \u001b[0;34m'Female Median Age'\u001b[0m\u001b[0;34m,\u001b[0m \u001b[0;34m'Total Households'\u001b[0m \u001b[0;34m,\u001b[0m \u001b[0;34m'Average Household Size'\u001b[0m \u001b[0;34m,\u001b[0m\u001b[0;34m\u001b[0m\u001b[0;34m\u001b[0m\u001b[0m\n\u001b[0;32m---> 24\u001b[0;31m                                                                                 'Total Families' , 'state code' , 'zip code'])\n\u001b[0m\u001b[1;32m     25\u001b[0m \u001b[0;31m#df = pd.read_excel('Full_Datav6_zip_extractt.xls', skiprows=1, names=['1'])\u001b[0m\u001b[0;34m\u001b[0m\u001b[0;34m\u001b[0m\u001b[0;34m\u001b[0m\u001b[0m\n\u001b[1;32m     26\u001b[0m                                                                 \u001b[0;31m#      ,2,3,4,5,6,7,8,9,10,11,12,13,14,15,16,17,18,19,20,21,22,23,24,25,26,27,28,29,30,31,32,33,34,35,36,37'])\u001b[0m\u001b[0;34m\u001b[0m\u001b[0;34m\u001b[0m\u001b[0;34m\u001b[0m\u001b[0m\n",
      "\u001b[0;32m/opt/tljh/user/lib/python3.6/site-packages/pandas/util/_decorators.py\u001b[0m in \u001b[0;36mwrapper\u001b[0;34m(*args, **kwargs)\u001b[0m\n\u001b[1;32m    176\u001b[0m                 \u001b[0;32melse\u001b[0m\u001b[0;34m:\u001b[0m\u001b[0;34m\u001b[0m\u001b[0;34m\u001b[0m\u001b[0m\n\u001b[1;32m    177\u001b[0m                     \u001b[0mkwargs\u001b[0m\u001b[0;34m[\u001b[0m\u001b[0mnew_arg_name\u001b[0m\u001b[0;34m]\u001b[0m \u001b[0;34m=\u001b[0m \u001b[0mnew_arg_value\u001b[0m\u001b[0;34m\u001b[0m\u001b[0;34m\u001b[0m\u001b[0m\n\u001b[0;32m--> 178\u001b[0;31m             \u001b[0;32mreturn\u001b[0m \u001b[0mfunc\u001b[0m\u001b[0;34m(\u001b[0m\u001b[0;34m*\u001b[0m\u001b[0margs\u001b[0m\u001b[0;34m,\u001b[0m \u001b[0;34m**\u001b[0m\u001b[0mkwargs\u001b[0m\u001b[0;34m)\u001b[0m\u001b[0;34m\u001b[0m\u001b[0;34m\u001b[0m\u001b[0m\n\u001b[0m\u001b[1;32m    179\u001b[0m         \u001b[0;32mreturn\u001b[0m \u001b[0mwrapper\u001b[0m\u001b[0;34m\u001b[0m\u001b[0;34m\u001b[0m\u001b[0m\n\u001b[1;32m    180\u001b[0m     \u001b[0;32mreturn\u001b[0m \u001b[0m_deprecate_kwarg\u001b[0m\u001b[0;34m\u001b[0m\u001b[0;34m\u001b[0m\u001b[0m\n",
      "\u001b[0;32m/opt/tljh/user/lib/python3.6/site-packages/pandas/util/_decorators.py\u001b[0m in \u001b[0;36mwrapper\u001b[0;34m(*args, **kwargs)\u001b[0m\n\u001b[1;32m    176\u001b[0m                 \u001b[0;32melse\u001b[0m\u001b[0;34m:\u001b[0m\u001b[0;34m\u001b[0m\u001b[0;34m\u001b[0m\u001b[0m\n\u001b[1;32m    177\u001b[0m                     \u001b[0mkwargs\u001b[0m\u001b[0;34m[\u001b[0m\u001b[0mnew_arg_name\u001b[0m\u001b[0;34m]\u001b[0m \u001b[0;34m=\u001b[0m \u001b[0mnew_arg_value\u001b[0m\u001b[0;34m\u001b[0m\u001b[0;34m\u001b[0m\u001b[0m\n\u001b[0;32m--> 178\u001b[0;31m             \u001b[0;32mreturn\u001b[0m \u001b[0mfunc\u001b[0m\u001b[0;34m(\u001b[0m\u001b[0;34m*\u001b[0m\u001b[0margs\u001b[0m\u001b[0;34m,\u001b[0m \u001b[0;34m**\u001b[0m\u001b[0mkwargs\u001b[0m\u001b[0;34m)\u001b[0m\u001b[0;34m\u001b[0m\u001b[0;34m\u001b[0m\u001b[0m\n\u001b[0m\u001b[1;32m    179\u001b[0m         \u001b[0;32mreturn\u001b[0m \u001b[0mwrapper\u001b[0m\u001b[0;34m\u001b[0m\u001b[0;34m\u001b[0m\u001b[0m\n\u001b[1;32m    180\u001b[0m     \u001b[0;32mreturn\u001b[0m \u001b[0m_deprecate_kwarg\u001b[0m\u001b[0;34m\u001b[0m\u001b[0;34m\u001b[0m\u001b[0m\n",
      "\u001b[0;32m/opt/tljh/user/lib/python3.6/site-packages/pandas/io/excel.py\u001b[0m in \u001b[0;36mread_excel\u001b[0;34m(io, sheet_name, header, names, index_col, usecols, squeeze, dtype, engine, converters, true_values, false_values, skiprows, nrows, na_values, parse_dates, date_parser, thousands, comment, skipfooter, convert_float, **kwds)\u001b[0m\n\u001b[1;32m    327\u001b[0m         \u001b[0mskipfooter\u001b[0m\u001b[0;34m=\u001b[0m\u001b[0mskipfooter\u001b[0m\u001b[0;34m,\u001b[0m\u001b[0;34m\u001b[0m\u001b[0;34m\u001b[0m\u001b[0m\n\u001b[1;32m    328\u001b[0m         \u001b[0mconvert_float\u001b[0m\u001b[0;34m=\u001b[0m\u001b[0mconvert_float\u001b[0m\u001b[0;34m,\u001b[0m\u001b[0;34m\u001b[0m\u001b[0;34m\u001b[0m\u001b[0m\n\u001b[0;32m--> 329\u001b[0;31m         **kwds)\n\u001b[0m\u001b[1;32m    330\u001b[0m \u001b[0;34m\u001b[0m\u001b[0m\n\u001b[1;32m    331\u001b[0m \u001b[0;34m\u001b[0m\u001b[0m\n",
      "\u001b[0;32m/opt/tljh/user/lib/python3.6/site-packages/pandas/io/excel.py\u001b[0m in \u001b[0;36mparse\u001b[0;34m(self, sheet_name, header, names, index_col, usecols, squeeze, converters, true_values, false_values, skiprows, nrows, na_values, parse_dates, date_parser, thousands, comment, skipfooter, convert_float, **kwds)\u001b[0m\n\u001b[1;32m    454\u001b[0m                                  \u001b[0mskipfooter\u001b[0m\u001b[0;34m=\u001b[0m\u001b[0mskipfooter\u001b[0m\u001b[0;34m,\u001b[0m\u001b[0;34m\u001b[0m\u001b[0;34m\u001b[0m\u001b[0m\n\u001b[1;32m    455\u001b[0m                                  \u001b[0mconvert_float\u001b[0m\u001b[0;34m=\u001b[0m\u001b[0mconvert_float\u001b[0m\u001b[0;34m,\u001b[0m\u001b[0;34m\u001b[0m\u001b[0;34m\u001b[0m\u001b[0m\n\u001b[0;32m--> 456\u001b[0;31m                                  **kwds)\n\u001b[0m\u001b[1;32m    457\u001b[0m \u001b[0;34m\u001b[0m\u001b[0m\n\u001b[1;32m    458\u001b[0m     \u001b[0;32mdef\u001b[0m \u001b[0m_should_parse\u001b[0m\u001b[0;34m(\u001b[0m\u001b[0mself\u001b[0m\u001b[0;34m,\u001b[0m \u001b[0mi\u001b[0m\u001b[0;34m,\u001b[0m \u001b[0musecols\u001b[0m\u001b[0;34m)\u001b[0m\u001b[0;34m:\u001b[0m\u001b[0;34m\u001b[0m\u001b[0;34m\u001b[0m\u001b[0m\n",
      "\u001b[0;32m/opt/tljh/user/lib/python3.6/site-packages/pandas/io/excel.py\u001b[0m in \u001b[0;36m_parse_excel\u001b[0;34m(self, sheet_name, header, names, index_col, usecols, squeeze, dtype, true_values, false_values, skiprows, nrows, na_values, verbose, parse_dates, date_parser, thousands, comment, skipfooter, convert_float, **kwds)\u001b[0m\n\u001b[1;32m    687\u001b[0m                 \u001b[0moutput\u001b[0m\u001b[0;34m[\u001b[0m\u001b[0masheetname\u001b[0m\u001b[0;34m]\u001b[0m \u001b[0;34m=\u001b[0m \u001b[0mparser\u001b[0m\u001b[0;34m.\u001b[0m\u001b[0mread\u001b[0m\u001b[0;34m(\u001b[0m\u001b[0mnrows\u001b[0m\u001b[0;34m=\u001b[0m\u001b[0mnrows\u001b[0m\u001b[0;34m)\u001b[0m\u001b[0;34m\u001b[0m\u001b[0;34m\u001b[0m\u001b[0m\n\u001b[1;32m    688\u001b[0m                 \u001b[0;32mif\u001b[0m \u001b[0mnames\u001b[0m \u001b[0;32mis\u001b[0m \u001b[0;32mnot\u001b[0m \u001b[0;32mNone\u001b[0m\u001b[0;34m:\u001b[0m\u001b[0;34m\u001b[0m\u001b[0;34m\u001b[0m\u001b[0m\n\u001b[0;32m--> 689\u001b[0;31m                     \u001b[0moutput\u001b[0m\u001b[0;34m[\u001b[0m\u001b[0masheetname\u001b[0m\u001b[0;34m]\u001b[0m\u001b[0;34m.\u001b[0m\u001b[0mcolumns\u001b[0m \u001b[0;34m=\u001b[0m \u001b[0mnames\u001b[0m\u001b[0;34m\u001b[0m\u001b[0;34m\u001b[0m\u001b[0m\n\u001b[0m\u001b[1;32m    690\u001b[0m                 \u001b[0;32mif\u001b[0m \u001b[0;32mnot\u001b[0m \u001b[0msqueeze\u001b[0m \u001b[0;32mor\u001b[0m \u001b[0misinstance\u001b[0m\u001b[0;34m(\u001b[0m\u001b[0moutput\u001b[0m\u001b[0;34m[\u001b[0m\u001b[0masheetname\u001b[0m\u001b[0;34m]\u001b[0m\u001b[0;34m,\u001b[0m \u001b[0mDataFrame\u001b[0m\u001b[0;34m)\u001b[0m\u001b[0;34m:\u001b[0m\u001b[0;34m\u001b[0m\u001b[0;34m\u001b[0m\u001b[0m\n\u001b[1;32m    691\u001b[0m                     output[asheetname].columns = output[\n",
      "\u001b[0;32m/opt/tljh/user/lib/python3.6/site-packages/pandas/core/generic.py\u001b[0m in \u001b[0;36m__setattr__\u001b[0;34m(self, name, value)\u001b[0m\n\u001b[1;32m   4387\u001b[0m         \u001b[0;32mtry\u001b[0m\u001b[0;34m:\u001b[0m\u001b[0;34m\u001b[0m\u001b[0;34m\u001b[0m\u001b[0m\n\u001b[1;32m   4388\u001b[0m             \u001b[0mobject\u001b[0m\u001b[0;34m.\u001b[0m\u001b[0m__getattribute__\u001b[0m\u001b[0;34m(\u001b[0m\u001b[0mself\u001b[0m\u001b[0;34m,\u001b[0m \u001b[0mname\u001b[0m\u001b[0;34m)\u001b[0m\u001b[0;34m\u001b[0m\u001b[0;34m\u001b[0m\u001b[0m\n\u001b[0;32m-> 4389\u001b[0;31m             \u001b[0;32mreturn\u001b[0m \u001b[0mobject\u001b[0m\u001b[0;34m.\u001b[0m\u001b[0m__setattr__\u001b[0m\u001b[0;34m(\u001b[0m\u001b[0mself\u001b[0m\u001b[0;34m,\u001b[0m \u001b[0mname\u001b[0m\u001b[0;34m,\u001b[0m \u001b[0mvalue\u001b[0m\u001b[0;34m)\u001b[0m\u001b[0;34m\u001b[0m\u001b[0;34m\u001b[0m\u001b[0m\n\u001b[0m\u001b[1;32m   4390\u001b[0m         \u001b[0;32mexcept\u001b[0m \u001b[0mAttributeError\u001b[0m\u001b[0;34m:\u001b[0m\u001b[0;34m\u001b[0m\u001b[0;34m\u001b[0m\u001b[0m\n\u001b[1;32m   4391\u001b[0m             \u001b[0;32mpass\u001b[0m\u001b[0;34m\u001b[0m\u001b[0;34m\u001b[0m\u001b[0m\n",
      "\u001b[0;32mpandas/_libs/properties.pyx\u001b[0m in \u001b[0;36mpandas._libs.properties.AxisProperty.__set__\u001b[0;34m()\u001b[0m\n",
      "\u001b[0;32m/opt/tljh/user/lib/python3.6/site-packages/pandas/core/generic.py\u001b[0m in \u001b[0;36m_set_axis\u001b[0;34m(self, axis, labels)\u001b[0m\n\u001b[1;32m    644\u001b[0m \u001b[0;34m\u001b[0m\u001b[0m\n\u001b[1;32m    645\u001b[0m     \u001b[0;32mdef\u001b[0m \u001b[0m_set_axis\u001b[0m\u001b[0;34m(\u001b[0m\u001b[0mself\u001b[0m\u001b[0;34m,\u001b[0m \u001b[0maxis\u001b[0m\u001b[0;34m,\u001b[0m \u001b[0mlabels\u001b[0m\u001b[0;34m)\u001b[0m\u001b[0;34m:\u001b[0m\u001b[0;34m\u001b[0m\u001b[0;34m\u001b[0m\u001b[0m\n\u001b[0;32m--> 646\u001b[0;31m         \u001b[0mself\u001b[0m\u001b[0;34m.\u001b[0m\u001b[0m_data\u001b[0m\u001b[0;34m.\u001b[0m\u001b[0mset_axis\u001b[0m\u001b[0;34m(\u001b[0m\u001b[0maxis\u001b[0m\u001b[0;34m,\u001b[0m \u001b[0mlabels\u001b[0m\u001b[0;34m)\u001b[0m\u001b[0;34m\u001b[0m\u001b[0;34m\u001b[0m\u001b[0m\n\u001b[0m\u001b[1;32m    647\u001b[0m         \u001b[0mself\u001b[0m\u001b[0;34m.\u001b[0m\u001b[0m_clear_item_cache\u001b[0m\u001b[0;34m(\u001b[0m\u001b[0;34m)\u001b[0m\u001b[0;34m\u001b[0m\u001b[0;34m\u001b[0m\u001b[0m\n\u001b[1;32m    648\u001b[0m \u001b[0;34m\u001b[0m\u001b[0m\n",
      "\u001b[0;32m/opt/tljh/user/lib/python3.6/site-packages/pandas/core/internals.py\u001b[0m in \u001b[0;36mset_axis\u001b[0;34m(self, axis, new_labels)\u001b[0m\n\u001b[1;32m   3321\u001b[0m             raise ValueError(\n\u001b[1;32m   3322\u001b[0m                 \u001b[0;34m'Length mismatch: Expected axis has {old} elements, new '\u001b[0m\u001b[0;34m\u001b[0m\u001b[0;34m\u001b[0m\u001b[0m\n\u001b[0;32m-> 3323\u001b[0;31m                 'values have {new} elements'.format(old=old_len, new=new_len))\n\u001b[0m\u001b[1;32m   3324\u001b[0m \u001b[0;34m\u001b[0m\u001b[0m\n\u001b[1;32m   3325\u001b[0m         \u001b[0mself\u001b[0m\u001b[0;34m.\u001b[0m\u001b[0maxes\u001b[0m\u001b[0;34m[\u001b[0m\u001b[0maxis\u001b[0m\u001b[0;34m]\u001b[0m \u001b[0;34m=\u001b[0m \u001b[0mnew_labels\u001b[0m\u001b[0;34m\u001b[0m\u001b[0;34m\u001b[0m\u001b[0m\n",
      "\u001b[0;31mValueError\u001b[0m: Length mismatch: Expected axis has 37 elements, new values have 36 elements"
     ]
    }
   ],
   "source": [
    "#df = pd.read_excel('Full_Datav6_zip_extract.xls', header=None)\n",
    "#df = pd.read_excel('Full_Datav5.xlsx', header=0)\n",
    "#df = pd.read_csv('Full_Datav5.csv', header=0)\n",
    "\n",
    "\n",
    "\n",
    "#y = df['Y']\n",
    "#y = df.Y\n",
    "\n",
    "#df.head()\n",
    "\n",
    "#df = pd.read_excel('Full_Datav4.xls', header=0)\n",
    "#df = pd.read_excel('Full_Datav6_zip_extract.xls', header=None)\n",
    "df = pd.read_excel('Full_Datav6_zip_extractt.xls', header=0, skiprows=0, names=['Households SNAP' , 'Estimated Individuals SNAP' , 'SNAP percent Population' , \n",
    "                                                                                'SNAP Per Capita Benefit or TAM' , 'Total Citizen Educated in US' , \n",
    "                                                                                'Citizen Less than High School Education' , 'Citizen High School  Graduate' , \n",
    "                                                                                'Citizen Some College Education' , 'Citizen College Degree'  , 'Citizen Graduate or Professional Degree',\n",
    "                                                                                'Total Citizen Income' , 'Citizen No Income' , 'Citizen Income 1-9999' , 'Citizen Income 10000-14999' , \n",
    "                                                                                'Citizen Income 15000-24999' , 'Citizen Income 25000-34999' , 'Citizen Income 35000-49999' , \n",
    "                                                                                'Citizen Income 50000-64999' , 'Citizen Income 65000-74999' , 'Citizen Income 75000 plus'  , \n",
    "                                                                                'Total Population' , 'One Race Population' , 'White Race' , 'Black Race' , 'Native American Race' , \n",
    "                                                                                'Asian Race' , 'Pacific Islander Race' , 'Other Race Alone' , 'Hispanic or Latino' ,\n",
    "                                                                                'Median Age', 'Male Median Age' , 'Female Median Age', 'Total Households' , 'Average Household Size' , \n",
    "                                                                                'Total Families' , 'state code' , 'zip code'])\n",
    "\n",
    " Households SNAP , Estimated Individuals SNAP , SNAP percent Population , \n",
    "    SNAP Per Capita Benefit or TAM , Total Citizen Educated in US , \n",
    "    Citizen Less than High School  Education , Citizen High School  Graduate , \n",
    "    Citizen Some College  Education , Citizen College Degree  , Citizen Graduate or Professional Degree , \n",
    "    Total Citizen Income , Citizen No Income , Citizen Income 1-9999 , Citizen Income 10000-14999 , \n",
    "    Citizen Income 15000-24999 , Citizen Income 25000-34999 , Citizen Income 35000-49999 , \n",
    "    Citizen Income 50000-64999 , Citizen Income 65000-74999 , Citizen Income 75000 plus  , \n",
    "    Total Population , One Race Population , White Race , Black Race , Native American Race , \n",
    "    Asian Race , Pacific Islander Race , Other Race Alone , Hispanic or Latino ,\n",
    "    Median Age,Male Median Age , Female Median Age, Total Households , Average Household Size , Total Families , state code , zip code\n",
    "#df = pd.read_excel('Full_Datav6_zip_extractt.xls', skiprows=1, names=['1'])\n",
    "                                                                #      ,2,3,4,5,6,7,8,9,10,11,12,13,14,15,16,17,18,19,20,21,22,23,24,25,26,27,28,29,30,31,32,33,34,35,36,37'])\n",
    "\n",
    "#df = pd.read_csv('Full_Datav6_zip_extracttf.csv')\n",
    "\n",
    "#df = pd.read_excel('Full_Datav4.xls', header=None)\n",
    "\n",
    "\n",
    "df.columns = df.iloc[0,:]\n",
    "\n",
    "#df.rename(index=str, columns={\"SNAP Per Capita Benefit or TAM\": \"Y\"}, inplace=True)\n",
    "\n",
    "#df.drop('ID', inplace=True, axis=0)\n",
    "\n",
    "#y = df[\"Y\"]\n",
    "#y = df.Y\n",
    "\n",
    "df.head()"
   ]
  },
  {
   "cell_type": "code",
   "execution_count": 14,
   "metadata": {},
   "outputs": [
    {
     "name": "stdout",
     "output_type": "stream",
     "text": [
      "<class 'pandas.core.frame.DataFrame'>\n",
      "RangeIndex: 32937 entries, 0 to 32936\n",
      "Data columns (total 37 columns):\n",
      "Households SNAP                             32937 non-null object\n",
      "Estimated Individuals SNAP                  32937 non-null object\n",
      "SNAP % Population                           32937 non-null object\n",
      "SNAP Per Capita Benefit or TAM              32937 non-null object\n",
      "Total Citizen Educated in US                32937 non-null object\n",
      "Citizen Less than High School  Education    32937 non-null object\n",
      "Citizen High School  Graduate               32937 non-null object\n",
      "Citizen Some College  Education             32937 non-null object\n",
      "Citizen College Degree                      32937 non-null object\n",
      "Citizen Graduate or Professional Degree     32937 non-null object\n",
      "Total Citizen Income                        32937 non-null object\n",
      "Citizen No Income                           32937 non-null object\n",
      "Citizen Income $1-$9,999                    32937 non-null object\n",
      "Citizen Income $10,000-$14,999              32937 non-null object\n",
      "Citizen Income $15,000-$24,999              32937 non-null object\n",
      "Citizen Income $25,000-$34,999              32937 non-null object\n",
      "Citizen Income $35,000-$49,999              32937 non-null object\n",
      "Citizen Income $50,000-$64,999              32937 non-null object\n",
      "Citizen Income $65,000-$74,999              32937 non-null object\n",
      "Citizen Income $75,000 +                    32937 non-null object\n",
      "Total Population                            32937 non-null object\n",
      "One Race Population                         32937 non-null object\n",
      "White Race                                  32937 non-null object\n",
      "Black Race                                  32937 non-null object\n",
      "Native American Race                        32937 non-null object\n",
      "Asian Race                                  32937 non-null object\n",
      "Pacific Islander Race                       32937 non-null object\n",
      "Other Race Alone                            32937 non-null object\n",
      "Hispanic or Latino                          32937 non-null object\n",
      "Median Age                                  32937 non-null object\n",
      "Male Median Age                             32937 non-null object\n",
      "Female Median Age                           32937 non-null object\n",
      "Total Households                            32937 non-null object\n",
      "Average Household Size                      32937 non-null object\n",
      "Total Families                              32937 non-null object\n",
      "state code                                  32937 non-null object\n",
      "zip code                                    32937 non-null object\n",
      "dtypes: object(37)\n",
      "memory usage: 9.3+ MB\n"
     ]
    }
   ],
   "source": [
    "df.info()"
   ]
  },
  {
   "cell_type": "code",
   "execution_count": null,
   "metadata": {},
   "outputs": [],
   "source": [
    "# create header row\n",
    "\n"
   ]
  },
  {
   "cell_type": "code",
   "execution_count": null,
   "metadata": {},
   "outputs": [],
   "source": [
    "# building features and re-naming target data Y\n",
    "\n",
    "df.rename(index=str, columns={\"SNAP Per Capita Benefit or TAM\": \"Y\"}, inplace=True)\n",
    "#df.drop('NAME', axis=1, inplace=True )\n",
    "#df = df.astype('float32')\n",
    "\n",
    "df.head()"
   ]
  },
  {
   "cell_type": "code",
   "execution_count": null,
   "metadata": {},
   "outputs": [],
   "source": [
    "#find out missing values\n",
    "names = []\n",
    "value = []\n",
    "for col in df.columns:\n",
    "    names.append(col)\n",
    "    value.append(df[col].isnull().sum())\n",
    "    print(\"number of missing values: \", names[-1], value[-1],\"\"\"     \"\"\", \"Percentage of missing values:\", names[-1], round((value[-1]/32936)*100))  \n",
    "    #print(\"number of missing values: \", names[-1], value[-1],\"\"\"     \"\"\", \"Percentage of missing values:\", names[-1], round((value[-1]/682)*100))  "
   ]
  },
  {
   "cell_type": "code",
   "execution_count": null,
   "metadata": {},
   "outputs": [],
   "source": [
    "#convert columns to numeric\n",
    "\n",
    "#df = pd.to_numeric\n",
    "#df = df.astype('float32')\n",
    "\n",
    "s = pd.Series(['Households SNAP', 'Estimated Individuals SNAP', 'SNAP % Population', 'SNAP Per Capita Benefit or TAM', 'Total Citizen Educated in US'])\n",
    "#               'Citizen Less than High School Education', 'Citizen High School Graduate', 'Citizen Some College Education', 'Citizen College Degree', \n",
    " #              'Citizen Graduate or Professional Degree', 'Total Citizen Income', 'Citizen No Income',  Citizen Income $1-$9,999 \t Citizen Income $10,000-$14,999 \t Citizen Income $15,000-$24,999 \t Citizen Income $25,000-$34,999 \t Citizen Income $35,000-$49,999 \t Citizen Income $50,000-$64,999 \t Citizen Income $65,000-$74,999 \t Citizen Income $75,000 +  \t Total Population \n",
    "#Other Race Alone\tHispanic or Latino\tMedian Age\tMale Median Age\tFemale Median Age\tTotal Households\tAverage Household Size\tTotal Families\tstate code\tzip code\n",
    "\n",
    "pd.to_numeric(s)\n",
    "\n",
    "\n",
    "               \n",
    "df.info()"
   ]
  },
  {
   "cell_type": "code",
   "execution_count": null,
   "metadata": {},
   "outputs": [],
   "source": [
    "df.info()"
   ]
  },
  {
   "cell_type": "code",
   "execution_count": null,
   "metadata": {},
   "outputs": [],
   "source": [
    "# All columns should be numeric except NAME. Converting to numeric and NAME to a string\n",
    "\n",
    "cols= i for i in df.columns if i not in [\"NAME\"]\n",
    "for col in cols:\n",
    "    df[col]=pd.to_numeric(df[col])\n",
    "      \n",
    "#cols=[i for i in df.columns if i not in [\"NAME\"]\n",
    "#for col in cols:\n",
    " #   df[col]=pd.to_numeric(df[col])"
   ]
  },
  {
   "cell_type": "code",
   "execution_count": null,
   "metadata": {},
   "outputs": [],
   "source": [
    "#split my data\n",
    "df = df.astype('float32')\n",
    "#X = df.drop(columns = 'Y')\n",
    "#y = df['Y']\n",
    "\n",
    "df.info()"
   ]
  },
  {
   "cell_type": "markdown",
   "metadata": {},
   "source": [
    "All of these columns should be columns should be numeric, so let's convert it all to numeric"
   ]
  },
  {
   "cell_type": "code",
   "execution_count": null,
   "metadata": {},
   "outputs": [],
   "source": [
    "df = df(NAME).astype('str')\n",
    "#df = df.astype('float32')\n",
    "#df = pd.DataFrame(NAME, dtype='str')\n",
    "#df = pd.DataFrame(X, dtype='float32')\n",
    "\n",
    "df.info()\n"
   ]
  },
  {
   "cell_type": "code",
   "execution_count": null,
   "metadata": {},
   "outputs": [],
   "source": [
    "df.info()"
   ]
  },
  {
   "cell_type": "markdown",
   "metadata": {},
   "source": [
    "## Let's look at the target variable."
   ]
  },
  {
   "cell_type": "code",
   "execution_count": null,
   "metadata": {},
   "outputs": [],
   "source": [
    "df.Y.value_counts().plot(kind='bar')"
   ]
  },
  {
   "cell_type": "markdown",
   "metadata": {},
   "source": [
    "There is some inbalance here, so we need to note to do some sort of imbalance handling later in the pipeline.\n",
    "\n",
    "Now let's look at some univariate plots to get a sense of what our features look like."
   ]
  },
  {
   "cell_type": "code",
   "execution_count": null,
   "metadata": {},
   "outputs": [],
   "source": [
    "df.columns"
   ]
  },
  {
   "cell_type": "code",
   "execution_count": null,
   "metadata": {},
   "outputs": [],
   "source": [
    "#create histograms for each variable\n",
    "#we'll group some of the columns together to make plotting easier\n",
    "\n",
    "df_group1 = df.iloc[:, 0:5]\n",
    "df_group1.plot(kind='density', subplots=True, layout=(3,2), sharex=False)\n",
    "plt.show()\n",
    "\n",
    "\n",
    "#df.hist()\n",
    "#plt.show()"
   ]
  },
  {
   "cell_type": "markdown",
   "metadata": {},
   "source": [
    "Some notes: LIMIT_BAL and AGE are approaching a gaussian shape, but both are somewhat rightly skewed. Both sex and Marriage are bimodal (obviously), and Education is trimodal, with the three most common values of 1, 2, 3, and a tiny amount of 4, and 5. Besides LIMIT_BAL, nothing particular about these features. \n",
    "\n",
    "Next, we'll look at the Payment history. Since the values in these features are categorical in nature, we'll use bar plots.\n"
   ]
  },
  {
   "cell_type": "code",
   "execution_count": null,
   "metadata": {},
   "outputs": [],
   "source": [
    "#create group\n",
    "df_pay_hist = df.iloc[:,5:11]\n",
    "\n",
    "fig, ax = plt.subplots(figsize = (10,8), sharex=True)\n",
    "\n",
    "\n",
    "plt.subplot(3,2,1)\n",
    "df['PAY_0'].value_counts().plot(kind='bar')\n",
    "\n",
    "plt.subplot(3,2,2)\n",
    "df['PAY_2'].value_counts().plot(kind='bar')\n",
    "\n",
    "plt.subplot(3,2,3)\n",
    "df['PAY_3'].value_counts().plot(kind='bar')\n",
    "\n",
    "plt.subplot(3,2,4)\n",
    "df['PAY_4'].value_counts().plot(kind='bar')\n",
    "\n",
    "plt.subplot(3,2,5)\n",
    "df['PAY_5'].value_counts().plot(kind='bar')\n",
    "\n",
    "plt.subplot(3,2,6)\n",
    "df['PAY_6'].value_counts().plot(kind='bar')\n",
    "\n",
    "\n",
    "\n"
   ]
  },
  {
   "cell_type": "markdown",
   "metadata": {},
   "source": [
    "Some notes: all the plots are pretty much the same. Values of 0 are the most common by a large amount, i.e. another instance of some class inbalance. Will have to handle as well. \n",
    "\n",
    "Next, look at the Bill amounts."
   ]
  },
  {
   "cell_type": "code",
   "execution_count": null,
   "metadata": {},
   "outputs": [],
   "source": [
    "df['BILL_AMT1'].plot(kind='hist', )"
   ]
  },
  {
   "cell_type": "code",
   "execution_count": null,
   "metadata": {},
   "outputs": [],
   "source": [
    "#create group\n",
    "ax, fig = plt.subplots(figsize = (10,8))\n",
    "bill_amts = df.iloc[:, 11:17]\n",
    "\n",
    "plt.subplot(3,2,1)\n",
    "bill_amts['BILL_AMT1'].hist(bins=25)\n",
    "\n",
    "plt.subplot(3,2,2)\n",
    "bill_amts['BILL_AMT2'].hist(bins=25)\n",
    "\n",
    "plt.subplot(3,2,3)\n",
    "bill_amts['BILL_AMT3'].hist(bins=25)\n",
    "\n",
    "plt.subplot(3,2,4)\n",
    "bill_amts['BILL_AMT4'].hist(bins=25)\n",
    "\n",
    "plt.subplot(3,2,5)\n",
    "bill_amts['BILL_AMT5'].hist(bins=25)\n",
    "\n",
    "plt.subplot(3,2,6)\n",
    "bill_amts['BILL_AMT6'].hist(bins=25)\n",
    "\n",
    "\n"
   ]
  },
  {
   "cell_type": "code",
   "execution_count": null,
   "metadata": {},
   "outputs": [],
   "source": [
    "# ds1 = pd.Series([PAY_AMT1, PAY_AMT2, PAY_AMT3, PAY_AMT4, PAY_AMT5, PAY_AMT6])\n",
    "# ds2 = pd.Series([BILL_AMT1, BILL_AMT2, BILL_AMT3, BILL_AMT4, BILL_AMT5, BILL_AMT6])\n",
    "# Outstanding_Bal = ds2 - ds1\n",
    "\n",
    "# print(Outstanding_Bal)"
   ]
  },
  {
   "cell_type": "code",
   "execution_count": null,
   "metadata": {},
   "outputs": [],
   "source": [
    "# Load libraries\n",
    "\n",
    "from sklearn.tree import DecisionTreeClassifier # Import Decision Tree Classifier\n",
    "from sklearn.model_selection import train_test_split # Import train_test_split function\n",
    "from sklearn import metrics #Import scikit-learn metrics module for accuracy calculation"
   ]
  },
  {
   "cell_type": "code",
   "execution_count": null,
   "metadata": {},
   "outputs": [],
   "source": [
    "# divided columns into two types of variables - target variable (y) and feature variables (X).\n",
    "X = df.drop(columns=\"Y\")\n",
    "y = df.Y"
   ]
  },
  {
   "cell_type": "code",
   "execution_count": null,
   "metadata": {},
   "outputs": [],
   "source": [
    "X"
   ]
  },
  {
   "cell_type": "code",
   "execution_count": null,
   "metadata": {},
   "outputs": [],
   "source": [
    "# Split dataset into training set and test set\n",
    "# 70% training and 30% test\n",
    "\n",
    "X_train, X_test, y_train, y_test = train_test_split(X, y, test_size=0.3, random_state=2019) \n"
   ]
  },
  {
   "cell_type": "markdown",
   "metadata": {},
   "source": [
    "### Building Decision Tree Model\n",
    "Let's create a Decision Tree Model using `DecisionTreeClassifier` provided in `Scikit-learn`."
   ]
  },
  {
   "cell_type": "code",
   "execution_count": null,
   "metadata": {},
   "outputs": [],
   "source": [
    "# Create Decision Tree classifer object\n",
    "clf = DecisionTreeClassifier()\n",
    "\n",
    "# Train Decision Tree Classifer\n",
    "clf = clf.fit(X_train,y_train)\n",
    "\n",
    "#Predict the response for test dataset\n",
    "y_pred = clf.predict(X_test)"
   ]
  },
  {
   "cell_type": "markdown",
   "metadata": {},
   "source": [
    "### Evaluating Model\n",
    "Estimate, how accurately the classifier or model can predict the type of cultivars.\n",
    "\n",
    "Accuracy can be computed by comparing actual test set values (y_test) and predicted values (y_pred)."
   ]
  },
  {
   "cell_type": "code",
   "execution_count": null,
   "metadata": {},
   "outputs": [],
   "source": [
    "# Model Accuracy, how often is the classifier correct?\n",
    "print(\"Accuracy:\",metrics.accuracy_score(y_test, y_pred))"
   ]
  },
  {
   "cell_type": "code",
   "execution_count": null,
   "metadata": {},
   "outputs": [],
   "source": [
    "# created new column OUTSTANDING_BAL for each month\n",
    "\n",
    "df[\"OUTSTANDING_BAL1\"] = (df.BILL_AMT1 - df.PAY_AMT1)\n",
    "df[\"OUTSTANDING_BAL2\"] = (df.BILL_AMT2 - df.PAY_AMT2)\n",
    "df[\"OUTSTANDING_BAL3\"] = (df.BILL_AMT3 - df.PAY_AMT3)\n",
    "df[\"OUTSTANDING_BAL4\"] = (df.BILL_AMT4 - df.PAY_AMT4)\n",
    "df[\"OUTSTANDING_BAL5\"] = (df.BILL_AMT5 - df.PAY_AMT5)\n",
    "df[\"OUTSTANDING_BAL6\"] = (df.BILL_AMT6 - df.PAY_AMT6)\n",
    "\n",
    "df.head(5)"
   ]
  },
  {
   "cell_type": "code",
   "execution_count": null,
   "metadata": {},
   "outputs": [],
   "source": [
    "# created new column %_LIMIT_BAL for each month\n",
    "\n",
    "df[\"%_LIMIT_BAL1\"] = (df.OUTSTANDING_BAL1 / df.LIMIT_BAL)\n",
    "df[\"%_LIMIT_BAL2\"] = (df.OUTSTANDING_BAL2 / df.LIMIT_BAL)\n",
    "df[\"%_LIMIT_BAL3\"] = (df.OUTSTANDING_BAL3 / df.LIMIT_BAL)\n",
    "df[\"%_LIMIT_BAL4\"] = (df.OUTSTANDING_BAL4 / df.LIMIT_BAL)\n",
    "df[\"%_LIMIT_BAL5\"] = (df.OUTSTANDING_BAL5 / df.LIMIT_BAL)\n",
    "df[\"%_LIMIT_BAL6\"] = (df.OUTSTANDING_BAL6 / df.LIMIT_BAL)\n",
    "\n",
    "\n",
    "df.head(5)"
   ]
  },
  {
   "cell_type": "code",
   "execution_count": null,
   "metadata": {},
   "outputs": [],
   "source": [
    "df.info()"
   ]
  },
  {
   "cell_type": "code",
   "execution_count": null,
   "metadata": {},
   "outputs": [],
   "source": [
    "from sklearn.tree import export_graphviz\n",
    "from sklearn.externals.six import StringIO  \n",
    "from IPython.display import Image  \n",
    "import pydotplus\n",
    "\n",
    "dot_data = StringIO()\n",
    "export_graphviz(clf, out_file=dot_data,  \n",
    "                filled=True, rounded=True,\n",
    "                special_characters=True,feature_names = X.columns, class_names=['0','1']) \n",
    "graph = pydotplus.graph_from_dot_data(dot_data.getvalue())  \n",
    "graph.write_png('credit_card.png')\n",
    "Image(graph.create_png())"
   ]
  },
  {
   "cell_type": "code",
   "execution_count": null,
   "metadata": {},
   "outputs": [],
   "source": [
    "# divided columns into two types of variables - target variable (y) and feature variables (X).\n",
    "X = df.drop(columns=[\"BILL_AMT1\", \"BILL_AMT2\", \"BILL_AMT3\", \"BILL_AMT4\", \"BILL_AMT5\", \"BILL_AMT6\", \"PAY_AMT1\", \"PAY_AMT2\",\"PAY_AMT3\",\"PAY_AMT4\",\"PAY_AMT5\",\"PAY_AMT6\", \"Y\"])\n",
    "y = df.Y"
   ]
  },
  {
   "cell_type": "code",
   "execution_count": null,
   "metadata": {},
   "outputs": [],
   "source": [
    "X.columns"
   ]
  },
  {
   "cell_type": "code",
   "execution_count": null,
   "metadata": {},
   "outputs": [],
   "source": [
    "# Split dataset into training set and test set\n",
    "# 70% training and 30% test\n",
    "\n",
    "X_train, X_test, y_train, y_test = train_test_split(X, y, test_size=0.3, random_state=2019) \n"
   ]
  },
  {
   "cell_type": "markdown",
   "metadata": {},
   "source": [
    "### Building Decision Tree Model\n",
    "Let's create a Decision Tree Model using `DecisionTreeClassifier` provided in `Scikit-learn`."
   ]
  },
  {
   "cell_type": "code",
   "execution_count": null,
   "metadata": {},
   "outputs": [],
   "source": [
    "# Create Decision Tree classifer object\n",
    "clf = DecisionTreeClassifier()\n",
    "\n",
    "# Train Decision Tree Classifer\n",
    "clf = clf.fit(X_train,y_train)\n",
    "\n",
    "#Predict the response for test dataset\n",
    "y_pred = clf.predict(X_test)"
   ]
  },
  {
   "cell_type": "markdown",
   "metadata": {},
   "source": [
    "### Evaluating Model\n",
    "Estimate, how accurately the classifier or model can predict the type of cultivars.\n",
    "\n",
    "Accuracy can be computed by comparing actual test set values (y_test) and predicted values (y_pred)."
   ]
  },
  {
   "cell_type": "code",
   "execution_count": null,
   "metadata": {},
   "outputs": [],
   "source": [
    "# Model Accuracy, how often is the classifier correct?\n",
    "print(\"Accuracy:\",metrics.accuracy_score(y_test, y_pred))"
   ]
  },
  {
   "cell_type": "code",
   "execution_count": null,
   "metadata": {},
   "outputs": [],
   "source": []
  },
  {
   "cell_type": "code",
   "execution_count": null,
   "metadata": {},
   "outputs": [],
   "source": [
    "# divided columns into two types of variables - target variable (y) and feature variables (X).\n",
    "X = df.drop(columns=['PAY_0', 'PAY_2',\n",
    "       'PAY_3', 'PAY_4', 'PAY_5', 'PAY_6', 'OUTSTANDING_BAL1',\n",
    "       'OUTSTANDING_BAL2', 'OUTSTANDING_BAL3', 'OUTSTANDING_BAL4',\n",
    "       'OUTSTANDING_BAL5', 'OUTSTANDING_BAL6', \"BILL_AMT1\", \"BILL_AMT2\", \"BILL_AMT3\", \"BILL_AMT4\", \"BILL_AMT5\", \"BILL_AMT6\", \"PAY_AMT1\", \"PAY_AMT2\",\"PAY_AMT3\",\"PAY_AMT4\",\"PAY_AMT5\",\"PAY_AMT6\", \"Y\"])\n",
    "y = df.Y"
   ]
  },
  {
   "cell_type": "code",
   "execution_count": null,
   "metadata": {},
   "outputs": [],
   "source": [
    "X.columns"
   ]
  },
  {
   "cell_type": "code",
   "execution_count": null,
   "metadata": {},
   "outputs": [],
   "source": [
    "# Split dataset into training set and test set\n",
    "# 70% training and 30% test\n",
    "\n",
    "X_train, X_test, y_train, y_test = train_test_split(X, y, test_size=0.3, random_state=2019) \n"
   ]
  },
  {
   "cell_type": "markdown",
   "metadata": {},
   "source": [
    "### Building Decision Tree Model\n",
    "Let's create a Decision Tree Model using `DecisionTreeClassifier` provided in `Scikit-learn`."
   ]
  },
  {
   "cell_type": "code",
   "execution_count": null,
   "metadata": {},
   "outputs": [],
   "source": [
    "# Create Decision Tree classifer object\n",
    "clf = DecisionTreeClassifier()\n",
    "\n",
    "# Train Decision Tree Classifer\n",
    "clf = clf.fit(X_train,y_train)\n",
    "\n",
    "#Predict the response for test dataset\n",
    "y_pred = clf.predict(X_test)"
   ]
  },
  {
   "cell_type": "markdown",
   "metadata": {},
   "source": [
    "### Evaluating Model\n",
    "Estimate, how accurately the classifier or model can predict the type of cultivars.\n",
    "\n",
    "Accuracy can be computed by comparing actual test set values (y_test) and predicted values (y_pred)."
   ]
  },
  {
   "cell_type": "code",
   "execution_count": null,
   "metadata": {},
   "outputs": [],
   "source": [
    "# Model Accuracy, how often is the classifier correct?\n",
    "print(\"Accuracy:\",metrics.accuracy_score(y_test, y_pred))"
   ]
  },
  {
   "cell_type": "markdown",
   "metadata": {},
   "source": [
    "## Results\n",
    "Creating calculated columns for Increasing outstanding balance per month column and Outstanding Bal had no meaningful effect and removing the repayment status, outstanding balance, bill amount lowered the accuracy by about a half percent\n"
   ]
  },
  {
   "cell_type": "code",
   "execution_count": null,
   "metadata": {},
   "outputs": [],
   "source": []
  }
 ],
 "metadata": {
  "kernelspec": {
   "display_name": "Python 3",
   "language": "python",
   "name": "python3"
  },
  "language_info": {
   "codemirror_mode": {
    "name": "ipython",
    "version": 3
   },
   "file_extension": ".py",
   "mimetype": "text/x-python",
   "name": "python",
   "nbconvert_exporter": "python",
   "pygments_lexer": "ipython3",
   "version": "3.6.7"
  }
 },
 "nbformat": 4,
 "nbformat_minor": 2
}
